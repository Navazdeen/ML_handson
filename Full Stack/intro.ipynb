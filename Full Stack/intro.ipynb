{
 "cells": [
  {
   "cell_type": "markdown",
   "metadata": {},
   "source": [
    "# Introduction to Full Stack Development"
   ]
  },
  {
   "cell_type": "markdown",
   "metadata": {},
   "source": [
    "**What is URL ?**\n",
    "\n",
    "*URL is uniform Resource Locator, it is specific and unique to each and every websites, used find the websites*"
   ]
  },
  {
   "cell_type": "markdown",
   "metadata": {},
   "source": [
    "**Protocols**\n",
    "\n",
    "*To transfer a HTMl(Hyper Text Markup Language) file we use https(Hyper Text Transfer Protocol)*"
   ]
  },
  {
   "cell_type": "markdown",
   "metadata": {},
   "source": [
    "```Note: Try pinging google.com command: \"ping google.com\" ```"
   ]
  },
  {
   "cell_type": "markdown",
   "metadata": {},
   "source": [
    "*This is how url is read by the internet*\n",
    "\n",
    "![url](url.png)"
   ]
  },
  {
   "cell_type": "markdown",
   "metadata": {},
   "source": [
    "***FLowchart of full end to end website development***\n",
    "\n",
    "<img src=\"flowchart.png\" alt=\"flowchart\" width=\"500\" height=\"400\">"
   ]
  },
  {
   "cell_type": "markdown",
   "metadata": {},
   "source": [
    "***Backend Softwares***\n",
    "- Database (MySQL)\n",
    "- Python(Django) -- web framework\n",
    "\n",
    "***Frontend Softwares***\n",
    "- HTML\n",
    "- CSS\n",
    "- Bootstrap -- responsive css framework"
   ]
  },
  {
   "cell_type": "markdown",
   "metadata": {},
   "source": [
    "# Database"
   ]
  },
  {
   "cell_type": "markdown",
   "metadata": {},
   "source": [
    "## *MySQL*\n",
    "\n",
    "***Installing configuring MySQL database***\n",
    "- *Download from this [link](https://dev.mysql.com/downloads/file/?id=514518)*\n",
    "- *Install MySQL on your personal Computer by following this [Video](https://www.youtube.com/watch?v=IqYfmckxeyE)*\n",
    "- *Configure Username as `root`*\n",
    "- *Configure Password as `root@123`*"
   ]
  },
  {
   "cell_type": "markdown",
   "metadata": {},
   "source": [
    "### Data Definition Language(DDL)\n",
    "\n",
    "1. CREATE\n",
    "2. ALTER\n",
    "3. DROP\n",
    "4. TRUNCATE\n",
    "\n",
    "### Data Manipulation Language(DML)\n",
    "\n",
    "1. SELECT\n",
    "2. INSERT\n",
    "3. UPDATE\n",
    "4. DELETE\n"
   ]
  },
  {
   "cell_type": "markdown",
   "metadata": {},
   "source": [
    "### SQL QUERY\n",
    "\n",
    "```\n",
    "USE     world       ;\n",
    " |         |        |\n",
    "command  arguments colon\n",
    "```"
   ]
  },
  {
   "cell_type": "markdown",
   "metadata": {},
   "source": [
    "```\n",
    "USE world ;\n",
    "\n",
    "SHOW DATABASES;\n",
    "\n",
    "SHOW TABLES;\n",
    "\n",
    "SELECT ID, Name, CountryCode FROM city LIMIT 10;\n",
    "\n",
    "-- Filter conditions Where \n",
    "SELECT ID, Name, CountryCode FROM city WHERE CountryCode = \"IND\" OR CountryCode = \"AFG\" LIMIT 5;\n",
    "\n",
    "-- SQL Functions\n",
    "SELECT count(ID) FROM city;\n",
    "\n",
    "SELECT concat(ID, NAME) FROM city;\n",
    "\n",
    "SELECT Name, max(population) AS \"Max_pop\" FROM city;\n",
    "SELECT Name, min(population) AS \"Max_pop\" FROM city;\n",
    "SELECT avg(population) AS \"Max_pop\" FROM city;\n",
    "\n",
    "SELECT count(CountryCode) FROM city;\n",
    "SELECT count(distinct CountryCode) FROM city;\n",
    "\n",
    "\n",
    "SELECT lower(CountryCode) AS \"lower_countrycode\", CountryCode FROM city;\n",
    "SELECT upper(district) AS \"upper_CountryCode\", district FROM city;\n",
    "```"
   ]
  },
  {
   "cell_type": "markdown",
   "metadata": {},
   "source": [
    "### Data Types\n",
    "\n",
    "1. Numeric\n",
    "   1. INT = -214783648 to 214783647\n",
    "   2. BIGINT\n",
    "   3. TINYINT -128 to 127\n",
    "   4. FLOAT - decimal point\n",
    "2. STRING\n",
    "   1. char - char(size) EG: char(5) - kamalesh max size = 1-255\n",
    "   2. varchar - max size = 1-65535\n",
    "   3. TEXT\n",
    "3. DateTime\n",
    "   1. Date - \"2002-10-23\" \"yyyy-mm-dd\"\n",
    "   2. Time - \"10:35:20\" \"HH:MM:SS\"\n",
    "   3. DateTime - \"2002-10-23 10:35:20\" \"yyyy-mm-dd HH:MM:SS\""
   ]
  },
  {
   "cell_type": "markdown",
   "metadata": {},
   "source": [
    "```\n",
    "-- Create a database in MySQL\n",
    "\n",
    "CREATE DATABASE Company;\n",
    "USE Company;\n",
    "\n",
    "CREATE TABLE Employee(Name Char(35), Employee_Number int, Work_start_time time, joining_date date);\n",
    "\n",
    "-- Insert Values into a table\n",
    "\n",
    "INSERT INTO Employee(Name, Employee_Number, Work_start_time, joining_date) values(\"Surya\", 2321, \"10:35\", \"2021-01-12\");\n",
    "INSERT INTO Employee(Name, Employee_Number, joining_date) values(\"Ajay\", 3454, \"2021-02-15\");\n",
    "INSERT INTO Employee Values(\"Prakash\", 4763, \"12:10\", \"2012-05-10\");\n",
    "\n",
    "SELECT * FROM Employee;\n",
    "\n",
    "-- ALTER THE TABLE\n",
    "ALTER TABLE Employee ADD COLUMN Work_end_time time;\n",
    "ALTER TABLE Employee MODIFY COLUMN Name char(35);\n",
    "ALTER TABLE Employee DROP COLUMN Work_end_time;\n",
    "ALTER TABLE Employee RENAME COLUMN Employee_Number TO Employee_id;\n",
    "\n",
    "\n",
    "SELECT * FROM Employee;\n",
    "\n",
    "-- DROP IN MySQL\n",
    "CREATE TABLE Test(Name Char(35), Employee_Number int, Work_start_time time, joining_date date);\n",
    "DROP TABLE test;\n",
    "\n",
    "CREATE DATABASE Test;\n",
    "DROP DATABASE Test;\n",
    "```"
   ]
  },
  {
   "cell_type": "markdown",
   "metadata": {},
   "source": [
    "### Constraints in MySQL\n",
    "\n",
    "1. primary key\n",
    "2. auto increment\n",
    "3. unique \n",
    "4. not null\n",
    "5. check \n",
    "6. default\n",
    "7. Foreign key"
   ]
  },
  {
   "cell_type": "markdown",
   "metadata": {},
   "source": [
    "### Advanced SQL FUNCTIONS\n",
    "\n",
    "1. GROUP BY\n",
    "2. Having\n",
    "3. where\n",
    "4. BETWEEN\n",
    "5. DATEDIFF\n",
    "6. DATE FUNCTIONS"
   ]
  },
  {
   "cell_type": "markdown",
   "metadata": {},
   "source": [
    "***Find number of cities in world database***\n",
    "******"
   ]
  },
  {
   "cell_type": "markdown",
   "metadata": {},
   "source": [
    "```\n",
    "DROP database school;\n",
    "\n",
    "Create database school;\n",
    "\n",
    "use school;\n",
    "\n",
    "Create table class(id int primary key auto_increment, standard char(35), section char(1));\n",
    "\n",
    "create table students(\n",
    "roll_nu int primary key auto_increment, \n",
    "Name char(100), \n",
    "age int, \n",
    "joining_date date default \"2022-11-26\", \n",
    "class_id int, \n",
    "foreign key (class_id) references class(id));\n",
    "\n",
    "INSERT INTO class(standard, section) values(\"8th std\", \"A\"), (\"8th std\", \"B\"), (\"8th std\", \"C\"), (\"9th std\", \"A\"), (\"9th std\", \"B\");\n",
    "\n",
    "select * from class;\n",
    "\n",
    "INSERT INTO students(Name, age, class_id) values(\"Prakash\", 12, 1), (\"Arun\", 13, 1), (\"Om\", 11, 2);\n",
    "\n",
    "select * from students;\n",
    "\n",
    "select * from students as s inner join class as c on c.id = s.class_id;\n",
    "\n",
    "-- world\n",
    "\n",
    "Use world;\n",
    "\n",
    "\n",
    "select * from city;\n",
    "\n",
    "select * from country;\n",
    "\n",
    "\n",
    "\n",
    "-- SQL ADVANCED FUNCTIONS\n",
    "-- GROUP BY\n",
    "\n",
    "\n",
    "select * from city;\n",
    "\n",
    "select count(distinct Name) as City_count, CountryCode, sum(Population) as Total_pop from city group by CountryCode having Total_pop < 10000;\n",
    "\n",
    "select * from countrylanguage;\n",
    "\n",
    "\n",
    "select countrycode as country,count(isofficial) as unofficial ,sum(percentage) as percentage \n",
    "from countrylanguage where isofficial=\"F\" group by countrycode;\n",
    "\n",
    "-- ORDER BY \n",
    "\n",
    "select Name, CountryCode from city order by countryCode, Name;\n",
    "\n",
    "\n",
    "```"
   ]
  },
  {
   "cell_type": "markdown",
   "metadata": {},
   "source": []
  }
 ],
 "metadata": {
  "kernelspec": {
   "display_name": "Python 3.8.13 ('rit_python')",
   "language": "python",
   "name": "python3"
  },
  "language_info": {
   "name": "python",
   "version": "3.8.13"
  },
  "orig_nbformat": 4,
  "vscode": {
   "interpreter": {
    "hash": "ac333bc5dc93f4a921f2c56470e56a67ccf5f79955049e67f9cfa4d7dee79d8a"
   }
  }
 },
 "nbformat": 4,
 "nbformat_minor": 2
}
