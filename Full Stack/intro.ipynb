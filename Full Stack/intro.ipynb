{
 "cells": [
  {
   "cell_type": "markdown",
   "metadata": {},
   "source": [
    "# Introduction to Full Stack Development"
   ]
  },
  {
   "cell_type": "markdown",
   "metadata": {},
   "source": [
    "**What is URL ?**\n",
    "\n",
    "*URL is uniform Resource Locator, it is specific and unique to each and every websites, used find the websites*"
   ]
  },
  {
   "cell_type": "markdown",
   "metadata": {},
   "source": [
    "**Protocols**\n",
    "\n",
    "*To transfer a HTMl(Hyper Text Markup Language) file we use https(Hyper Text Transfer Protocol)*"
   ]
  },
  {
   "cell_type": "markdown",
   "metadata": {},
   "source": [
    "```Note: Try pinging google.com command: \"ping google.com\" ```"
   ]
  },
  {
   "cell_type": "markdown",
   "metadata": {},
   "source": [
    "*This is how url is read by the internet*\n",
    "\n",
    "![url](url.png)"
   ]
  },
  {
   "cell_type": "markdown",
   "metadata": {},
   "source": [
    "***FLowchart of full end to end website development***\n",
    "\n",
    "<img src=\"flowchart.png\" alt=\"flowchart\" width=\"500\" height=\"400\">"
   ]
  },
  {
   "cell_type": "markdown",
   "metadata": {},
   "source": [
    "***Backend Softwares***\n",
    "- Database (MySQL)\n",
    "- Python(Django) -- web framework\n",
    "\n",
    "***Frontend Softwares***\n",
    "- HTML\n",
    "- CSS\n",
    "- Bootstrap -- responsive css framework"
   ]
  },
  {
   "cell_type": "markdown",
   "metadata": {},
   "source": [
    "# Database"
   ]
  },
  {
   "cell_type": "markdown",
   "metadata": {},
   "source": [
    "## *MySQL*\n",
    "\n",
    "***Installing configuring MySQL database***\n",
    "- *Download from this [link](https://dev.mysql.com/downloads/file/?id=514518)*\n",
    "- *Install MySQL on your personal Computer by following this [Video](https://www.youtube.com/watch?v=IqYfmckxeyE)*\n",
    "- *Configure Username as `root`*\n",
    "- *Configure Password as `root@123`*"
   ]
  },
  {
   "cell_type": "markdown",
   "metadata": {},
   "source": []
  }
 ],
 "metadata": {
  "kernelspec": {
   "display_name": "Python 3.8.13 ('rit_python')",
   "language": "python",
   "name": "python3"
  },
  "language_info": {
   "name": "python",
   "version": "3.8.13"
  },
  "orig_nbformat": 4,
  "vscode": {
   "interpreter": {
    "hash": "ac333bc5dc93f4a921f2c56470e56a67ccf5f79955049e67f9cfa4d7dee79d8a"
   }
  }
 },
 "nbformat": 4,
 "nbformat_minor": 2
}
