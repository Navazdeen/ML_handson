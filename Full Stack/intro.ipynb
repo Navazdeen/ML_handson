{
 "cells": [
  {
   "cell_type": "markdown",
   "metadata": {},
   "source": [
    "# Introduction to Full Stack Development"
   ]
  },
  {
   "cell_type": "markdown",
   "metadata": {},
   "source": [
    "**What is URL ?**\n",
    "\n",
    "*URL is uniform Resource Locator, it is specific and unique to each and every websites, used find the websites*"
   ]
  },
  {
   "cell_type": "markdown",
   "metadata": {},
   "source": [
    "**Protocols**\n",
    "\n",
    "*To transfer a HTMl(Hyper Text Markup Language) file we use https(Hyper Text Transfer Protocol)*"
   ]
  },
  {
   "cell_type": "markdown",
   "metadata": {},
   "source": [
    "```Note: Try pinging google.com command: \"ping google.com\" ```"
   ]
  },
  {
   "cell_type": "markdown",
   "metadata": {},
   "source": [
    "*This is how url is read by the internet*\n",
    "\n",
    "![url](url.png)"
   ]
  },
  {
   "cell_type": "markdown",
   "metadata": {},
   "source": [
    "***FLowchart of full end to end website development***\n",
    "\n",
    "<img src=\"flowchart.png\" alt=\"flowchart\" width=\"500\" height=\"400\">"
   ]
  },
  {
   "cell_type": "markdown",
   "metadata": {},
   "source": [
    "***Backend Softwares***\n",
    "- Database (MySQL)\n",
    "- Python(Django) -- web framework\n",
    "\n",
    "***Frontend Softwares***\n",
    "- HTML\n",
    "- CSS\n",
    "- Bootstrap -- responsive css framework"
   ]
  },
  {
   "cell_type": "markdown",
   "metadata": {},
   "source": [
    "# Database"
   ]
  },
  {
   "cell_type": "markdown",
   "metadata": {},
   "source": [
    "## *MySQL*\n",
    "\n",
    "***Installing configuring MySQL database***\n",
    "- *Download from this [link](https://dev.mysql.com/downloads/file/?id=514518)*\n",
    "- *Install MySQL on your personal Computer by following this [Video](https://www.youtube.com/watch?v=IqYfmckxeyE)*\n",
    "- *Configure Username as `root`*\n",
    "- *Configure Password as `root@123`*"
   ]
  },
  {
   "cell_type": "markdown",
   "metadata": {},
   "source": [
    "### Data Definition Language(DDL)\n",
    "\n",
    "1. CREATE\n",
    "2. ALTER\n",
    "3. DROP\n",
    "4. TRUNCATE\n",
    "\n",
    "### Data Manipulation Language(DML)\n",
    "\n",
    "1. SELECT\n",
    "2. INSERT\n",
    "3. UPDATE\n",
    "4. DELETE\n"
   ]
  },
  {
   "cell_type": "markdown",
   "metadata": {},
   "source": [
    "### SQL QUERY\n",
    "\n",
    "```\n",
    "USE     world       ;\n",
    " |         |        |\n",
    "command  arguments colon\n",
    "```"
   ]
  },
  {
   "cell_type": "markdown",
   "metadata": {},
   "source": [
    "```\n",
    "USE world ;\n",
    "\n",
    "SHOW DATABASES;\n",
    "\n",
    "SHOW TABLES;\n",
    "\n",
    "SELECT ID, Name, CountryCode FROM city LIMIT 10;\n",
    "\n",
    "-- Filter conditions Where \n",
    "SELECT ID, Name, CountryCode FROM city WHERE CountryCode = \"IND\" OR CountryCode = \"AFG\" LIMIT 5;\n",
    "\n",
    "-- SQL Functions\n",
    "SELECT count(ID) FROM city;\n",
    "\n",
    "SELECT concat(ID, NAME) FROM city;\n",
    "\n",
    "SELECT Name, max(population) AS \"Max_pop\" FROM city;\n",
    "SELECT Name, min(population) AS \"Max_pop\" FROM city;\n",
    "SELECT avg(population) AS \"Max_pop\" FROM city;\n",
    "\n",
    "SELECT count(CountryCode) FROM city;\n",
    "SELECT count(distinct CountryCode) FROM city;\n",
    "\n",
    "\n",
    "SELECT lower(CountryCode) AS \"lower_countrycode\", CountryCode FROM city;\n",
    "SELECT upper(district) AS \"upper_CountryCode\", district FROM city;\n",
    "```"
   ]
  },
  {
   "cell_type": "markdown",
   "metadata": {},
   "source": [
    "### Data Types\n",
    "\n",
    "1. Numeric\n",
    "   1. INT = -214783648 to 214783647\n",
    "   2. BIGINT\n",
    "   3. TINYINT -128 to 127\n",
    "   4. FLOAT - decimal point\n",
    "2. STRING\n",
    "   1. char - char(size) EG: char(5) - kamalesh max size = 1-255\n",
    "   2. varchar - max size = 1-65535\n",
    "   3. TEXT\n",
    "3. DateTime\n",
    "   1. Date - \"2002-10-23\" \"yyyy-mm-dd\"\n",
    "   2. Time - \"10:35:20\" \"HH:MM:SS\"\n",
    "   3. DateTime - \"2002-10-23 10:35:20\" \"yyyy-mm-dd HH:MM:SS\""
   ]
  },
  {
   "cell_type": "markdown",
   "metadata": {},
   "source": [
    "```\n",
    "-- Create a database in MySQL\n",
    "\n",
    "CREATE DATABASE Company;\n",
    "USE Company;\n",
    "\n",
    "CREATE TABLE Employee(Name Char(35), Employee_Number int, Work_start_time time, joining_date date);\n",
    "\n",
    "-- Insert Values into a table\n",
    "\n",
    "INSERT INTO Employee(Name, Employee_Number, Work_start_time, joining_date) values(\"Surya\", 2321, \"10:35\", \"2021-01-12\");\n",
    "INSERT INTO Employee(Name, Employee_Number, joining_date) values(\"Ajay\", 3454, \"2021-02-15\");\n",
    "INSERT INTO Employee Values(\"Prakash\", 4763, \"12:10\", \"2012-05-10\");\n",
    "\n",
    "SELECT * FROM Employee;\n",
    "\n",
    "-- ALTER THE TABLE\n",
    "ALTER TABLE Employee ADD COLUMN Work_end_time time;\n",
    "ALTER TABLE Employee MODIFY COLUMN Name char(35);\n",
    "ALTER TABLE Employee DROP COLUMN Work_end_time;\n",
    "ALTER TABLE Employee RENAME COLUMN Employee_Number TO Employee_id;\n",
    "\n",
    "\n",
    "SELECT * FROM Employee;\n",
    "\n",
    "-- DROP IN MySQL\n",
    "CREATE TABLE Test(Name Char(35), Employee_Number int, Work_start_time time, joining_date date);\n",
    "DROP TABLE test;\n",
    "\n",
    "CREATE DATABASE Test;\n",
    "DROP DATABASE Test;\n",
    "```"
   ]
  },
  {
   "cell_type": "markdown",
   "metadata": {},
   "source": []
  }
 ],
 "metadata": {
  "kernelspec": {
   "display_name": "Python 3.8.13 ('rit_python')",
   "language": "python",
   "name": "python3"
  },
  "language_info": {
   "name": "python",
   "version": "3.8.13"
  },
  "orig_nbformat": 4,
  "vscode": {
   "interpreter": {
    "hash": "ac333bc5dc93f4a921f2c56470e56a67ccf5f79955049e67f9cfa4d7dee79d8a"
   }
  }
 },
 "nbformat": 4,
 "nbformat_minor": 2
}
