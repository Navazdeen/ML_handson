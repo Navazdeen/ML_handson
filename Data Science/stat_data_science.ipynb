{
 "cells": [
  {
   "cell_type": "markdown",
   "metadata": {},
   "source": [
    "## Setup Virtual Environment"
   ]
  },
  {
   "cell_type": "markdown",
   "metadata": {},
   "source": [
    "*`! python -m venv venv`* -- *To create the environment*\n",
    "************\n",
    "*`'.\\Data Science\\venv\\Scripts\\activate.bat'`* -- *To Activate the environment*\n",
    "************\n",
    "*`'.\\Data Science\\venv\\Scripts\\deactivate.bat'`* -- *To Deactivate the environment*\n",
    "*************\n",
    "*`pip install -r '.\\Data Science\\requirements.txt'`* - *To Install the dependencies*\n",
    "*************"
   ]
  }
 ],
 "metadata": {
  "kernelspec": {
   "display_name": "Python 3.8.15 ('rit_datascience')",
   "language": "python",
   "name": "python3"
  },
  "language_info": {
   "name": "python",
   "version": "3.8.15"
  },
  "orig_nbformat": 4,
  "vscode": {
   "interpreter": {
    "hash": "3208567acf1810076a10f716f3ca4c5c3f7705604b2346d740ca916b37e23d5d"
   }
  }
 },
 "nbformat": 4,
 "nbformat_minor": 2
}
