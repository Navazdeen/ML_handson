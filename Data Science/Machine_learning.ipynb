{
 "cells": [
  {
   "cell_type": "markdown",
   "metadata": {},
   "source": [
    "## Machine Learning\n",
    "\n",
    "<img src='Ai.png' widht=400px height=400px>\n"
   ]
  },
  {
   "cell_type": "markdown",
   "metadata": {},
   "source": [
    "### Types of machine learning\n",
    "\n",
    "* Supervised ML\n",
    "  * Regression\n",
    "  * Classification\n",
    "* UnSupervised ML\n",
    "  * Clustering\n",
    "* Semi Supervised or reinforced ML"
   ]
  }
 ],
 "metadata": {
  "language_info": {
   "name": "python"
  },
  "orig_nbformat": 4
 },
 "nbformat": 4,
 "nbformat_minor": 2
}
