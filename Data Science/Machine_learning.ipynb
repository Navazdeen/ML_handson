{
 "cells": [
  {
   "cell_type": "markdown",
   "metadata": {},
   "source": [
    "## Machine Learning\n",
    "\n",
    "<img src='Ai.png' widht=400px height=400px>\n"
   ]
  },
  {
   "cell_type": "markdown",
   "metadata": {},
   "source": [
    "### Types of machine learning\n",
    "\n",
    "* Supervised ML\n",
    "  * Regression\n",
    "  * Classification\n",
    "* UnSupervised ML\n",
    "  * Clustering\n",
    "* Semi Supervised or reinforced ML"
   ]
  },
  {
   "cell_type": "markdown",
   "metadata": {},
   "source": [
    "## Scikit learn\n",
    "\n",
    "### Model Flow\n",
    "1. Create/Select a model\n",
    "2. Fit/Train a model <a href=\"https://scikit-learn.org/0.21/modules/classes.html\"> Api Reference </a>\n",
    "3. predict from model\n",
    "4. Calculate model score"
   ]
  },
  {
   "cell_type": "markdown",
   "metadata": {},
   "source": [
    "### ML Terminologies\n",
    "1. Sample, Instance, Features, X_Variable/X_value, predictor variable\n",
    "2. Label, Response, y_variable/y_value, prediction variable"
   ]
  },
  {
   "cell_type": "markdown",
   "metadata": {},
   "source": [
    "<img src=\"ml_map.png\" width=1000px height=800px />"
   ]
  },
  {
   "cell_type": "markdown",
   "metadata": {},
   "source": [
    "### Calculating Model scores\n",
    "\n",
    "#### Regression Problem\n",
    "1. Mean Absolute Error\n",
    "2. Mean Squared Error\n",
    "3. Root Mean Square Error\n",
    "4. Mean absolute percentage Error\n",
    "5. r2\n",
    "#### Classification Problems\n",
    "1. Classification report\n",
    "2. accuracy\n",
    "3. Precision\n",
    "4. Recall \n",
    "5. F1\n",
    "6. Confusion Matrix"
   ]
  },
  {
   "cell_type": "markdown",
   "metadata": {},
   "source": []
  }
 ],
 "metadata": {
  "language_info": {
   "name": "python"
  },
  "orig_nbformat": 4
 },
 "nbformat": 4,
 "nbformat_minor": 2
}
