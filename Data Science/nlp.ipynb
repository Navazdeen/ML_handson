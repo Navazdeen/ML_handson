{
 "cells": [
  {
   "cell_type": "markdown",
   "metadata": {},
   "source": [
    "### NLP\n",
    "* lemming\n",
    "* stemming\n",
    "* tf-idf\n",
    "* Bag of words(BOW)\n",
    "* tokenization\n",
    "* shingles"
   ]
  },
  {
   "cell_type": "code",
   "execution_count": 2,
   "metadata": {},
   "outputs": [
    {
     "name": "stdout",
     "output_type": "stream",
     "text": [
      "showing info https://raw.githubusercontent.com/nltk/nltk_data/gh-pages/index.xml\n"
     ]
    },
    {
     "data": {
      "text/plain": [
       "True"
      ]
     },
     "execution_count": 2,
     "metadata": {},
     "output_type": "execute_result"
    }
   ],
   "source": [
    "import nltk\n",
    "\n",
    "nltk.download()"
   ]
  },
  {
   "cell_type": "code",
   "execution_count": 3,
   "metadata": {},
   "outputs": [],
   "source": [
    "data = \"\"\"Indians or Indian people are the citizens and nationals of the Republic of India. \n",
    "According to the 2011 Indian national census, the population of India stood at over 1.2 billion \n",
    "people, making it the world's second-most populous country, containing 17.50 percent of the global population. \n",
    "In addition to the Indian population, the Indian overseas diaspora also boasts large numbers, \n",
    "particularly in the Arab states of the Persian Gulf and the Western world. \n",
    "While the demonym \"Indian\" applies to people originating from the present-day Republic of India, \n",
    "it was also used as the identifying term for people originating from what is now Pakistan and Bangladesh prior to the partition of British India in 1947.\n",
    "\n",
    "Particularly in North America, the terms \"Asian Indian\" and \"East Indian\" are sometimes used to differentiate \n",
    "Indians from the indigenous peoples of the Americas; although the misidentification of indigenous Americans as \n",
    "Indians occurred during the European colonization of the Americas, the term \"Indian\" is still used as an identifier \n",
    "for indigenous populations in North America and the Caribbean, but very rarely now and are called indigenous, \n",
    "Amerindian, and specifically First Nations in Canada, and Native American in the United States, \n",
    "including in official discourse and in law.\"\"\""
   ]
  },
  {
   "cell_type": "code",
   "execution_count": 5,
   "metadata": {},
   "outputs": [],
   "source": [
    "from nltk.corpus import stopwords\n",
    "from nltk.tokenize import sent_tokenize, word_tokenize\n",
    "from nltk.stem import PorterStemmer, WordNetLemmatizer"
   ]
  },
  {
   "cell_type": "code",
   "execution_count": 8,
   "metadata": {},
   "outputs": [
    {
     "data": {
      "text/plain": [
       "['Indians or Indian people are the citizens and nationals of the Republic of India.',\n",
       " \"According to the 2011 Indian national census, the population of India stood at over 1.2 billion \\npeople, making it the world's second-most populous country, containing 17.50 percent of the global population.\",\n",
       " 'In addition to the Indian population, the Indian overseas diaspora also boasts large numbers, \\nparticularly in the Arab states of the Persian Gulf and the Western world.',\n",
       " 'While the demonym \"Indian\" applies to people originating from the present-day Republic of India, \\nit was also used as the identifying term for people originating from what is now Pakistan and Bangladesh prior to the partition of British India in 1947.',\n",
       " 'Particularly in North America, the terms \"Asian Indian\" and \"East Indian\" are sometimes used to differentiate \\nIndians from the indigenous peoples of the Americas; although the misidentification of indigenous Americans as \\nIndians occurred during the European colonization of the Americas, the term \"Indian\" is still used as an identifier \\nfor indigenous populations in North America and the Caribbean, but very rarely now and are called indigenous, \\nAmerindian, and specifically First Nations in Canada, and Native American in the United States, \\nincluding in official discourse and in law.']"
      ]
     },
     "execution_count": 8,
     "metadata": {},
     "output_type": "execute_result"
    }
   ],
   "source": [
    "sent_tokens = sent_tokenize(data)\n",
    "\n",
    "sent_tokens"
   ]
  },
  {
   "cell_type": "code",
   "execution_count": 9,
   "metadata": {},
   "outputs": [
    {
     "data": {
      "text/plain": [
       "5"
      ]
     },
     "execution_count": 9,
     "metadata": {},
     "output_type": "execute_result"
    }
   ],
   "source": [
    "len(sent_tokens)"
   ]
  },
  {
   "cell_type": "code",
   "execution_count": 23,
   "metadata": {},
   "outputs": [
    {
     "data": {
      "text/plain": [
       "228"
      ]
     },
     "execution_count": 23,
     "metadata": {},
     "output_type": "execute_result"
    }
   ],
   "source": [
    "word_tokens = []\n",
    "[word_tokens.extend(word_tokenize(sent))for sent in sent_tokens]\n",
    "\n",
    "len(word_tokens)"
   ]
  },
  {
   "cell_type": "code",
   "execution_count": 27,
   "metadata": {},
   "outputs": [
    {
     "data": {
      "text/plain": [
       "115"
      ]
     },
     "execution_count": 27,
     "metadata": {},
     "output_type": "execute_result"
    }
   ],
   "source": [
    "word_tokens = list(set(word_tokens))\n",
    "\n",
    "len(word_tokens)"
   ]
  },
  {
   "cell_type": "code",
   "execution_count": 33,
   "metadata": {},
   "outputs": [
    {
     "data": {
      "text/plain": [
       "94"
      ]
     },
     "execution_count": 33,
     "metadata": {},
     "output_type": "execute_result"
    }
   ],
   "source": [
    "word_tokens =  [word for word in word_tokens if word not in set(stopwords.words('english'))]\n",
    "\n",
    "len(word_tokens)"
   ]
  },
  {
   "cell_type": "code",
   "execution_count": 44,
   "metadata": {},
   "outputs": [
    {
     "data": {
      "text/plain": [
       "88"
      ]
     },
     "execution_count": 44,
     "metadata": {},
     "output_type": "execute_result"
    }
   ],
   "source": [
    "from string import punctuation\n",
    "\n",
    "word_tokens = [word for word in word_tokens if word not in punctuation and word not in [\"''\", \"``\", \"'s\"]]\n",
    "\n",
    "len(word_tokens)"
   ]
  },
  {
   "cell_type": "code",
   "execution_count": 69,
   "metadata": {},
   "outputs": [
    {
     "data": {
      "text/plain": [
       "['sometimes',\n",
       " 'caribbean',\n",
       " 'large',\n",
       " 'numbers',\n",
       " 'called',\n",
       " 'citizens',\n",
       " 'prior',\n",
       " 'america',\n",
       " 'used',\n",
       " 'indigenous']"
      ]
     },
     "execution_count": 69,
     "metadata": {},
     "output_type": "execute_result"
    }
   ],
   "source": [
    "word_tokens = [word.lower() for word in word_tokens]\n",
    "\n",
    "word_tokens[:10]"
   ]
  },
  {
   "cell_type": "code",
   "execution_count": 70,
   "metadata": {},
   "outputs": [
    {
     "data": {
      "text/plain": [
       "['sometimes', 'caribbean', 'large', 'number', 'called']"
      ]
     },
     "execution_count": 70,
     "metadata": {},
     "output_type": "execute_result"
    }
   ],
   "source": [
    "lemmer = WordNetLemmatizer()\n",
    "word_tokens_lem = [lemmer.lemmatize(word) for word in word_tokens]\n",
    "\n",
    "word_tokens_lem[:5]"
   ]
  },
  {
   "cell_type": "code",
   "execution_count": 71,
   "metadata": {},
   "outputs": [
    {
     "data": {
      "text/plain": [
       "['sometim', 'caribbean', 'larg', 'number', 'call']"
      ]
     },
     "execution_count": 71,
     "metadata": {},
     "output_type": "execute_result"
    }
   ],
   "source": [
    "stemmer = PorterStemmer()\n",
    "word_tokens_stem = [stemmer.stem(word) for word in word_tokens]\n",
    "\n",
    "word_tokens_stem[:5]"
   ]
  },
  {
   "cell_type": "markdown",
   "metadata": {},
   "source": [
    "BOW(Bag of Words) - Collection of words to represent a sentence with word count"
   ]
  },
  {
   "cell_type": "code",
   "execution_count": 82,
   "metadata": {},
   "outputs": [],
   "source": [
    "from sklearn.feature_extraction.text import CountVectorizer\n",
    "import pandas as pd\n",
    "\n",
    "cv = CountVectorizer()\n",
    "\n",
    "df = pd.DataFrame(data = cv.fit_transform(word_tokens_lem).toarray().T, columns=word_tokens_lem)"
   ]
  },
  {
   "cell_type": "code",
   "execution_count": 83,
   "metadata": {},
   "outputs": [
    {
     "data": {
      "text/html": [
       "<div>\n",
       "<style scoped>\n",
       "    .dataframe tbody tr th:only-of-type {\n",
       "        vertical-align: middle;\n",
       "    }\n",
       "\n",
       "    .dataframe tbody tr th {\n",
       "        vertical-align: top;\n",
       "    }\n",
       "\n",
       "    .dataframe thead th {\n",
       "        text-align: right;\n",
       "    }\n",
       "</style>\n",
       "<table border=\"1\" class=\"dataframe\">\n",
       "  <thead>\n",
       "    <tr style=\"text-align: right;\">\n",
       "      <th></th>\n",
       "      <th>sometim</th>\n",
       "      <th>caribbean</th>\n",
       "      <th>larg</th>\n",
       "      <th>number</th>\n",
       "      <th>call</th>\n",
       "      <th>citizen</th>\n",
       "      <th>prior</th>\n",
       "      <th>america</th>\n",
       "      <th>use</th>\n",
       "      <th>indigen</th>\n",
       "      <th>...</th>\n",
       "      <th>state</th>\n",
       "      <th>popul</th>\n",
       "      <th>partit</th>\n",
       "      <th>indian</th>\n",
       "      <th>demonym</th>\n",
       "      <th>pakistan</th>\n",
       "      <th>particularli</th>\n",
       "      <th>make</th>\n",
       "      <th>appli</th>\n",
       "      <th>unit</th>\n",
       "    </tr>\n",
       "  </thead>\n",
       "  <tbody>\n",
       "    <tr>\n",
       "      <th>0</th>\n",
       "      <td>0</td>\n",
       "      <td>0</td>\n",
       "      <td>0</td>\n",
       "      <td>0</td>\n",
       "      <td>0</td>\n",
       "      <td>0</td>\n",
       "      <td>0</td>\n",
       "      <td>0</td>\n",
       "      <td>0</td>\n",
       "      <td>0</td>\n",
       "      <td>...</td>\n",
       "      <td>0</td>\n",
       "      <td>0</td>\n",
       "      <td>0</td>\n",
       "      <td>0</td>\n",
       "      <td>0</td>\n",
       "      <td>0</td>\n",
       "      <td>0</td>\n",
       "      <td>0</td>\n",
       "      <td>0</td>\n",
       "      <td>0</td>\n",
       "    </tr>\n",
       "    <tr>\n",
       "      <th>1</th>\n",
       "      <td>0</td>\n",
       "      <td>0</td>\n",
       "      <td>0</td>\n",
       "      <td>0</td>\n",
       "      <td>0</td>\n",
       "      <td>0</td>\n",
       "      <td>0</td>\n",
       "      <td>0</td>\n",
       "      <td>0</td>\n",
       "      <td>0</td>\n",
       "      <td>...</td>\n",
       "      <td>0</td>\n",
       "      <td>0</td>\n",
       "      <td>0</td>\n",
       "      <td>0</td>\n",
       "      <td>0</td>\n",
       "      <td>0</td>\n",
       "      <td>0</td>\n",
       "      <td>0</td>\n",
       "      <td>0</td>\n",
       "      <td>0</td>\n",
       "    </tr>\n",
       "    <tr>\n",
       "      <th>2</th>\n",
       "      <td>0</td>\n",
       "      <td>0</td>\n",
       "      <td>0</td>\n",
       "      <td>0</td>\n",
       "      <td>0</td>\n",
       "      <td>0</td>\n",
       "      <td>0</td>\n",
       "      <td>0</td>\n",
       "      <td>0</td>\n",
       "      <td>0</td>\n",
       "      <td>...</td>\n",
       "      <td>0</td>\n",
       "      <td>0</td>\n",
       "      <td>0</td>\n",
       "      <td>0</td>\n",
       "      <td>0</td>\n",
       "      <td>0</td>\n",
       "      <td>0</td>\n",
       "      <td>0</td>\n",
       "      <td>0</td>\n",
       "      <td>0</td>\n",
       "    </tr>\n",
       "    <tr>\n",
       "      <th>3</th>\n",
       "      <td>0</td>\n",
       "      <td>0</td>\n",
       "      <td>0</td>\n",
       "      <td>0</td>\n",
       "      <td>0</td>\n",
       "      <td>0</td>\n",
       "      <td>0</td>\n",
       "      <td>0</td>\n",
       "      <td>0</td>\n",
       "      <td>0</td>\n",
       "      <td>...</td>\n",
       "      <td>0</td>\n",
       "      <td>0</td>\n",
       "      <td>0</td>\n",
       "      <td>0</td>\n",
       "      <td>0</td>\n",
       "      <td>0</td>\n",
       "      <td>0</td>\n",
       "      <td>0</td>\n",
       "      <td>0</td>\n",
       "      <td>0</td>\n",
       "    </tr>\n",
       "    <tr>\n",
       "      <th>4</th>\n",
       "      <td>0</td>\n",
       "      <td>0</td>\n",
       "      <td>0</td>\n",
       "      <td>0</td>\n",
       "      <td>0</td>\n",
       "      <td>0</td>\n",
       "      <td>0</td>\n",
       "      <td>0</td>\n",
       "      <td>0</td>\n",
       "      <td>0</td>\n",
       "      <td>...</td>\n",
       "      <td>0</td>\n",
       "      <td>0</td>\n",
       "      <td>0</td>\n",
       "      <td>0</td>\n",
       "      <td>0</td>\n",
       "      <td>0</td>\n",
       "      <td>0</td>\n",
       "      <td>0</td>\n",
       "      <td>0</td>\n",
       "      <td>0</td>\n",
       "    </tr>\n",
       "  </tbody>\n",
       "</table>\n",
       "<p>5 rows × 88 columns</p>\n",
       "</div>"
      ],
      "text/plain": [
       "   sometim  caribbean  larg  number  call  citizen  prior  america  use  \\\n",
       "0        0          0     0       0     0        0      0        0    0   \n",
       "1        0          0     0       0     0        0      0        0    0   \n",
       "2        0          0     0       0     0        0      0        0    0   \n",
       "3        0          0     0       0     0        0      0        0    0   \n",
       "4        0          0     0       0     0        0      0        0    0   \n",
       "\n",
       "   indigen  ...  state  popul  partit  indian  demonym  pakistan  \\\n",
       "0        0  ...      0      0       0       0        0         0   \n",
       "1        0  ...      0      0       0       0        0         0   \n",
       "2        0  ...      0      0       0       0        0         0   \n",
       "3        0  ...      0      0       0       0        0         0   \n",
       "4        0  ...      0      0       0       0        0         0   \n",
       "\n",
       "   particularli  make  appli  unit  \n",
       "0             0     0      0     0  \n",
       "1             0     0      0     0  \n",
       "2             0     0      0     0  \n",
       "3             0     0      0     0  \n",
       "4             0     0      0     0  \n",
       "\n",
       "[5 rows x 88 columns]"
      ]
     },
     "execution_count": 83,
     "metadata": {},
     "output_type": "execute_result"
    }
   ],
   "source": [
    "cv = CountVectorizer()\n",
    "df2 = pd.DataFrame(data = cv.fit_transform(word_tokens_stem).toarray().T, columns=word_tokens_stem)\n",
    "df2.head()"
   ]
  },
  {
   "cell_type": "code",
   "execution_count": 89,
   "metadata": {},
   "outputs": [
    {
     "data": {
      "text/html": [
       "<div>\n",
       "<style scoped>\n",
       "    .dataframe tbody tr th:only-of-type {\n",
       "        vertical-align: middle;\n",
       "    }\n",
       "\n",
       "    .dataframe tbody tr th {\n",
       "        vertical-align: top;\n",
       "    }\n",
       "\n",
       "    .dataframe thead th {\n",
       "        text-align: right;\n",
       "    }\n",
       "</style>\n",
       "<table border=\"1\" class=\"dataframe\">\n",
       "  <thead>\n",
       "    <tr style=\"text-align: right;\">\n",
       "      <th></th>\n",
       "      <th>sometimes</th>\n",
       "      <th>caribbean</th>\n",
       "      <th>large</th>\n",
       "      <th>number</th>\n",
       "      <th>called</th>\n",
       "      <th>citizen</th>\n",
       "      <th>prior</th>\n",
       "      <th>america</th>\n",
       "      <th>used</th>\n",
       "      <th>indigenous</th>\n",
       "      <th>...</th>\n",
       "      <th>state</th>\n",
       "      <th>populous</th>\n",
       "      <th>partition</th>\n",
       "      <th>indian</th>\n",
       "      <th>demonym</th>\n",
       "      <th>pakistan</th>\n",
       "      <th>particularly</th>\n",
       "      <th>making</th>\n",
       "      <th>applies</th>\n",
       "      <th>united</th>\n",
       "    </tr>\n",
       "  </thead>\n",
       "  <tbody>\n",
       "    <tr>\n",
       "      <th>0</th>\n",
       "      <td>0.0</td>\n",
       "      <td>0.0</td>\n",
       "      <td>0.0</td>\n",
       "      <td>0.0</td>\n",
       "      <td>0.0</td>\n",
       "      <td>0.0</td>\n",
       "      <td>0.0</td>\n",
       "      <td>0.0</td>\n",
       "      <td>0.0</td>\n",
       "      <td>0.0</td>\n",
       "      <td>...</td>\n",
       "      <td>0.0</td>\n",
       "      <td>0.0</td>\n",
       "      <td>0.0</td>\n",
       "      <td>0.0</td>\n",
       "      <td>0.0</td>\n",
       "      <td>0.0</td>\n",
       "      <td>0.0</td>\n",
       "      <td>0.0</td>\n",
       "      <td>0.0</td>\n",
       "      <td>0.0</td>\n",
       "    </tr>\n",
       "    <tr>\n",
       "      <th>1</th>\n",
       "      <td>0.0</td>\n",
       "      <td>0.0</td>\n",
       "      <td>0.0</td>\n",
       "      <td>0.0</td>\n",
       "      <td>0.0</td>\n",
       "      <td>0.0</td>\n",
       "      <td>0.0</td>\n",
       "      <td>0.0</td>\n",
       "      <td>0.0</td>\n",
       "      <td>0.0</td>\n",
       "      <td>...</td>\n",
       "      <td>0.0</td>\n",
       "      <td>0.0</td>\n",
       "      <td>0.0</td>\n",
       "      <td>0.0</td>\n",
       "      <td>0.0</td>\n",
       "      <td>0.0</td>\n",
       "      <td>0.0</td>\n",
       "      <td>0.0</td>\n",
       "      <td>0.0</td>\n",
       "      <td>0.0</td>\n",
       "    </tr>\n",
       "    <tr>\n",
       "      <th>2</th>\n",
       "      <td>0.0</td>\n",
       "      <td>0.0</td>\n",
       "      <td>0.0</td>\n",
       "      <td>0.0</td>\n",
       "      <td>0.0</td>\n",
       "      <td>0.0</td>\n",
       "      <td>0.0</td>\n",
       "      <td>0.0</td>\n",
       "      <td>0.0</td>\n",
       "      <td>0.0</td>\n",
       "      <td>...</td>\n",
       "      <td>0.0</td>\n",
       "      <td>0.0</td>\n",
       "      <td>0.0</td>\n",
       "      <td>0.0</td>\n",
       "      <td>0.0</td>\n",
       "      <td>0.0</td>\n",
       "      <td>0.0</td>\n",
       "      <td>0.0</td>\n",
       "      <td>0.0</td>\n",
       "      <td>0.0</td>\n",
       "    </tr>\n",
       "    <tr>\n",
       "      <th>3</th>\n",
       "      <td>0.0</td>\n",
       "      <td>0.0</td>\n",
       "      <td>0.0</td>\n",
       "      <td>0.0</td>\n",
       "      <td>0.0</td>\n",
       "      <td>0.0</td>\n",
       "      <td>0.0</td>\n",
       "      <td>0.0</td>\n",
       "      <td>0.0</td>\n",
       "      <td>0.0</td>\n",
       "      <td>...</td>\n",
       "      <td>0.0</td>\n",
       "      <td>0.0</td>\n",
       "      <td>0.0</td>\n",
       "      <td>0.0</td>\n",
       "      <td>0.0</td>\n",
       "      <td>0.0</td>\n",
       "      <td>0.0</td>\n",
       "      <td>0.0</td>\n",
       "      <td>0.0</td>\n",
       "      <td>0.0</td>\n",
       "    </tr>\n",
       "    <tr>\n",
       "      <th>4</th>\n",
       "      <td>0.0</td>\n",
       "      <td>0.0</td>\n",
       "      <td>0.0</td>\n",
       "      <td>0.0</td>\n",
       "      <td>0.0</td>\n",
       "      <td>0.0</td>\n",
       "      <td>0.0</td>\n",
       "      <td>0.0</td>\n",
       "      <td>0.0</td>\n",
       "      <td>0.0</td>\n",
       "      <td>...</td>\n",
       "      <td>0.0</td>\n",
       "      <td>0.0</td>\n",
       "      <td>0.0</td>\n",
       "      <td>0.0</td>\n",
       "      <td>0.0</td>\n",
       "      <td>0.0</td>\n",
       "      <td>0.0</td>\n",
       "      <td>0.0</td>\n",
       "      <td>0.0</td>\n",
       "      <td>0.0</td>\n",
       "    </tr>\n",
       "  </tbody>\n",
       "</table>\n",
       "<p>5 rows × 88 columns</p>\n",
       "</div>"
      ],
      "text/plain": [
       "   sometimes  caribbean  large  number  called  citizen  prior  america  used  \\\n",
       "0        0.0        0.0    0.0     0.0     0.0      0.0    0.0      0.0   0.0   \n",
       "1        0.0        0.0    0.0     0.0     0.0      0.0    0.0      0.0   0.0   \n",
       "2        0.0        0.0    0.0     0.0     0.0      0.0    0.0      0.0   0.0   \n",
       "3        0.0        0.0    0.0     0.0     0.0      0.0    0.0      0.0   0.0   \n",
       "4        0.0        0.0    0.0     0.0     0.0      0.0    0.0      0.0   0.0   \n",
       "\n",
       "   indigenous  ...  state  populous  partition  indian  demonym  pakistan  \\\n",
       "0         0.0  ...    0.0       0.0        0.0     0.0      0.0       0.0   \n",
       "1         0.0  ...    0.0       0.0        0.0     0.0      0.0       0.0   \n",
       "2         0.0  ...    0.0       0.0        0.0     0.0      0.0       0.0   \n",
       "3         0.0  ...    0.0       0.0        0.0     0.0      0.0       0.0   \n",
       "4         0.0  ...    0.0       0.0        0.0     0.0      0.0       0.0   \n",
       "\n",
       "   particularly  making  applies  united  \n",
       "0           0.0     0.0      0.0     0.0  \n",
       "1           0.0     0.0      0.0     0.0  \n",
       "2           0.0     0.0      0.0     0.0  \n",
       "3           0.0     0.0      0.0     0.0  \n",
       "4           0.0     0.0      0.0     0.0  \n",
       "\n",
       "[5 rows x 88 columns]"
      ]
     },
     "execution_count": 89,
     "metadata": {},
     "output_type": "execute_result"
    }
   ],
   "source": [
    "from sklearn.feature_extraction.text import TfidfVectorizer\n",
    "\n",
    "tfidf = TfidfVectorizer()\n",
    "\n",
    "df = pd.DataFrame(data = tfidf.fit_transform(word_tokens_lem).toarray().T, columns=word_tokens_lem)\n",
    "\n",
    "df.head()"
   ]
  },
  {
   "cell_type": "markdown",
   "metadata": {},
   "source": [
    "* wordnetvectorizer\n",
    "* fastText\n",
    "* "
   ]
  }
 ],
 "metadata": {
  "kernelspec": {
   "display_name": "Python 3.8.15 ('rit_datascience')",
   "language": "python",
   "name": "python3"
  },
  "language_info": {
   "codemirror_mode": {
    "name": "ipython",
    "version": 3
   },
   "file_extension": ".py",
   "mimetype": "text/x-python",
   "name": "python",
   "nbconvert_exporter": "python",
   "pygments_lexer": "ipython3",
   "version": "3.8.15"
  },
  "orig_nbformat": 4,
  "vscode": {
   "interpreter": {
    "hash": "3208567acf1810076a10f716f3ca4c5c3f7705604b2346d740ca916b37e23d5d"
   }
  }
 },
 "nbformat": 4,
 "nbformat_minor": 2
}
