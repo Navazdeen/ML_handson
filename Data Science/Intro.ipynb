{
 "cells": [
  {
   "cell_type": "markdown",
   "metadata": {},
   "source": [
    "# **Intro to Datascience**"
   ]
  },
  {
   "cell_type": "markdown",
   "metadata": {},
   "source": [
    "#### *Database*\n",
    "\n",
    "*It is a piece of software that stores and manages data*\n",
    "\n",
    "*SQL - Structure Query language*"
   ]
  },
  {
   "cell_type": "markdown",
   "metadata": {},
   "source": [
    "**Datascience Flow chart**\n",
    "\n",
    "<img src=\"flowchart.png\" alt=\"Flowchart\" width=\"800px\">"
   ]
  },
  {
   "cell_type": "markdown",
   "metadata": {},
   "source": [
    "***List of common databases:***\n",
    "\n",
    "- MySQL\n",
    "- sqllite\n",
    "- Oracle\n",
    "- Postgres\n",
    "- Neo4j"
   ]
  },
  {
   "cell_type": "markdown",
   "metadata": {},
   "source": [
    "### **Data Manipulation Tools in python**\n",
    "\n",
    "- Numpy\n",
    "- Pandas\n",
    "\n",
    "### **Data Visualization Tools in python**\n",
    "\n",
    "- Matplotlib\n",
    "- Seaborne\n",
    "\n",
    "### **ML Algorithm package in python**\n",
    "\n",
    "- Scipy \n",
    "- Scikit Learn"
   ]
  },
  {
   "cell_type": "markdown",
   "metadata": {},
   "source": [
    "## *MySQL*\n",
    "\n",
    "***Installing configuring MySQL database***\n",
    "- *Download from this [link](https://dev.mysql.com/downloads/file/?id=514518)*\n",
    "- *Install MySQL on your personal Computer by following this [Video](https://www.youtube.com/watch?v=IqYfmckxeyE)*\n",
    "- *Configure Username as `root`*\n",
    "- *Configure Password as `root@123`*"
   ]
  },
  {
   "cell_type": "markdown",
   "metadata": {},
   "source": [
    "***Operations in MySQL***\n",
    "\n",
    "*CRUD - Create Read Update Delete*"
   ]
  },
  {
   "cell_type": "markdown",
   "metadata": {},
   "source": [
    "### Data Definition Language(DDL)\n",
    "\n",
    "1. CREATE\n",
    "2. ALTER\n",
    "3. DROP\n",
    "4. TRUNCATE\n",
    "\n",
    "### Data Manipulation Language(DML)\n",
    "\n",
    "1. SELECT\n",
    "2. INSERT\n",
    "3. UPDATE\n",
    "4. DELETE\n"
   ]
  },
  {
   "cell_type": "markdown",
   "metadata": {},
   "source": [
    "### SQL QUERY\n",
    "\n",
    "```\n",
    "USE     world       ;\n",
    " |         |        |\n",
    "command  arguments semicolon\n",
    "```"
   ]
  },
  {
   "cell_type": "markdown",
   "metadata": {},
   "source": [
    "```\n",
    "USE world;\n",
    "\n",
    "-- show all the tables inside the database.\n",
    "SHOW tables;\n",
    "\n",
    "-- select command select the specific column, use * if we need select all column\n",
    "SELECT * FROM city;\n",
    "SELECT ID, Name, District FROM city;\n",
    "\n",
    "-- filtering in mysql Where\n",
    "SELECT * FROM city WHERE CountryCode=\"IND\" AND Name=\"Delhi\";\n",
    "SELECT * FROM city WHERE population > 2000000;\n",
    "\n",
    "SELECT * FROM countrylanguage;\n",
    "\n",
    "SELECT * FROM countrylanguage WHERE IsOfficial = \"T\" AND CountryCode = \"IND\";\n",
    "\n",
    "SELECT * FROM countrylanguage WHERE IsOfficial=\"T\";\n",
    "\n",
    "-- Functions in SQL\n",
    "SELECT avg(population) FROM city;\n",
    "\n",
    "SELECT * FROM city WHERE population > 350468;\n",
    "\n",
    "SELECT count(ID) FROM city;\n",
    "\n",
    "SELECT count(CountryCode) FROM city;\n",
    "\n",
    "SELECT count(distinct CountryCode) FROM city;\n",
    "\n",
    "SELECT ID, Name, District, length(Name) AS \"Name_Length\" FROM city;\n",
    "\n",
    "SELECT concat(Name, District, population) AS \"Concat_namedistrict\", Name, District FROM city;\n",
    "\n",
    "SELECT upper(District), District FROM city;\n",
    "\n",
    "SELECT lower(District), District FROM city;\n",
    "```"
   ]
  },
  {
   "cell_type": "markdown",
   "metadata": {},
   "source": []
  }
 ],
 "metadata": {
  "kernelspec": {
   "display_name": "Python 3.8.13 ('rit_python')",
   "language": "python",
   "name": "python3"
  },
  "language_info": {
   "name": "python",
   "version": "3.8.13"
  },
  "orig_nbformat": 4,
  "vscode": {
   "interpreter": {
    "hash": "ac333bc5dc93f4a921f2c56470e56a67ccf5f79955049e67f9cfa4d7dee79d8a"
   }
  }
 },
 "nbformat": 4,
 "nbformat_minor": 2
}
