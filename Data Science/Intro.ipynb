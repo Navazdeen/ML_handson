{
 "cells": [
  {
   "cell_type": "markdown",
   "metadata": {},
   "source": [
    "# **Intro to Datascience**"
   ]
  },
  {
   "cell_type": "markdown",
   "metadata": {},
   "source": [
    "#### *Database*\n",
    "\n",
    "*It is a piece of software that stores and manages data*\n",
    "\n",
    "*SQL - Structure Query language*"
   ]
  },
  {
   "cell_type": "markdown",
   "metadata": {},
   "source": [
    "**Datascience Flow chart**\n",
    "\n",
    "<img src=\"flowchart.png\" alt=\"Flowchart\" width=\"800px\">"
   ]
  },
  {
   "cell_type": "markdown",
   "metadata": {},
   "source": [
    "***List of common databases:***\n",
    "\n",
    "- MySQL\n",
    "- sqllite\n",
    "- Oracle\n",
    "- Postgres\n",
    "- Neo4j"
   ]
  },
  {
   "cell_type": "markdown",
   "metadata": {},
   "source": [
    "### **Data Manipulation Tools in python**\n",
    "\n",
    "- Numpy\n",
    "- Pandas\n",
    "\n",
    "### **Data Visualization Tools in python**\n",
    "\n",
    "- Matplotlib\n",
    "- Seaborne\n",
    "\n",
    "### **ML Algorithm package in python**\n",
    "\n",
    "- Scipy \n",
    "- Scikit Learn"
   ]
  },
  {
   "cell_type": "markdown",
   "metadata": {},
   "source": [
    "## *MySQL*\n",
    "\n",
    "***Installing configuring MySQL database***\n",
    "- *Download from this [link](https://dev.mysql.com/downloads/file/?id=514518)*\n",
    "- *Install MySQL on your personal Computer by following this [Video](https://www.youtube.com/watch?v=IqYfmckxeyE)*\n",
    "- *Configure Username as `root`*\n",
    "- *Configure Password as `root@123`*"
   ]
  },
  {
   "cell_type": "markdown",
   "metadata": {},
   "source": [
    "***Operations in MySQL***\n",
    "\n",
    "*CRUD - Create Read Update Delete*"
   ]
  },
  {
   "cell_type": "markdown",
   "metadata": {},
   "source": [
    "### Data Definition Language(DDL)\n",
    "\n",
    "1. CREATE\n",
    "2. ALTER\n",
    "3. DROP\n",
    "4. TRUNCATE\n",
    "\n",
    "### Data Manipulation Language(DML)\n",
    "\n",
    "1. SELECT\n",
    "2. INSERT\n",
    "3. UPDATE\n",
    "4. DELETE\n"
   ]
  },
  {
   "cell_type": "markdown",
   "metadata": {},
   "source": [
    "### SQL QUERY\n",
    "\n",
    "```\n",
    "USE     world       ;\n",
    " |         |        |\n",
    "command  arguments semicolon\n",
    "```"
   ]
  },
  {
   "cell_type": "markdown",
   "metadata": {},
   "source": [
    "```\n",
    "USE world;\n",
    "\n",
    "-- show all the tables inside the database.\n",
    "SHOW tables;\n",
    "\n",
    "-- select command select the specific column, use * if we need select all column\n",
    "SELECT * FROM city;\n",
    "SELECT ID, Name, District FROM city;\n",
    "\n",
    "-- filtering in mysql Where\n",
    "SELECT * FROM city WHERE CountryCode=\"IND\" AND Name=\"Delhi\";\n",
    "SELECT * FROM city WHERE population > 2000000;\n",
    "\n",
    "SELECT * FROM countrylanguage;\n",
    "\n",
    "SELECT * FROM countrylanguage WHERE IsOfficial = \"T\" AND CountryCode = \"IND\";\n",
    "\n",
    "SELECT * FROM countrylanguage WHERE IsOfficial=\"T\";\n",
    "\n",
    "-- Functions in SQL\n",
    "SELECT avg(population) FROM city;\n",
    "\n",
    "SELECT * FROM city WHERE population > 350468;\n",
    "\n",
    "SELECT count(ID) FROM city;\n",
    "\n",
    "SELECT count(CountryCode) FROM city;\n",
    "\n",
    "SELECT count(distinct CountryCode) FROM city;\n",
    "\n",
    "SELECT ID, Name, District, length(Name) AS \"Name_Length\" FROM city;\n",
    "\n",
    "SELECT concat(Name, District, population) AS \"Concat_namedistrict\", Name, District FROM city;\n",
    "\n",
    "SELECT upper(District), District FROM city;\n",
    "\n",
    "SELECT lower(District), District FROM city;\n",
    "```"
   ]
  },
  {
   "cell_type": "markdown",
   "metadata": {},
   "source": [
    "### Data Types in MySQL\n",
    "\n",
    "1. Numeric\n",
    "   1. Int = -214783648 to 214783647\n",
    "   2. Bigint \n",
    "   3. Tinyint = -128 to 127\n",
    "   4. Float = decimal\n",
    "2. String\n",
    "   1. Char = char(5) eg: kamal = 0 to 255\n",
    "   2. varchar = varchar(size) _ 0 to 65535\n",
    "   3. Text = length constrain is not applicable\n",
    "3. DateTime\n",
    "   1. Date - \"2001-12-03\" \"yyyy-mm-dd\" \n",
    "   2. Time - \"10:23:54\" \"HH:MM:SS\"\n",
    "   3. Datetime - \"2001-12-03 10:23:54\" _ \"yyyy-mm-dd HH:MM:SS\"\n",
    "   4. Timestamp - \"2001-12-03 10:23:54 UTC\""
   ]
  },
  {
   "cell_type": "markdown",
   "metadata": {},
   "source": [
    "```\n",
    "# Create a dtabase in MySQL\n",
    "\n",
    "CREATE DATABASE School;\n",
    "\n",
    "USE school;\n",
    "\n",
    "# Create a table in MySQL\n",
    "CREATE TABLE class(Name char(30), Section char(1), Tutor_name char(30), Student_count int, Class_start_date date);\n",
    "\n",
    "SHOW TABLES;\n",
    "\n",
    "# Inserting values into table\n",
    "INSERT INTO class(Name, Section, Tutor_name, Student_count, Class_start_date) values(\"Surya\", \"B\", \"Ajay\", 57, \"2002-10-20\");\n",
    "\n",
    "INSERT INTO class(Name, Section, Tutor_name, Class_start_date) values(\"Prakash\", \"B\", \"Ajay\", \"2002-10-20\");\n",
    "\n",
    "SELECT * FROM class;\n",
    "\n",
    "# Altering the table\n",
    "ALTER TABLE class ADD(Class_end_date date);\n",
    "ALTER TABLE class MODIFY COLUMN Tutor_name Char(100);\n",
    "ALTER TABLE class DROP COLUMN Class_end_date;\n",
    "ALTER TABLE class RENAME COLUMN New_name TO Tutor_name;\n",
    "```"
   ]
  }
 ],
 "metadata": {
  "kernelspec": {
   "display_name": "Python 3.8.13 ('rit_python')",
   "language": "python",
   "name": "python3"
  },
  "language_info": {
   "name": "python",
   "version": "3.8.13"
  },
  "orig_nbformat": 4,
  "vscode": {
   "interpreter": {
    "hash": "ac333bc5dc93f4a921f2c56470e56a67ccf5f79955049e67f9cfa4d7dee79d8a"
   }
  }
 },
 "nbformat": 4,
 "nbformat_minor": 2
}
