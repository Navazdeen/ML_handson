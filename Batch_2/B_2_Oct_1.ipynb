{
 "cells": [
  {
   "cell_type": "markdown",
   "metadata": {},
   "source": [
    "#### `pip install ipykernel`\n",
    "#### file name should end with \"ipynb\"\n",
    "#### Copy and paste this in the terminal to make the notebook work, This will be the one time setup no need to do it for everytime"
   ]
  },
  {
   "cell_type": "markdown",
   "metadata": {},
   "source": [
    "### LOGICAL OPERATORS\n",
    "\n",
    "#### AND Table\n",
    "\n",
    "* True and True -> True\n",
    "* True and False -> False\n",
    "* False and True -> False\n",
    "* False and False -> False\n",
    "\n",
    "#### OR Table \n",
    "\n",
    "* True or True -> True\n",
    "* True or False -> True\n",
    "* False or True -> True\n",
    "* False or False -> False"
   ]
  },
  {
   "cell_type": "markdown",
   "metadata": {},
   "source": [
    "##### For loop syntax\n",
    "` for var_name in range():\n",
    "    code comes here\n",
    "`"
   ]
  },
  {
   "cell_type": "markdown",
   "metadata": {},
   "source": [
    "* **Any number divided by 10 will always give you the same number with one decimal from end**\n",
    "\n",
    "* **Any number Mod by 10 will give you the last digit as the reminder of the same number**"
   ]
  },
  {
   "cell_type": "code",
   "execution_count": 48,
   "metadata": {},
   "outputs": [
    {
     "name": "stdout",
     "output_type": "stream",
     "text": [
      "division: 12.5 \n",
      "Modulus: 5\n"
     ]
    }
   ],
   "source": [
    "print(\"division:\",125/10,\"\\nModulus:\", 125%10)"
   ]
  },
  {
   "cell_type": "code",
   "execution_count": null,
   "metadata": {},
   "outputs": [],
   "source": [
    "for num in range(1, 10):\n",
    "    print(num)"
   ]
  },
  {
   "cell_type": "code",
   "execution_count": 15,
   "metadata": {},
   "outputs": [
    {
     "name": "stdout",
     "output_type": "stream",
     "text": [
      "hi 1\n",
      "hi 2\n",
      "hi 4\n",
      "hi 6\n",
      "hi 8\n"
     ]
    }
   ],
   "source": [
    "for num in [1, 2, 4, 6, 8]:\n",
    "    print('hi', num)"
   ]
  },
  {
   "cell_type": "markdown",
   "metadata": {},
   "source": [
    "**Printing the digit from the number in the reverse order**"
   ]
  },
  {
   "cell_type": "code",
   "execution_count": 16,
   "metadata": {},
   "outputs": [
    {
     "name": "stdout",
     "output_type": "stream",
     "text": [
      "1\n",
      "7\n",
      "5\n",
      "4\n"
     ]
    }
   ],
   "source": [
    "number = 4571 # 457 # 45 # 4\n",
    "# 1\n",
    "# 7\n",
    "# 5\n",
    "# 4\n",
    "\n",
    "for X in range(0, 4):\n",
    "    print(number % 10)\n",
    "    number = int(number/10)"
   ]
  },
  {
   "cell_type": "markdown",
   "metadata": {},
   "source": [
    "### Exercise:\n",
    "* What is prime number ? how to check prime number?\n",
    "* What is fibonacci sequence? how to create fibonacci sequence?\n",
    "* perfect number? how to check perfect number ?\n",
    "* L.C.M and H.C.F ?"
   ]
  },
  {
   "cell_type": "markdown",
   "metadata": {},
   "source": [
    "**Find whether a number is prime or not**"
   ]
  },
  {
   "cell_type": "code",
   "execution_count": 13,
   "metadata": {},
   "outputs": [
    {
     "name": "stdout",
     "output_type": "stream",
     "text": [
      "not prime\n"
     ]
    }
   ],
   "source": [
    "# Prime Number: A number that can only be divided by 1 and by self\n",
    "number = 12 # if Prime number True else False\n",
    "\n",
    "# number should be divided starts from 2 to number-1(13 -> 13 is not divisibe by from 2 to 12 so `True`)\n",
    "\n",
    "for bet_num in range(2, number):\n",
    "    if number % bet_num == 0:\n",
    "        print(\"not prime\")\n",
    "        break\n",
    "else:\n",
    "    print(\"prime\")\n",
    "\n"
   ]
  },
  {
   "cell_type": "markdown",
   "metadata": {},
   "source": [
    "**Create a fibonacci sequence ?**\n",
    "\n",
    "![fibonacci.png](https://www.google.com/url?sa=i&url=https%3A%2F%2Fwww.scaler.com%2Ftopics%2Ffibonacci-series-in-java%2F&psig=AOvVaw1VitvO6zaL4k95c7tdD0iF&ust=1664701861170000&source=images&cd=vfe&ved=0CAwQjRxqFwoTCMC0m-rXvvoCFQAAAAAdAAAAABAD)"
   ]
  },
  {
   "cell_type": "code",
   "execution_count": 14,
   "metadata": {},
   "outputs": [],
   "source": [
    "# write your code for fibonacci sequence here:\n",
    "\n"
   ]
  },
  {
   "cell_type": "markdown",
   "metadata": {},
   "source": [
    "#### While loop in python\n",
    "\n",
    "##### syntax\n",
    "\n",
    "`while condtion:\n",
    "    code\n",
    "`\n",
    "\n",
    "**while loop continues to execute untill the given condition become false**"
   ]
  },
  {
   "cell_type": "code",
   "execution_count": null,
   "metadata": {},
   "outputs": [],
   "source": [
    "# While loop example\n",
    "\n",
    "i = 0\n",
    "while i < 10:\n",
    "    print(i)\n",
    "    i=i+1 # i(0) + 1 --> increment i value by 1 and store it to i\n"
   ]
  },
  {
   "cell_type": "markdown",
   "metadata": {},
   "source": [
    "**Dictionaries in python**\n",
    "\n",
    "*Dictionaries in python are stored key:value pairs, like dictionaries are unordered.*\n",
    "\n",
    "**Syntax**\n",
    "`{key:value, key:value}` ***{'name':'Raju', 'age': 12}***"
   ]
  },
  {
   "cell_type": "code",
   "execution_count": 23,
   "metadata": {},
   "outputs": [
    {
     "name": "stdout",
     "output_type": "stream",
     "text": [
      "{'fullname': 'Raju', 'age': 12, 'height': 167, 'weight': 98}\n",
      "167\n"
     ]
    }
   ],
   "source": [
    "student1 = {\n",
    "    'fullname':'Raju',\n",
    "    'age': 12,\n",
    "    'height':167,\n",
    "    'weight':98\n",
    "}\n",
    "\n",
    "print(student1)\n",
    "print(student1['height'])"
   ]
  },
  {
   "cell_type": "markdown",
   "metadata": {},
   "source": [
    "**Create a varible called \"cls\" dictionary which has following prperties ('section', 'strength', 'present', 'absent')**"
   ]
  },
  {
   "cell_type": "code",
   "execution_count": 34,
   "metadata": {},
   "outputs": [
    {
     "name": "stdout",
     "output_type": "stream",
     "text": [
      "{'section': 'C', 'strength': 50, 'present': 45, 'absent': 5} C\n"
     ]
    }
   ],
   "source": [
    "cls = {\n",
    "    'section':'B',\n",
    "    'strength':50,\n",
    "    'present':45,\n",
    "    'absent':5\n",
    "}\n",
    "\n",
    "cls['section'] = 'C' # updata a value in a dictionary\n",
    "print(cls, cls['section'])"
   ]
  },
  {
   "cell_type": "markdown",
   "metadata": {},
   "source": [
    "**Methods in dictionaries**\n",
    "* `keys()` -> return all the keys in the dictionaries\n",
    "* `values()` -> return all the values in the dictionaries\n",
    "* `items()` -> return all the key,values in the dictionaries as list\n",
    "* `update()` -> add new key,values pair to the dictionaries\n",
    "* `pop()` -> remove key,values pair from the dictionaries\n",
    "* `clear()` -> clear all key,values pair from the dictionaries\n",
    "\n"
   ]
  },
  {
   "cell_type": "code",
   "execution_count": 26,
   "metadata": {},
   "outputs": [
    {
     "name": "stdout",
     "output_type": "stream",
     "text": [
      "dict_keys(['section', 'strength', 'present', 'absent'])\n"
     ]
    }
   ],
   "source": [
    "print(cls.keys())"
   ]
  },
  {
   "cell_type": "code",
   "execution_count": 32,
   "metadata": {},
   "outputs": [
    {
     "name": "stdout",
     "output_type": "stream",
     "text": [
      "dict_values(['B', 50, 45, 5])\n"
     ]
    }
   ],
   "source": [
    "print(cls.values())"
   ]
  },
  {
   "cell_type": "code",
   "execution_count": 27,
   "metadata": {},
   "outputs": [
    {
     "name": "stdout",
     "output_type": "stream",
     "text": [
      "dict_items([('section', 'B'), ('strength', 50), ('present', 45), ('absent', 5)])\n"
     ]
    }
   ],
   "source": [
    "print(cls.items())"
   ]
  },
  {
   "cell_type": "code",
   "execution_count": 28,
   "metadata": {},
   "outputs": [
    {
     "name": "stdout",
     "output_type": "stream",
     "text": [
      "{'section': 'B', 'strength': 50, 'present': 45, 'absent': 5, 'newlyadded': 'newone'}\n"
     ]
    }
   ],
   "source": [
    "cls.update({'newlyadded':'newone'})\n",
    "print(cls)"
   ]
  },
  {
   "cell_type": "code",
   "execution_count": 29,
   "metadata": {},
   "outputs": [
    {
     "name": "stdout",
     "output_type": "stream",
     "text": [
      "{'section': 'B', 'strength': 50, 'present': 45, 'absent': 5}\n"
     ]
    }
   ],
   "source": [
    "cls.pop('newlyadded')\n",
    "print(cls)"
   ]
  },
  {
   "cell_type": "code",
   "execution_count": 30,
   "metadata": {},
   "outputs": [
    {
     "name": "stdout",
     "output_type": "stream",
     "text": [
      "{}\n"
     ]
    }
   ],
   "source": [
    "cls.clear()\n",
    "print(cls)"
   ]
  },
  {
   "cell_type": "markdown",
   "metadata": {},
   "source": [
    "**Function in python**\n",
    "\n",
    "*function in python is used to repeatation of code for specific kinds of task*\n",
    "\n",
    "**Syntax: `def function_name(args): code`**\n"
   ]
  },
  {
   "cell_type": "code",
   "execution_count": 42,
   "metadata": {},
   "outputs": [
    {
     "name": "stdout",
     "output_type": "stream",
     "text": [
      "Hello john your age is 12\n",
      "Hello george your age is 24\n"
     ]
    }
   ],
   "source": [
    "# Example for a function in python\n",
    "\n",
    "def say_hello(name, age):\n",
    "    print('Hello', name, \"your age is\", age)\n",
    "\n",
    "\n",
    "say_hello(\"john\", 12) # passing arguments to function\n",
    "\n",
    "say_hello('george', 24)\n"
   ]
  },
  {
   "cell_type": "markdown",
   "metadata": {},
   "source": [
    "**Create function which takes two arguments and print addition, subtraction, multiplication, division of that two**"
   ]
  },
  {
   "cell_type": "code",
   "execution_count": 48,
   "metadata": {},
   "outputs": [
    {
     "name": "stdout",
     "output_type": "stream",
     "text": [
      "8 + 5 = 13\n",
      "8 - 5 = 3\n",
      "8 * 5 = 40\n",
      "8 / 5 = 1.6\n"
     ]
    }
   ],
   "source": [
    "# solution\n",
    "\n",
    "def calculator(a, b):\n",
    "    print(a,'+', b, '=', a + b)\n",
    "    print(a,'-', b, '=', a - b)\n",
    "    print(a,'*', b, '=', a * b)\n",
    "    print(a,'/', b, '=', a / b)\n",
    "\n",
    "# a = int(input(\"enter number 1\"))\n",
    "# b = int(input(\"enter number 2\"))\n",
    "\n",
    "calculator(8, 5)\n"
   ]
  },
  {
   "cell_type": "markdown",
   "metadata": {},
   "source": [
    "**Create a function which takes one string argument and convert upper, lower, capitalize and prints ?**"
   ]
  },
  {
   "cell_type": "code",
   "execution_count": 49,
   "metadata": {},
   "outputs": [],
   "source": [
    "# solution\n",
    "\n",
    "\n"
   ]
  }
 ],
 "metadata": {
  "kernelspec": {
   "display_name": "Python 3.8.13 ('rit_python')",
   "language": "python",
   "name": "python3"
  },
  "language_info": {
   "codemirror_mode": {
    "name": "ipython",
    "version": 3
   },
   "file_extension": ".py",
   "mimetype": "text/x-python",
   "name": "python",
   "nbconvert_exporter": "python",
   "pygments_lexer": "ipython3",
   "version": "3.8.13"
  },
  "orig_nbformat": 4,
  "vscode": {
   "interpreter": {
    "hash": "ac333bc5dc93f4a921f2c56470e56a67ccf5f79955049e67f9cfa4d7dee79d8a"
   }
  }
 },
 "nbformat": 4,
 "nbformat_minor": 2
}
