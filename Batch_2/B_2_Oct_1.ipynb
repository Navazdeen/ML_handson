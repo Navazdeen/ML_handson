{
 "cells": [
  {
   "cell_type": "markdown",
   "metadata": {},
   "source": [
    "#### `pip install ipykernel`\n",
    "#### file name should end with \"ipynb\"\n",
    "#### Copy and paste this in the terminal to make the notebook work, This will be the one time setup no need to do it for everytime"
   ]
  },
  {
   "cell_type": "markdown",
   "metadata": {},
   "source": [
    "### LOGICAL OPERATORS\n",
    "\n",
    "#### AND Table\n",
    "\n",
    "* True and True -> True\n",
    "* True and False -> False\n",
    "* False and True -> False\n",
    "* False and False -> False\n",
    "\n",
    "#### OR Table \n",
    "\n",
    "* True or True -> True\n",
    "* True or False -> True\n",
    "* False or True -> True\n",
    "* False or False -> False"
   ]
  },
  {
   "cell_type": "markdown",
   "metadata": {},
   "source": [
    "##### For loop syntax\n",
    "` for var_name in range():\n",
    "    code comes here\n",
    "`"
   ]
  },
  {
   "cell_type": "markdown",
   "metadata": {},
   "source": [
    "* **Any number divided by 10 will always give you the same number with one decimal from end**\n",
    "\n",
    "* **Any number Mod by 10 will give you the last digit as the reminder of the same number**"
   ]
  },
  {
   "cell_type": "code",
   "execution_count": 48,
   "metadata": {},
   "outputs": [
    {
     "name": "stdout",
     "output_type": "stream",
     "text": [
      "division: 12.5 \n",
      "Modulus: 5\n"
     ]
    }
   ],
   "source": [
    "print(\"division:\",125/10,\"\\nModulus:\", 125%10)"
   ]
  },
  {
   "cell_type": "code",
   "execution_count": null,
   "metadata": {},
   "outputs": [],
   "source": [
    "for num in range(1, 10):\n",
    "    print(num)"
   ]
  },
  {
   "cell_type": "code",
   "execution_count": 15,
   "metadata": {},
   "outputs": [
    {
     "name": "stdout",
     "output_type": "stream",
     "text": [
      "hi 1\n",
      "hi 2\n",
      "hi 4\n",
      "hi 6\n",
      "hi 8\n"
     ]
    }
   ],
   "source": [
    "for num in [1, 2, 4, 6, 8]:\n",
    "    print('hi', num)"
   ]
  },
  {
   "cell_type": "markdown",
   "metadata": {},
   "source": [
    "**Printing the digit from the number in the reverse order**"
   ]
  },
  {
   "cell_type": "code",
   "execution_count": 16,
   "metadata": {},
   "outputs": [
    {
     "name": "stdout",
     "output_type": "stream",
     "text": [
      "1\n",
      "7\n",
      "5\n",
      "4\n"
     ]
    }
   ],
   "source": [
    "number = 4571 # 457 # 45 # 4\n",
    "# 1\n",
    "# 7\n",
    "# 5\n",
    "# 4\n",
    "\n",
    "for X in range(0, 4):\n",
    "    print(number % 10)\n",
    "    number = int(number/10)"
   ]
  },
  {
   "cell_type": "markdown",
   "metadata": {},
   "source": [
    "### Exercise:\n",
    "* What is prime number ? how to check prime number?\n",
    "* What is fibonacci sequence? how to create fibonacci sequence?\n",
    "* perfect number? how to check perfect number ?\n",
    "* L.C.M and H.C.F ?"
   ]
  },
  {
   "cell_type": "markdown",
   "metadata": {},
   "source": [
    "**Find whether a number is prime or not**"
   ]
  },
  {
   "cell_type": "code",
   "execution_count": 13,
   "metadata": {},
   "outputs": [
    {
     "name": "stdout",
     "output_type": "stream",
     "text": [
      "not prime\n"
     ]
    }
   ],
   "source": [
    "# Prime Number: A number that can only be divided by 1 and by self\n",
    "number = 12 # if Prime number True else False\n",
    "\n",
    "# number should be divided starts from 2 to number-1(13 -> 13 is not divisibe by from 2 to 12 so `True`)\n",
    "\n",
    "for bet_num in range(2, number):\n",
    "    if number % bet_num == 0:\n",
    "        print(\"not prime\")\n",
    "        break\n",
    "else:\n",
    "    print(\"prime\")\n",
    "\n"
   ]
  },
  {
   "cell_type": "markdown",
   "metadata": {},
   "source": [
    "**Create a fibonacci sequence ?**\n",
    "\n",
    "![fibonacci.png](https://www.scaler.com/topics/media/Fibonacci-Series-in-Java-768x622.webp \"fibonacci\")"
   ]
  },
  {
   "cell_type": "code",
   "execution_count": 14,
   "metadata": {},
   "outputs": [],
   "source": [
    "# write your code for fibonacci sequence here:\n",
    "\n"
   ]
  },
  {
   "cell_type": "markdown",
   "metadata": {},
   "source": [
    "#### While loop in python\n",
    "\n",
    "#### syntax:\n",
    "`while condtion:\n",
    "    code\n",
    "`\n",
    "\n",
    "**while loop continues to execute untill the given condition become false**"
   ]
  },
  {
   "cell_type": "code",
   "execution_count": null,
   "metadata": {},
   "outputs": [],
   "source": [
    "# While loop example\n",
    "\n",
    "i = 0\n",
    "while i < 10:\n",
    "    print(i)\n",
    "    i=i+1 # i(0) + 1 --> increment i value by 1 and store it to i\n"
   ]
  },
  {
   "cell_type": "markdown",
   "metadata": {},
   "source": [
    "**Dictionaries in python**\n",
    "\n",
    "*Dictionaries in python are stored key:value pairs, like sets dictionaries are unordered.*\n",
    "\n",
    "**Syntax**\n",
    "`{key:value, key:value}` ***{'name':'Raju', 'age': 12}***"
   ]
  },
  {
   "cell_type": "code",
   "execution_count": 23,
   "metadata": {},
   "outputs": [
    {
     "name": "stdout",
     "output_type": "stream",
     "text": [
      "{'fullname': 'Raju', 'age': 12, 'height': 167, 'weight': 98}\n",
      "167\n"
     ]
    }
   ],
   "source": [
    "student1 = {\n",
    "    'fullname':'Raju',\n",
    "    'age': 12,\n",
    "    'height':167,\n",
    "    'weight':98\n",
    "}\n",
    "\n",
    "print(student1)\n",
    "print(student1['height'])"
   ]
  },
  {
   "cell_type": "markdown",
   "metadata": {},
   "source": [
    "**Create a varible called \"cls\" dictionary which has following prperties ('section', 'strength', 'present', 'absent')**"
   ]
  },
  {
   "cell_type": "code",
   "execution_count": 34,
   "metadata": {},
   "outputs": [
    {
     "name": "stdout",
     "output_type": "stream",
     "text": [
      "{'section': 'C', 'strength': 50, 'present': 45, 'absent': 5} C\n"
     ]
    }
   ],
   "source": [
    "cls = {\n",
    "    'section':'B',\n",
    "    'strength':50,\n",
    "    'present':45,\n",
    "    'absent':5\n",
    "}\n",
    "\n",
    "cls['section'] = 'C' # updata a value in a dictionary\n",
    "print(cls, cls['section'])"
   ]
  },
  {
   "cell_type": "markdown",
   "metadata": {},
   "source": [
    "**Methods in dictionaries**\n",
    "* `keys()` -> return all the keys in the dictionaries\n",
    "* `values()` -> return all the values in the dictionaries\n",
    "* `items()` -> return all the key,values in the dictionaries as list\n",
    "* `update()` -> add new key,values pair to the dictionaries\n",
    "* `pop()` -> remove key,values pair from the dictionaries\n",
    "* `clear()` -> clear all key,values pair from the dictionaries\n",
    "\n"
   ]
  },
  {
   "cell_type": "code",
   "execution_count": 26,
   "metadata": {},
   "outputs": [
    {
     "name": "stdout",
     "output_type": "stream",
     "text": [
      "dict_keys(['section', 'strength', 'present', 'absent'])\n"
     ]
    }
   ],
   "source": [
    "print(cls.keys())"
   ]
  },
  {
   "cell_type": "code",
   "execution_count": 32,
   "metadata": {},
   "outputs": [
    {
     "name": "stdout",
     "output_type": "stream",
     "text": [
      "dict_values(['B', 50, 45, 5])\n"
     ]
    }
   ],
   "source": [
    "print(cls.values())"
   ]
  },
  {
   "cell_type": "code",
   "execution_count": 27,
   "metadata": {},
   "outputs": [
    {
     "name": "stdout",
     "output_type": "stream",
     "text": [
      "dict_items([('section', 'B'), ('strength', 50), ('present', 45), ('absent', 5)])\n"
     ]
    }
   ],
   "source": [
    "print(cls.items())"
   ]
  },
  {
   "cell_type": "code",
   "execution_count": 28,
   "metadata": {},
   "outputs": [
    {
     "name": "stdout",
     "output_type": "stream",
     "text": [
      "{'section': 'B', 'strength': 50, 'present': 45, 'absent': 5, 'newlyadded': 'newone'}\n"
     ]
    }
   ],
   "source": [
    "cls.update({'newlyadded':'newone'})\n",
    "print(cls)"
   ]
  },
  {
   "cell_type": "code",
   "execution_count": 29,
   "metadata": {},
   "outputs": [
    {
     "name": "stdout",
     "output_type": "stream",
     "text": [
      "{'section': 'B', 'strength': 50, 'present': 45, 'absent': 5}\n"
     ]
    }
   ],
   "source": [
    "cls.pop('newlyadded')\n",
    "print(cls)"
   ]
  },
  {
   "cell_type": "code",
   "execution_count": 30,
   "metadata": {},
   "outputs": [
    {
     "name": "stdout",
     "output_type": "stream",
     "text": [
      "{}\n"
     ]
    }
   ],
   "source": [
    "cls.clear()\n",
    "print(cls)"
   ]
  },
  {
   "cell_type": "markdown",
   "metadata": {},
   "source": [
    "**Function in python**\n",
    "\n",
    "*function in python is used to repeatation of code for specific kinds of task*\n",
    "\n",
    "**Syntax: `def function_name(args): code`**\n"
   ]
  },
  {
   "cell_type": "code",
   "execution_count": 42,
   "metadata": {},
   "outputs": [
    {
     "name": "stdout",
     "output_type": "stream",
     "text": [
      "Hello john your age is 12\n",
      "Hello george your age is 24\n"
     ]
    }
   ],
   "source": [
    "# Example for a function in python\n",
    "\n",
    "def say_hello(name, age):\n",
    "    print('Hello', name, \"your age is\", age)\n",
    "\n",
    "\n",
    "say_hello(\"john\", 12) # passing arguments to function\n",
    "\n",
    "say_hello('george', 24)\n"
   ]
  },
  {
   "cell_type": "markdown",
   "metadata": {},
   "source": [
    "**Create function which takes two arguments and print addition, subtraction, multiplication, division of that two**"
   ]
  },
  {
   "cell_type": "code",
   "execution_count": 5,
   "metadata": {},
   "outputs": [
    {
     "name": "stdout",
     "output_type": "stream",
     "text": [
      "4 + 6 = 10\n",
      "4 - 6 = -2\n",
      "4 * 6 = 24\n",
      "4 / 6 = 0.6666666666666666\n"
     ]
    }
   ],
   "source": [
    "# solution\n",
    "\n",
    "def calculator(a=4, b=6):\n",
    "    print(a,'+', b, '=', a + b)\n",
    "    print(a,'-', b, '=', a - b)\n",
    "    print(a,'*', b, '=', a * b)\n",
    "    print(a,'/', b, '=', a / b)\n",
    "\n",
    "# a = int(input(\"enter number 1\"))\n",
    "# b = int(input(\"enter number 2\"))\n",
    "\n",
    "calculator()\n"
   ]
  },
  {
   "cell_type": "markdown",
   "metadata": {},
   "source": [
    "**Create a function which takes one string argument and convert upper, lower, capitalize and prints ?**"
   ]
  },
  {
   "cell_type": "code",
   "execution_count": 49,
   "metadata": {},
   "outputs": [],
   "source": [
    "# solution\n",
    "\n",
    "\n"
   ]
  },
  {
   "cell_type": "markdown",
   "metadata": {},
   "source": [
    "**Create a function which converts celsius to fahreinheit:**"
   ]
  },
  {
   "cell_type": "code",
   "execution_count": 6,
   "metadata": {},
   "outputs": [
    {
     "name": "stdout",
     "output_type": "stream",
     "text": [
      "89.6\n"
     ]
    }
   ],
   "source": [
    "# solution # f =(0°C × 9/5) + 32 \n",
    "\n",
    "def fahreinheit(celsius):\n",
    "    f = (celsius * 9/5) + 32\n",
    "    print(f)\n",
    "\n",
    "\n",
    "fahreinheit(32)"
   ]
  },
  {
   "cell_type": "markdown",
   "metadata": {},
   "source": [
    "**Using Return in function to get the value from function**"
   ]
  },
  {
   "cell_type": "code",
   "execution_count": 12,
   "metadata": {},
   "outputs": [
    {
     "name": "stdout",
     "output_type": "stream",
     "text": [
      "68.0\n"
     ]
    }
   ],
   "source": [
    "\n",
    "def fahreinheit(celsius):\n",
    "    f = (celsius * 9/5) + 32\n",
    "    return f\n",
    "\n",
    "converted_value = fahreinheit(20)\n",
    "\n",
    "print(converted_value)"
   ]
  },
  {
   "cell_type": "markdown",
   "metadata": {},
   "source": [
    "**Lambda function**\n",
    "\n",
    "*Lambda function or anonymous function or single line function is a function written in only single line*\n",
    "\n",
    "**Syntax** `lambda arg_name: code`\n"
   ]
  },
  {
   "cell_type": "code",
   "execution_count": 13,
   "metadata": {},
   "outputs": [
    {
     "name": "stdout",
     "output_type": "stream",
     "text": [
      "hello to john\n"
     ]
    }
   ],
   "source": [
    "# Example for lambda function\n",
    "\n",
    "lmb = lambda name : print(\"hello to\", name)\n",
    "\n",
    "lmb('john')"
   ]
  },
  {
   "cell_type": "markdown",
   "metadata": {},
   "source": [
    "**Create a lambda function which converts fahreinheit to celsius and return celsius**"
   ]
  },
  {
   "cell_type": "code",
   "execution_count": 16,
   "metadata": {},
   "outputs": [
    {
     "name": "stdout",
     "output_type": "stream",
     "text": [
      "32.0\n"
     ]
    }
   ],
   "source": [
    "# Solution # C = (F − 32) × 5/9 \n",
    "\n",
    "fah_cel = lambda fahreinheit :  (fahreinheit - 32) * 5/9\n",
    "\n",
    "converted_value = fah_cel(89.6)\n",
    "\n",
    "print(converted_value)"
   ]
  },
  {
   "cell_type": "markdown",
   "metadata": {},
   "source": [
    "### List Comprehension and slicing in python\n",
    "\n",
    "`Note:`  ***Slicing can only be done on list, string, tuple***\n",
    "\n",
    "`list()` -> to convert range or any iterables into list.\n",
    "\n",
    "`tuple()` -> to convert range or any iterables into tuple.\n",
    "\n",
    "`set()` -> to convert range or any iterables into set."
   ]
  },
  {
   "cell_type": "code",
   "execution_count": 17,
   "metadata": {},
   "outputs": [
    {
     "name": "stdout",
     "output_type": "stream",
     "text": [
      "[1, 2, 3, 4, 5, 6, 7, 8, 9, 10, 11, 12, 13, 14, 15, 16, 17, 18, 19, 20]\n"
     ]
    }
   ],
   "source": [
    "new_list = list(range(1, 21, 1))\n",
    "\n",
    "print(new_list)"
   ]
  },
  {
   "cell_type": "markdown",
   "metadata": {},
   "source": [
    "**Slicing list in python**\n",
    "```\n",
    "new_list = [1, 2, 3, 4, 5, 6, 7, 8, 9, 10, 11, 12, 13, 14, 15, 16, 17, 18, 19, 20]\n",
    "\n",
    "new_list[3] # 4\n",
    "\n",
    "```"
   ]
  },
  {
   "cell_type": "code",
   "execution_count": 21,
   "metadata": {},
   "outputs": [
    {
     "data": {
      "text/plain": [
       "[3, 4, 5, 6]"
      ]
     },
     "execution_count": 21,
     "metadata": {},
     "output_type": "execute_result"
    }
   ],
   "source": [
    "new_list[2 : 6]  #[start : stop] returns all the elements in between the given index positions"
   ]
  },
  {
   "cell_type": "code",
   "execution_count": 22,
   "metadata": {},
   "outputs": [
    {
     "data": {
      "text/plain": [
       "[3, 4, 5, 6, 7, 8, 9, 10, 11, 12, 13, 14, 15, 16, 17, 18, 19, 20]"
      ]
     },
     "execution_count": 22,
     "metadata": {},
     "output_type": "execute_result"
    }
   ],
   "source": [
    "new_list[2 : ] #[start : ] if stop position not specified will return all the element from starting position"
   ]
  },
  {
   "cell_type": "code",
   "execution_count": 23,
   "metadata": {},
   "outputs": [
    {
     "data": {
      "text/plain": [
       "[3, 5, 7, 9]"
      ]
     },
     "execution_count": 23,
     "metadata": {},
     "output_type": "execute_result"
    }
   ],
   "source": [
    "new_list[2 : 10 : 2] # [start:stop:step] step will increase step count of the element to be returned"
   ]
  },
  {
   "cell_type": "code",
   "execution_count": 24,
   "metadata": {},
   "outputs": [
    {
     "data": {
      "text/plain": [
       "['apple', 'mango', 'orange']"
      ]
     },
     "execution_count": 24,
     "metadata": {},
     "output_type": "execute_result"
    }
   ],
   "source": [
    "list_man = [\"apple\", \"mango\", \"orange\", \"papaya\", \"banana\"]\n",
    "\n",
    "list_man[ : 3]"
   ]
  },
  {
   "cell_type": "code",
   "execution_count": 25,
   "metadata": {},
   "outputs": [
    {
     "data": {
      "text/plain": [
       "['apple', 'orange', 'banana']"
      ]
     },
     "execution_count": 25,
     "metadata": {},
     "output_type": "execute_result"
    }
   ],
   "source": [
    "list_man[ : : 2]"
   ]
  },
  {
   "cell_type": "code",
   "execution_count": 26,
   "metadata": {},
   "outputs": [
    {
     "data": {
      "text/plain": [
       "['banana', 'papaya', 'orange', 'mango', 'apple']"
      ]
     },
     "execution_count": 26,
     "metadata": {},
     "output_type": "execute_result"
    }
   ],
   "source": [
    "list_man[ : : -1]"
   ]
  },
  {
   "cell_type": "code",
   "execution_count": 27,
   "metadata": {},
   "outputs": [
    {
     "data": {
      "text/plain": [
       "['banana', 'orange', 'apple']"
      ]
     },
     "execution_count": 27,
     "metadata": {},
     "output_type": "execute_result"
    }
   ],
   "source": [
    "list_man[ : : -2]"
   ]
  },
  {
   "cell_type": "markdown",
   "metadata": {},
   "source": [
    "**Create a function which takes one string argument and return whether it's a palindrome or not**\n",
    "\n",
    "*Example for palindrome 'malayalam'*"
   ]
  },
  {
   "cell_type": "code",
   "execution_count": 31,
   "metadata": {},
   "outputs": [
    {
     "name": "stdout",
     "output_type": "stream",
     "text": [
      "palindrome\n"
     ]
    }
   ],
   "source": [
    "# Solution\n",
    "\n",
    "def palindrome(var_name):\n",
    "    rev = var_name[ : : -1] \n",
    "    if var_name == rev:\n",
    "        print(\"palindrome\")\n",
    "    else:\n",
    "        print(\"not a palindrome\")\n",
    "\n",
    "\n",
    "palindrome('malayalam')"
   ]
  },
  {
   "cell_type": "markdown",
   "metadata": {},
   "source": [
    "**solve the same question using lambda function which return only True if palindrom and False if not**"
   ]
  },
  {
   "cell_type": "code",
   "execution_count": 32,
   "metadata": {},
   "outputs": [
    {
     "name": "stdout",
     "output_type": "stream",
     "text": [
      "True False\n"
     ]
    }
   ],
   "source": [
    "# solution\n",
    "\n",
    "check_palindrome = lambda var_name : var_name == var_name[: : -1]\n",
    "\n",
    "print(check_palindrome('malayalam'), check_palindrome('notebook'))"
   ]
  },
  {
   "cell_type": "markdown",
   "metadata": {},
   "source": [
    "### List Comprehension in python"
   ]
  },
  {
   "cell_type": "code",
   "execution_count": 36,
   "metadata": {},
   "outputs": [
    {
     "data": {
      "text/plain": [
       "[1, 8, 27, 64, 125, 216, 343, 512, 729, 1000]"
      ]
     },
     "execution_count": 36,
     "metadata": {},
     "output_type": "execute_result"
    }
   ],
   "source": [
    "list_comp = [x**3 for x in range(1, 11)] # creating list using only the for loop\n",
    "list_comp\n"
   ]
  },
  {
   "cell_type": "code",
   "execution_count": 38,
   "metadata": {},
   "outputs": [
    {
     "data": {
      "text/plain": [
       "[2, 4, 6, 8, 10, 12, 14, 16, 18, 20, 22, 24, 26, 28, 30]"
      ]
     },
     "execution_count": 38,
     "metadata": {},
     "output_type": "execute_result"
    }
   ],
   "source": [
    "list_comp_if = [y for y in range(1, 31) if y % 2 == 0]\n",
    "\n",
    "list_comp_if"
   ]
  },
  {
   "cell_type": "code",
   "execution_count": 39,
   "metadata": {},
   "outputs": [
    {
     "data": {
      "text/plain": [
       "[(1, 1),\n",
       " (2, 4),\n",
       " (3, 9),\n",
       " (4, 16),\n",
       " (5, 25),\n",
       " (6, 36),\n",
       " (7, 49),\n",
       " (8, 64),\n",
       " (9, 81),\n",
       " (10, 100)]"
      ]
     },
     "execution_count": 39,
     "metadata": {},
     "output_type": "execute_result"
    }
   ],
   "source": [
    "list_comp_2 = [(y, y**2) for y in range(1, 11)]\n",
    "\n",
    "list_comp_2"
   ]
  },
  {
   "cell_type": "markdown",
   "metadata": {},
   "source": [
    "`Note:`*Checking specific element in list or tuple or set or dict* ***using 'in'***"
   ]
  },
  {
   "cell_type": "code",
   "execution_count": 42,
   "metadata": {},
   "outputs": [
    {
     "data": {
      "text/plain": [
       "(True, False)"
      ]
     },
     "execution_count": 42,
     "metadata": {},
     "output_type": "execute_result"
    }
   ],
   "source": [
    "(7 in [1, 2, 5, 7, 0], 8 in [1, 2, 4, 6, 9])\n",
    "\n"
   ]
  },
  {
   "cell_type": "markdown",
   "metadata": {},
   "source": [
    "**Create list which should use this formula `x = 2y + 1` where y = 1 to 20**"
   ]
  },
  {
   "cell_type": "code",
   "execution_count": 46,
   "metadata": {},
   "outputs": [
    {
     "data": {
      "text/plain": [
       "[3, 5, 7, 9, 11, 13, 15, 17, 19, 21, 23, 25, 27, 29, 31, 33, 35, 37, 39, 41]"
      ]
     },
     "execution_count": 46,
     "metadata": {},
     "output_type": "execute_result"
    }
   ],
   "source": [
    "# Solution # list_comp_2 = [(y, y**2) for y in range(1, 11)]\n",
    "\n",
    "my_list = [(2*y)+1 for y in range(1, 21)]\n",
    "\n",
    "my_list\n"
   ]
  },
  {
   "cell_type": "markdown",
   "metadata": {},
   "source": [
    "**Create a list which should contains 2 dimensional points of a square(x, y)**\n",
    "\n",
    "*Example for a square with width 20, height 20 starting from origin(0, 0)* `[(0, 0), (20, 0), (20, 20), (0, 20)]`"
   ]
  },
  {
   "cell_type": "code",
   "execution_count": 48,
   "metadata": {},
   "outputs": [],
   "source": [
    "#Solution\n",
    "\n"
   ]
  },
  {
   "cell_type": "code",
   "execution_count": null,
   "metadata": {},
   "outputs": [],
   "source": []
  }
 ],
 "metadata": {
  "kernelspec": {
   "display_name": "Python 3.8.13 ('rit_python')",
   "language": "python",
   "name": "python3"
  },
  "language_info": {
   "codemirror_mode": {
    "name": "ipython",
    "version": 3
   },
   "file_extension": ".py",
   "mimetype": "text/x-python",
   "name": "python",
   "nbconvert_exporter": "python",
   "pygments_lexer": "ipython3",
   "version": "3.8.13"
  },
  "orig_nbformat": 4,
  "vscode": {
   "interpreter": {
    "hash": "ac333bc5dc93f4a921f2c56470e56a67ccf5f79955049e67f9cfa4d7dee79d8a"
   }
  }
 },
 "nbformat": 4,
 "nbformat_minor": 2
}
