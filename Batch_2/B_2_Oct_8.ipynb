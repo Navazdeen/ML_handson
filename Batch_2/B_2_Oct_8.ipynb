{
 "cells": [
  {
   "cell_type": "markdown",
   "metadata": {},
   "source": [
    "## Modules in Python"
   ]
  },
  {
   "cell_type": "markdown",
   "metadata": {},
   "source": [
    "**What is modules ?**\n",
    "*A Python module is a file containing Python definitions and statements. A module can define functions, classes, and variables.*\n",
    "\n",
    "**Why it is in python?**\n",
    "*makes the code easier to understand and use*\n",
    "\n",
    "**Types of modules:**\n",
    "- *User defined modules*\n",
    "- *Builtin modules*\n",
    "  - Some builtin modules names in python\n",
    "     * os module\n",
    "     * random module\n",
    "     * math module\n",
    "     * time module\n",
    "     * sys module\n",
    "     * collections module\n",
    "     * statistics module"
   ]
  },
  {
   "cell_type": "code",
   "execution_count": 1,
   "metadata": {},
   "outputs": [
    {
     "name": "stdout",
     "output_type": "stream",
     "text": [
      "1.4142135623730951\n"
     ]
    }
   ],
   "source": [
    "# Builtin modules\n",
    "import math\n",
    "\n",
    "print(math.sqrt(2))\n"
   ]
  },
  {
   "cell_type": "markdown",
   "metadata": {},
   "source": [
    "**Find a factorial of a number by importing required modules ?**"
   ]
  },
  {
   "cell_type": "code",
   "execution_count": 3,
   "metadata": {},
   "outputs": [
    {
     "data": {
      "text/plain": [
       "120"
      ]
     },
     "execution_count": 3,
     "metadata": {},
     "output_type": "execute_result"
    }
   ],
   "source": [
    "# solution\n",
    "\n",
    "math.factorial(5) # 1*2*3*4*5\n"
   ]
  },
  {
   "cell_type": "markdown",
   "metadata": {},
   "source": [
    "**Create your own module which should've palindrome, factorial, fibonacci, digit_reversing**"
   ]
  },
  {
   "cell_type": "code",
   "execution_count": 4,
   "metadata": {},
   "outputs": [],
   "source": [
    "# solution\n"
   ]
  },
  {
   "cell_type": "markdown",
   "metadata": {},
   "source": [
    "**Installing and managing third party packages from pypi**"
   ]
  },
  {
   "cell_type": "markdown",
   "metadata": {},
   "source": [
    "Package library (https://pypi.org/)"
   ]
  },
  {
   "cell_type": "code",
   "execution_count": 5,
   "metadata": {},
   "outputs": [
    {
     "name": "stdout",
     "output_type": "stream",
     "text": [
      "Collecting pygame-2048\n",
      "  Downloading pygame_2048-1.9.4-py3-none-any.whl (3.1 MB)\n",
      "     ---------------------------------------- 3.1/3.1 MB 1.6 MB/s eta 0:00:00\n",
      "Collecting pygame\n",
      "  Using cached pygame-2.1.2-cp38-cp38-win_amd64.whl (8.4 MB)\n",
      "Installing collected packages: pygame, pygame-2048\n",
      "Successfully installed pygame-2.1.2 pygame-2048-1.9.4\n"
     ]
    }
   ],
   "source": [
    "! pip install pygame-2048"
   ]
  },
  {
   "cell_type": "markdown",
   "metadata": {},
   "source": [
    "**Uninstalling a package**"
   ]
  },
  {
   "cell_type": "code",
   "execution_count": 7,
   "metadata": {},
   "outputs": [
    {
     "name": "stderr",
     "output_type": "stream",
     "text": [
      "WARNING: Skipping pygame-2048 as it is not installed.\n"
     ]
    }
   ],
   "source": [
    "! pip uninstall pygame-2048"
   ]
  },
  {
   "cell_type": "markdown",
   "metadata": {},
   "source": [
    "## File Handling python"
   ]
  },
  {
   "cell_type": "markdown",
   "metadata": {},
   "source": [
    "*File location/path -> place where the file exists*"
   ]
  },
  {
   "cell_type": "code",
   "execution_count": 8,
   "metadata": {},
   "outputs": [
    {
     "name": "stdout",
     "output_type": "stream",
     "text": [
      "d:\\programs\\RIT PYTHON\\Batch_2\n"
     ]
    }
   ],
   "source": [
    "import os\n",
    "\n",
    "print(os.getcwd())"
   ]
  },
  {
   "cell_type": "markdown",
   "metadata": {},
   "source": [
    "## File operation in python\n",
    "\n",
    "- Mode\tDescription\n",
    "- r\t-> Opens a file for reading. (default)\n",
    "- w\t-> Opens a file for writing. Creates a new file if it does not exist or truncates the file if it exists.\n",
    "- x\t-> Opens a file for exclusive creation. If the file already exists, the operation fails.\n",
    "- a\t-> Opens a file for appending at the end of the file without truncating it. Creates a new file if it does not exist.\n",
    "- t\t-> Opens in text mode. (default)\n",
    "- b\t-> Opens in binary mode.\n",
    "- `+` -> Opens a file for updating (reading and writing)"
   ]
  },
  {
   "cell_type": "markdown",
   "metadata": {},
   "source": [
    "#### Creating a file and writing a line into the file"
   ]
  },
  {
   "cell_type": "code",
   "execution_count": 11,
   "metadata": {},
   "outputs": [],
   "source": [
    "file = open('new_file.txt', 'w')\n",
    "file.write('Hi this file is created using python')\n",
    "file.close()"
   ]
  },
  {
   "cell_type": "markdown",
   "metadata": {},
   "source": [
    "***Create a file with the name `file.txt` in write mode and write \"Hello, `your_name`\"***"
   ]
  },
  {
   "cell_type": "code",
   "execution_count": 10,
   "metadata": {},
   "outputs": [],
   "source": [
    "# soution\n",
    "\n"
   ]
  },
  {
   "cell_type": "markdown",
   "metadata": {},
   "source": [
    "### Reading a line from the file"
   ]
  },
  {
   "cell_type": "code",
   "execution_count": 15,
   "metadata": {},
   "outputs": [
    {
     "data": {
      "text/plain": [
       "['Hi this file is created using python\\n', '.\\n', 'This is the third line']"
      ]
     },
     "execution_count": 15,
     "metadata": {},
     "output_type": "execute_result"
    }
   ],
   "source": [
    "file = open(\"new_file.txt\", 'r')\n",
    "file.readlines()"
   ]
  },
  {
   "cell_type": "markdown",
   "metadata": {},
   "source": [
    "***Open a file in a read mode and print all the line from it***"
   ]
  },
  {
   "cell_type": "code",
   "execution_count": 16,
   "metadata": {},
   "outputs": [],
   "source": [
    "# solution\n",
    "\n"
   ]
  },
  {
   "cell_type": "code",
   "execution_count": null,
   "metadata": {},
   "outputs": [],
   "source": []
  }
 ],
 "metadata": {
  "kernelspec": {
   "display_name": "Python 3.8.13 ('rit_python')",
   "language": "python",
   "name": "python3"
  },
  "language_info": {
   "codemirror_mode": {
    "name": "ipython",
    "version": 3
   },
   "file_extension": ".py",
   "mimetype": "text/x-python",
   "name": "python",
   "nbconvert_exporter": "python",
   "pygments_lexer": "ipython3",
   "version": "3.8.13"
  },
  "orig_nbformat": 4,
  "vscode": {
   "interpreter": {
    "hash": "ac333bc5dc93f4a921f2c56470e56a67ccf5f79955049e67f9cfa4d7dee79d8a"
   }
  }
 },
 "nbformat": 4,
 "nbformat_minor": 2
}
