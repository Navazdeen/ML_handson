{
 "cells": [
  {
   "cell_type": "markdown",
   "metadata": {},
   "source": [
    "#### *OOPS in Python*\n",
    "\n",
    "- *What is object and classes in python?* \n",
    "  \n",
    "        An object is simply a collection of data, whereas class is the blueprint of the object\n",
    "\n",
    "*Syntax:* ```class <name>: \n",
    "                attributesA\n",
    "                attributesB\n",
    "                attributesC```"
   ]
  },
  {
   "cell_type": "code",
   "execution_count": 28,
   "metadata": {},
   "outputs": [],
   "source": [
    "class Box:\n",
    "    name=\"\"\n",
    "    height=0\n",
    "    width=0"
   ]
  },
  {
   "cell_type": "code",
   "execution_count": 13,
   "metadata": {},
   "outputs": [
    {
     "name": "stdout",
     "output_type": "stream",
     "text": [
      "<class '__main__.Box'>\n"
     ]
    }
   ],
   "source": [
    "print(Box)"
   ]
  },
  {
   "cell_type": "code",
   "execution_count": 14,
   "metadata": {},
   "outputs": [
    {
     "name": "stdout",
     "output_type": "stream",
     "text": [
      "Big Box 12 20\n"
     ]
    }
   ],
   "source": [
    "\n",
    "print(Box.name, Box.height, Box.width)"
   ]
  },
  {
   "cell_type": "code",
   "execution_count": 17,
   "metadata": {},
   "outputs": [],
   "source": [
    "b1 = Box()\n",
    "b2 = Box()"
   ]
  },
  {
   "cell_type": "code",
   "execution_count": 20,
   "metadata": {},
   "outputs": [
    {
     "name": "stdout",
     "output_type": "stream",
     "text": [
      "Big Box 12 20\n"
     ]
    }
   ],
   "source": [
    "print(b1.name, b1.height, b1.width)"
   ]
  },
  {
   "cell_type": "code",
   "execution_count": 21,
   "metadata": {},
   "outputs": [
    {
     "name": "stdout",
     "output_type": "stream",
     "text": [
      "Big Box 12 20\n"
     ]
    }
   ],
   "source": [
    "print(b2.name, b2.height, b2.width)\n"
   ]
  },
  {
   "cell_type": "code",
   "execution_count": 22,
   "metadata": {},
   "outputs": [],
   "source": [
    "b1.name = \"b1 Box\""
   ]
  },
  {
   "cell_type": "code",
   "execution_count": 23,
   "metadata": {},
   "outputs": [
    {
     "name": "stdout",
     "output_type": "stream",
     "text": [
      "b1 Box Big Box\n"
     ]
    }
   ],
   "source": [
    "print(b1.name, b2.name)"
   ]
  },
  {
   "cell_type": "code",
   "execution_count": 24,
   "metadata": {},
   "outputs": [
    {
     "name": "stdout",
     "output_type": "stream",
     "text": [
      "Big Box 12 20\n"
     ]
    }
   ],
   "source": [
    "b3 = Box()\n",
    "print(b3.name, b3.height, b3.width)"
   ]
  },
  {
   "cell_type": "code",
   "execution_count": 25,
   "metadata": {},
   "outputs": [],
   "source": [
    "Box.name = \"new Box\""
   ]
  },
  {
   "cell_type": "code",
   "execution_count": 26,
   "metadata": {},
   "outputs": [],
   "source": [
    "b4 = Box()"
   ]
  },
  {
   "cell_type": "code",
   "execution_count": 27,
   "metadata": {},
   "outputs": [
    {
     "name": "stdout",
     "output_type": "stream",
     "text": [
      "new Box\n"
     ]
    }
   ],
   "source": [
    "print(b4.name)"
   ]
  },
  {
   "cell_type": "markdown",
   "metadata": {},
   "source": [
    "*Create a class called `Book` which should have `bookname, pages, authorname` properties*"
   ]
  },
  {
   "cell_type": "code",
   "execution_count": 29,
   "metadata": {},
   "outputs": [],
   "source": [
    "class Book:\n",
    "    bookname=\"\"\n",
    "    pages=0\n",
    "    authorname=\"\"\n"
   ]
  },
  {
   "cell_type": "code",
   "execution_count": 30,
   "metadata": {},
   "outputs": [],
   "source": [
    "b1 = Book()\n",
    "b2 = Book()\n",
    "b3 = Book()"
   ]
  },
  {
   "cell_type": "code",
   "execution_count": 31,
   "metadata": {},
   "outputs": [],
   "source": [
    "b1.bookname=\"Physics\"\n",
    "b1.pages=300\n",
    "b1.authorname=\"Einstein\""
   ]
  },
  {
   "cell_type": "code",
   "execution_count": 32,
   "metadata": {},
   "outputs": [],
   "source": [
    "b2.bookname=\"Maths\"\n",
    "b2.pages=120\n",
    "b2.authorname=\"Ramanujam\""
   ]
  },
  {
   "cell_type": "code",
   "execution_count": 41,
   "metadata": {},
   "outputs": [],
   "source": [
    "b3.bookname=\"Computer\"\n",
    "b3.pages=450\n",
    "b3.authorname=\"Einstein\""
   ]
  },
  {
   "cell_type": "code",
   "execution_count": 34,
   "metadata": {},
   "outputs": [
    {
     "name": "stdout",
     "output_type": "stream",
     "text": [
      "Physics Maths Computer\n"
     ]
    }
   ],
   "source": [
    "print(b1.bookname, b2.bookname, b3.bookname)"
   ]
  },
  {
   "cell_type": "code",
   "execution_count": 42,
   "metadata": {},
   "outputs": [
    {
     "name": "stdout",
     "output_type": "stream",
     "text": [
      "Physics 300 Einstein\n",
      "Computer 450 Einstein\n"
     ]
    }
   ],
   "source": [
    "booklist = [b1, b2, b3]\n",
    "\n",
    "for book in booklist:\n",
    "    if book.authorname == \"Einstein\":\n",
    "        print(book.bookname, book.pages, book.authorname)"
   ]
  },
  {
   "cell_type": "code",
   "execution_count": 46,
   "metadata": {},
   "outputs": [
    {
     "name": "stdout",
     "output_type": "stream",
     "text": [
      "[<__main__.Book object at 0x0000026BBDCDD6A0>, <__main__.Book object at 0x0000026BBDCDD3A0>, <__main__.Book object at 0x0000026BBDCDD700>]\n"
     ]
    }
   ],
   "source": [
    "print(booklist)"
   ]
  },
  {
   "cell_type": "markdown",
   "metadata": {},
   "source": [
    "*Create a class called `Contacts` which should have `name and phonenumber` properties and write a for loop to find a `phone number` using the `name`*"
   ]
  },
  {
   "cell_type": "code",
   "execution_count": 43,
   "metadata": {},
   "outputs": [],
   "source": [
    "# solution\n",
    "class Contacts:\n",
    "    name=\"\"\n",
    "    phonenumber=0\n",
    "\n",
    "contactlist = []\n",
    "\n",
    "def add_contacts(name, phonenumber):\n",
    "    c = Contacts()\n",
    "    c.name = name\n",
    "    c.phonenumber = phonenumber\n",
    "    contactlist.append(c)\n",
    "\n",
    "def find_phonenumber(name):\n",
    "    for c in contactlist:\n",
    "        if c.name == name:\n",
    "            print(c.name, c.phonenumber)"
   ]
  },
  {
   "cell_type": "code",
   "execution_count": 44,
   "metadata": {},
   "outputs": [],
   "source": [
    "add_contacts(\"siva\", 12345678)\n",
    "add_contacts(\"meera\", 87654321)"
   ]
  },
  {
   "cell_type": "code",
   "execution_count": 45,
   "metadata": {},
   "outputs": [
    {
     "name": "stdout",
     "output_type": "stream",
     "text": [
      "[<__main__.Contacts object at 0x0000026BBE33A1C0>, <__main__.Contacts object at 0x0000026BBE689F10>]\n"
     ]
    }
   ],
   "source": [
    "print(contactlist)"
   ]
  },
  {
   "cell_type": "code",
   "execution_count": 48,
   "metadata": {},
   "outputs": [
    {
     "name": "stdout",
     "output_type": "stream",
     "text": [
      "siva 12345678\n"
     ]
    }
   ],
   "source": [
    "find_phonenumber(\"siva\")"
   ]
  },
  {
   "cell_type": "code",
   "execution_count": 49,
   "metadata": {},
   "outputs": [
    {
     "name": "stdout",
     "output_type": "stream",
     "text": [
      "meera 87654321\n"
     ]
    }
   ],
   "source": [
    "find_phonenumber(\"meera\")"
   ]
  },
  {
   "cell_type": "markdown",
   "metadata": {},
   "source": [
    "*Create `Pet` class which should have `name, type(\"dog\", \"cat\",....), sound` properties and write a function to `create a Pet and find a Pet and del a Pet`*"
   ]
  },
  {
   "cell_type": "code",
   "execution_count": 1,
   "metadata": {},
   "outputs": [],
   "source": [
    "class Pet:\n",
    "    def __init__(self, name, type, sound):\n",
    "        self.name = name\n",
    "        self.type = type\n",
    "        self.sound = sound"
   ]
  },
  {
   "cell_type": "code",
   "execution_count": 2,
   "metadata": {},
   "outputs": [],
   "source": [
    "# p1 = Pet()\n",
    "# p1.name = \"Jack\"\n",
    "# p1.sound = \"Bow\"\n",
    "# p1.type = \"Dog\"\n",
    "Pet(\"Jack\", \"Dog\", \"Bow\")\n"
   ]
  },
  {
   "cell_type": "code",
   "execution_count": 6,
   "metadata": {},
   "outputs": [],
   "source": [
    "pet_list = []\n",
    "\n",
    "def create_pet(name, type, sound):\n",
    "    p = Pet(name, type, sound)\n",
    "    pet_list.append(p)"
   ]
  },
  {
   "cell_type": "code",
   "execution_count": 20,
   "metadata": {},
   "outputs": [],
   "source": [
    "create_pet(\"Doggy\", \"dog\", \"wow wow\")"
   ]
  },
  {
   "cell_type": "code",
   "execution_count": 8,
   "metadata": {},
   "outputs": [
    {
     "name": "stdout",
     "output_type": "stream",
     "text": [
      "[<__main__.Pet object at 0x000001AB787AA400>]\n"
     ]
    }
   ],
   "source": [
    "print(pet_list)"
   ]
  },
  {
   "cell_type": "code",
   "execution_count": 9,
   "metadata": {},
   "outputs": [],
   "source": [
    "create_pet(\"jacky\", \"Dog\", \"weew\")"
   ]
  },
  {
   "cell_type": "code",
   "execution_count": 10,
   "metadata": {},
   "outputs": [
    {
     "name": "stdout",
     "output_type": "stream",
     "text": [
      "[<__main__.Pet object at 0x000001AB787AA400>, <__main__.Pet object at 0x000001AB787AAA30>]\n"
     ]
    }
   ],
   "source": [
    "print(pet_list)"
   ]
  },
  {
   "cell_type": "code",
   "execution_count": 12,
   "metadata": {},
   "outputs": [],
   "source": [
    "def find_pet_by_name(name):\n",
    "    for pet in pet_list:\n",
    "        if pet.name == name:\n",
    "            print(pet.name, pet.type, pet.sound)"
   ]
  },
  {
   "cell_type": "code",
   "execution_count": 13,
   "metadata": {},
   "outputs": [
    {
     "name": "stdout",
     "output_type": "stream",
     "text": [
      "jacky Dog weew\n"
     ]
    }
   ],
   "source": [
    "find_pet_by_name(\"jacky\")"
   ]
  },
  {
   "cell_type": "code",
   "execution_count": 14,
   "metadata": {},
   "outputs": [],
   "source": [
    "def del_pet_by_name(name):\n",
    "    for pet in pet_list:\n",
    "        if pet.name == name:\n",
    "            pet_list.remove(pet)"
   ]
  },
  {
   "cell_type": "code",
   "execution_count": 15,
   "metadata": {},
   "outputs": [],
   "source": [
    "del_pet_by_name(\"Doggy\")"
   ]
  },
  {
   "cell_type": "code",
   "execution_count": 16,
   "metadata": {},
   "outputs": [],
   "source": [
    "find_pet_by_name(\"Doggy\")"
   ]
  },
  {
   "cell_type": "code",
   "execution_count": 17,
   "metadata": {},
   "outputs": [
    {
     "name": "stdout",
     "output_type": "stream",
     "text": [
      "jacky Dog weew\n"
     ]
    }
   ],
   "source": [
    "find_pet_by_name(\"jacky\")"
   ]
  },
  {
   "cell_type": "code",
   "execution_count": 18,
   "metadata": {},
   "outputs": [],
   "source": [
    "def show_all_pet():\n",
    "    for pet in pet_list:\n",
    "        print(pet.name, pet.type, pet.sound)"
   ]
  },
  {
   "cell_type": "code",
   "execution_count": 21,
   "metadata": {},
   "outputs": [
    {
     "name": "stdout",
     "output_type": "stream",
     "text": [
      "jacky Dog weew\n",
      "Doggy dog wow wow\n"
     ]
    }
   ],
   "source": [
    "show_all_pet()"
   ]
  },
  {
   "cell_type": "code",
   "execution_count": 22,
   "metadata": {},
   "outputs": [],
   "source": [
    "del_pet_by_name(\"jacky\")"
   ]
  },
  {
   "cell_type": "code",
   "execution_count": 23,
   "metadata": {},
   "outputs": [
    {
     "name": "stdout",
     "output_type": "stream",
     "text": [
      "Doggy dog wow wow\n"
     ]
    }
   ],
   "source": [
    "show_all_pet()"
   ]
  },
  {
   "cell_type": "code",
   "execution_count": 31,
   "metadata": {},
   "outputs": [
    {
     "name": "stdout",
     "output_type": "stream",
     "text": [
      "<__main__.Pet object at 0x000001AB787B1340>\n"
     ]
    }
   ],
   "source": [
    "\n",
    "name = input(\"enter name\")\n",
    "type = input(\"enter type\")\n",
    "sound = input(\"enter sound\")\n",
    "p1 = Pet(name, type, sound)\n",
    "\n",
    "print(p1)"
   ]
  },
  {
   "cell_type": "code",
   "execution_count": 32,
   "metadata": {},
   "outputs": [
    {
     "name": "stdout",
     "output_type": "stream",
     "text": [
      "Jack dog wow\n"
     ]
    }
   ],
   "source": [
    "print(p1.name, p1.type, p1.sound)"
   ]
  },
  {
   "cell_type": "markdown",
   "metadata": {},
   "source": [
    "*Create a class `Student` which should have an attributes of `name, age, marks`*"
   ]
  },
  {
   "cell_type": "code",
   "execution_count": null,
   "metadata": {},
   "outputs": [],
   "source": [
    "# class Pet:\n",
    "#     def __init__(self, name, type, sound):\n",
    "#         self.name = name\n",
    "#         self.type = type\n",
    "#         self.sound = sound\n",
    "class Student:\n",
    "    # your code for class"
   ]
  },
  {
   "cell_type": "markdown",
   "metadata": {},
   "source": [
    "*Create a function to create a `student` object and append it to `student list`*"
   ]
  },
  {
   "cell_type": "code",
   "execution_count": null,
   "metadata": {},
   "outputs": [],
   "source": [
    "student_list = []   \n",
    "\n",
    "def create_student(name, age, marks):\n",
    "    # your code for creating and appending student object to list"
   ]
  },
  {
   "cell_type": "markdown",
   "metadata": {},
   "source": [
    "*Create a function to print all the `student` whose `marks` are above `specified_marks(80, 70, ...)`*"
   ]
  },
  {
   "cell_type": "code",
   "execution_count": null,
   "metadata": {},
   "outputs": [],
   "source": [
    "def student_marks_above(marks):\n",
    "    # your code for finding a student greater than marks"
   ]
  },
  {
   "cell_type": "markdown",
   "metadata": {},
   "source": [
    "*find sum of all `students` marks*"
   ]
  },
  {
   "cell_type": "code",
   "execution_count": null,
   "metadata": {},
   "outputs": [],
   "source": [
    "def sum_of_all_students_mark():\n",
    "    # Create your code to find the sum of all student mark"
   ]
  },
  {
   "cell_type": "markdown",
   "metadata": {},
   "source": [
    "### **Test 1**"
   ]
  },
  {
   "cell_type": "markdown",
   "metadata": {},
   "source": [
    "*Create a class called `Student` which has name, section, total marks in all subject for 500*"
   ]
  },
  {
   "cell_type": "code",
   "execution_count": null,
   "metadata": {},
   "outputs": [],
   "source": []
  },
  {
   "cell_type": "markdown",
   "metadata": {},
   "source": [
    "*Write a function called `add_student` object to `student_list`?*"
   ]
  },
  {
   "cell_type": "code",
   "execution_count": null,
   "metadata": {},
   "outputs": [],
   "source": []
  },
  {
   "cell_type": "markdown",
   "metadata": {},
   "source": [
    "**After writing the above function run the below code to add all the student object to student_list**\n",
    "```\n",
    "add_student(\"raj\", \"B\", 368)\n",
    "add_student(\"Mark\", \"A\", 444)\n",
    "add_student(\"Sania\", \"B\", 439)\n",
    "add_student(\"Bharathi\", \"A\", 490)\n",
    "add_student(\"Apoorva\", \"A\", 456)\n",
    "add_student(\"John\", \"B\", 321)\n",
    "add_student(\"Raja\", \"B\", 250)\n",
    "add_student(\"Max\", \"A\", 480)\n",
    "add_student(\"Paartha\", \"A\", 239)\n",
    "add_student(\"Arul\", \"B\", 386)\n",
    "add_student(\"Karna\", \"A\", 454)\n",
    "add_student(\"Kiran\", \"B\", 467)\n",
    "```"
   ]
  },
  {
   "cell_type": "markdown",
   "metadata": {},
   "source": [
    "*Write a function to print all the students who scored greater than 450 for 500?*"
   ]
  },
  {
   "cell_type": "code",
   "execution_count": null,
   "metadata": {},
   "outputs": [],
   "source": []
  },
  {
   "cell_type": "markdown",
   "metadata": {},
   "source": [
    "*Write a function to find the average marks of all the students?*"
   ]
  },
  {
   "cell_type": "markdown",
   "metadata": {},
   "source": [
    "\n",
    "```\n",
    "N = 10\n",
    "sum = 0\n",
    "for num in range(1, N+1):\n",
    "    sum = sum + num\n",
    "```"
   ]
  },
  {
   "cell_type": "code",
   "execution_count": null,
   "metadata": {},
   "outputs": [],
   "source": []
  },
  {
   "cell_type": "markdown",
   "metadata": {},
   "source": [
    "*Write a function to find the highest mark student?*"
   ]
  },
  {
   "cell_type": "code",
   "execution_count": null,
   "metadata": {},
   "outputs": [],
   "source": []
  },
  {
   "cell_type": "markdown",
   "metadata": {},
   "source": [
    "*Write a function to find the minimum marks of the student?*"
   ]
  },
  {
   "cell_type": "code",
   "execution_count": null,
   "metadata": {},
   "outputs": [],
   "source": []
  },
  {
   "cell_type": "markdown",
   "metadata": {},
   "source": [
    "#### Test 2"
   ]
  },
  {
   "cell_type": "markdown",
   "metadata": {},
   "source": [
    "- *Write a function find the square root of a number ?*"
   ]
  },
  {
   "cell_type": "markdown",
   "metadata": {},
   "source": [
    "- *Write a function to find the whether number is a perfect square ?*"
   ]
  },
  {
   "cell_type": "markdown",
   "metadata": {},
   "source": [
    "- *Write a function to add GST(18%) to the total cost ?*  *`Hint` you've to find 18% of the total cost and add it to total cost*"
   ]
  },
  {
   "cell_type": "markdown",
   "metadata": {},
   "source": [
    "- *Write a function to calculate the SI(Simple Interest) ?  `Hint` SI = (pnr)/100 where p = principal amount, n = number of years, r = rate of interest*"
   ]
  },
  {
   "cell_type": "markdown",
   "metadata": {},
   "source": [
    "- *Find a factorial of a number ?*"
   ]
  },
  {
   "cell_type": "markdown",
   "metadata": {},
   "source": [
    "- *find the value of x where $$ x= {-b \\pm \\sqrt{b^2-4ac} \\over 2a} $$*\n",
    "\n",
    "                                    where: b = 20, a = 12, c = 5"
   ]
  },
  {
   "cell_type": "markdown",
   "metadata": {},
   "source": [
    "high_mark = 0\n",
    "stu_obj = None\n",
    "if high_mark < student.mark:\n",
    "    high_mark = student\n",
    "    stu_obj = student"
   ]
  },
  {
   "cell_type": "markdown",
   "metadata": {},
   "source": [
    "#### *tic tac toe board game*"
   ]
  },
  {
   "cell_type": "code",
   "execution_count": 20,
   "metadata": {},
   "outputs": [
    {
     "name": "stdout",
     "output_type": "stream",
     "text": [
      "name :one\n"
     ]
    }
   ],
   "source": [
    "print(f\"name :{name}\")\n",
    "name = \"one\""
   ]
  },
  {
   "cell_type": "code",
   "execution_count": 25,
   "metadata": {},
   "outputs": [
    {
     "data": {
      "text/plain": [
       "[' ', ' ', ' ', ' ', ' ', ' ', ' ', ' ', ' ']"
      ]
     },
     "execution_count": 25,
     "metadata": {},
     "output_type": "execute_result"
    }
   ],
   "source": [
    "board = [\" \" for _ in range(9)]\n",
    "board"
   ]
  },
  {
   "cell_type": "markdown",
   "metadata": {},
   "source": [
    "```\n",
    "      |  |\n",
    "   ---+--+---\n",
    "      |  |   \n",
    "   ---+--+----\n",
    "      |  |\n",
    "   ```"
   ]
  },
  {
   "cell_type": "code",
   "execution_count": 26,
   "metadata": {},
   "outputs": [
    {
     "name": "stdout",
     "output_type": "stream",
     "text": [
      "   |   |   \n",
      "---+---+---\n",
      "   |   |   \n",
      "---+---+---\n",
      "   |   |   \n"
     ]
    }
   ],
   "source": [
    "def print_board(board):\n",
    "    print(f\" {board[0]} | {board[1]} | {board[2]} \\n---+---+---\\n {board[3]} | {board[4]} | {board[5]} \\n---+---+---\\n {board[6]} | {board[7]} | {board[8]} \")\n",
    "\n",
    "print_board(board)"
   ]
  },
  {
   "cell_type": "code",
   "execution_count": null,
   "metadata": {},
   "outputs": [],
   "source": [
    "def get_user_input(board, who):\n",
    "    # get position from user\n",
    "    "
   ]
  }
 ],
 "metadata": {
  "kernelspec": {
   "display_name": "Python 3.8.13 ('rit_python')",
   "language": "python",
   "name": "python3"
  },
  "language_info": {
   "codemirror_mode": {
    "name": "ipython",
    "version": 3
   },
   "file_extension": ".py",
   "mimetype": "text/x-python",
   "name": "python",
   "nbconvert_exporter": "python",
   "pygments_lexer": "ipython3",
   "version": "3.8.13"
  },
  "orig_nbformat": 4,
  "vscode": {
   "interpreter": {
    "hash": "ac333bc5dc93f4a921f2c56470e56a67ccf5f79955049e67f9cfa4d7dee79d8a"
   }
  }
 },
 "nbformat": 4,
 "nbformat_minor": 2
}
