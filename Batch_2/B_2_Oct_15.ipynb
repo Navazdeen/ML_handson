{
 "cells": [
  {
   "cell_type": "markdown",
   "metadata": {},
   "source": [
    "#### *OOPS in Python*\n",
    "\n",
    "- *What is object and classes in python?* \n",
    "  \n",
    "        An object is simply a collection of data, whereas class is the blueprint of the object\n",
    "\n",
    "*Syntax:* ```class <name>: \n",
    "                attributesA\n",
    "                attributesB\n",
    "                attributesC```"
   ]
  },
  {
   "cell_type": "code",
   "execution_count": 28,
   "metadata": {},
   "outputs": [],
   "source": [
    "class Box:\n",
    "    name=\"\"\n",
    "    height=0\n",
    "    width=0"
   ]
  },
  {
   "cell_type": "code",
   "execution_count": 13,
   "metadata": {},
   "outputs": [
    {
     "name": "stdout",
     "output_type": "stream",
     "text": [
      "<class '__main__.Box'>\n"
     ]
    }
   ],
   "source": [
    "print(Box)"
   ]
  },
  {
   "cell_type": "code",
   "execution_count": 14,
   "metadata": {},
   "outputs": [
    {
     "name": "stdout",
     "output_type": "stream",
     "text": [
      "Big Box 12 20\n"
     ]
    }
   ],
   "source": [
    "\n",
    "print(Box.name, Box.height, Box.width)"
   ]
  },
  {
   "cell_type": "code",
   "execution_count": 17,
   "metadata": {},
   "outputs": [],
   "source": [
    "b1 = Box()\n",
    "b2 = Box()"
   ]
  },
  {
   "cell_type": "code",
   "execution_count": 20,
   "metadata": {},
   "outputs": [
    {
     "name": "stdout",
     "output_type": "stream",
     "text": [
      "Big Box 12 20\n"
     ]
    }
   ],
   "source": [
    "print(b1.name, b1.height, b1.width)"
   ]
  },
  {
   "cell_type": "code",
   "execution_count": 21,
   "metadata": {},
   "outputs": [
    {
     "name": "stdout",
     "output_type": "stream",
     "text": [
      "Big Box 12 20\n"
     ]
    }
   ],
   "source": [
    "print(b2.name, b2.height, b2.width)\n"
   ]
  },
  {
   "cell_type": "code",
   "execution_count": 22,
   "metadata": {},
   "outputs": [],
   "source": [
    "b1.name = \"b1 Box\""
   ]
  },
  {
   "cell_type": "code",
   "execution_count": 23,
   "metadata": {},
   "outputs": [
    {
     "name": "stdout",
     "output_type": "stream",
     "text": [
      "b1 Box Big Box\n"
     ]
    }
   ],
   "source": [
    "print(b1.name, b2.name)"
   ]
  },
  {
   "cell_type": "code",
   "execution_count": 24,
   "metadata": {},
   "outputs": [
    {
     "name": "stdout",
     "output_type": "stream",
     "text": [
      "Big Box 12 20\n"
     ]
    }
   ],
   "source": [
    "b3 = Box()\n",
    "print(b3.name, b3.height, b3.width)"
   ]
  },
  {
   "cell_type": "code",
   "execution_count": 25,
   "metadata": {},
   "outputs": [],
   "source": [
    "Box.name = \"new Box\""
   ]
  },
  {
   "cell_type": "code",
   "execution_count": 26,
   "metadata": {},
   "outputs": [],
   "source": [
    "b4 = Box()"
   ]
  },
  {
   "cell_type": "code",
   "execution_count": 27,
   "metadata": {},
   "outputs": [
    {
     "name": "stdout",
     "output_type": "stream",
     "text": [
      "new Box\n"
     ]
    }
   ],
   "source": [
    "print(b4.name)"
   ]
  },
  {
   "cell_type": "markdown",
   "metadata": {},
   "source": [
    "*Create a class called `Book` which should have `bookname, pages, authorname` properties*"
   ]
  },
  {
   "cell_type": "code",
   "execution_count": 29,
   "metadata": {},
   "outputs": [],
   "source": [
    "class Book:\n",
    "    bookname=\"\"\n",
    "    pages=0\n",
    "    authorname=\"\"\n"
   ]
  },
  {
   "cell_type": "code",
   "execution_count": 30,
   "metadata": {},
   "outputs": [],
   "source": [
    "b1 = Book()\n",
    "b2 = Book()\n",
    "b3 = Book()"
   ]
  },
  {
   "cell_type": "code",
   "execution_count": 31,
   "metadata": {},
   "outputs": [],
   "source": [
    "b1.bookname=\"Physics\"\n",
    "b1.pages=300\n",
    "b1.authorname=\"Einstein\""
   ]
  },
  {
   "cell_type": "code",
   "execution_count": 32,
   "metadata": {},
   "outputs": [],
   "source": [
    "b2.bookname=\"Maths\"\n",
    "b2.pages=120\n",
    "b2.authorname=\"Ramanujam\""
   ]
  },
  {
   "cell_type": "code",
   "execution_count": 41,
   "metadata": {},
   "outputs": [],
   "source": [
    "b3.bookname=\"Computer\"\n",
    "b3.pages=450\n",
    "b3.authorname=\"Einstein\""
   ]
  },
  {
   "cell_type": "code",
   "execution_count": 34,
   "metadata": {},
   "outputs": [
    {
     "name": "stdout",
     "output_type": "stream",
     "text": [
      "Physics Maths Computer\n"
     ]
    }
   ],
   "source": [
    "print(b1.bookname, b2.bookname, b3.bookname)"
   ]
  },
  {
   "cell_type": "code",
   "execution_count": 42,
   "metadata": {},
   "outputs": [
    {
     "name": "stdout",
     "output_type": "stream",
     "text": [
      "Physics 300 Einstein\n",
      "Computer 450 Einstein\n"
     ]
    }
   ],
   "source": [
    "booklist = [b1, b2, b3]\n",
    "\n",
    "for book in booklist:\n",
    "    if book.authorname == \"Einstein\":\n",
    "        print(book.bookname, book.pages, book.authorname)"
   ]
  },
  {
   "cell_type": "code",
   "execution_count": 46,
   "metadata": {},
   "outputs": [
    {
     "name": "stdout",
     "output_type": "stream",
     "text": [
      "[<__main__.Book object at 0x0000026BBDCDD6A0>, <__main__.Book object at 0x0000026BBDCDD3A0>, <__main__.Book object at 0x0000026BBDCDD700>]\n"
     ]
    }
   ],
   "source": [
    "print(booklist)"
   ]
  },
  {
   "cell_type": "markdown",
   "metadata": {},
   "source": [
    "*Create a class called `Contacts` which should have `name and phonenumber` properties and write a for loop to find a `phone number` using the `name`*"
   ]
  },
  {
   "cell_type": "code",
   "execution_count": 43,
   "metadata": {},
   "outputs": [],
   "source": [
    "# solution\n",
    "class Contacts:\n",
    "    name=\"\"\n",
    "    phonenumber=0\n",
    "\n",
    "contactlist = []\n",
    "\n",
    "def add_contacts(name, phonenumber):\n",
    "    c = Contacts()\n",
    "    c.name = name\n",
    "    c.phonenumber = phonenumber\n",
    "    contactlist.append(c)\n",
    "\n",
    "def find_phonenumber(name):\n",
    "    for c in contactlist:\n",
    "        if c.name == name:\n",
    "            print(c.name, c.phonenumber)"
   ]
  },
  {
   "cell_type": "code",
   "execution_count": 44,
   "metadata": {},
   "outputs": [],
   "source": [
    "add_contacts(\"siva\", 12345678)\n",
    "add_contacts(\"meera\", 87654321)"
   ]
  },
  {
   "cell_type": "code",
   "execution_count": 45,
   "metadata": {},
   "outputs": [
    {
     "name": "stdout",
     "output_type": "stream",
     "text": [
      "[<__main__.Contacts object at 0x0000026BBE33A1C0>, <__main__.Contacts object at 0x0000026BBE689F10>]\n"
     ]
    }
   ],
   "source": [
    "print(contactlist)"
   ]
  },
  {
   "cell_type": "code",
   "execution_count": 48,
   "metadata": {},
   "outputs": [
    {
     "name": "stdout",
     "output_type": "stream",
     "text": [
      "siva 12345678\n"
     ]
    }
   ],
   "source": [
    "find_phonenumber(\"siva\")"
   ]
  },
  {
   "cell_type": "code",
   "execution_count": 49,
   "metadata": {},
   "outputs": [
    {
     "name": "stdout",
     "output_type": "stream",
     "text": [
      "meera 87654321\n"
     ]
    }
   ],
   "source": [
    "find_phonenumber(\"meera\")"
   ]
  },
  {
   "cell_type": "markdown",
   "metadata": {},
   "source": [
    "*Create `Pet` class which should have `name, type(\"dog\", \"cat\",....), sound` properties and write a function to `create a Pet and find a Pet and del a Pet`*"
   ]
  },
  {
   "cell_type": "code",
   "execution_count": 1,
   "metadata": {},
   "outputs": [],
   "source": [
    "class Pet:\n",
    "    def __init__(self, name, type, sound):\n",
    "        self.name = name\n",
    "        self.type = type\n",
    "        self.sound = sound"
   ]
  },
  {
   "cell_type": "code",
   "execution_count": 2,
   "metadata": {},
   "outputs": [],
   "source": [
    "# p1 = Pet()\n",
    "# p1.name = \"Jack\"\n",
    "# p1.sound = \"Bow\"\n",
    "# p1.type = \"Dog\"\n",
    "Pet(\"Jack\", \"Dog\", \"Bow\")\n"
   ]
  },
  {
   "cell_type": "code",
   "execution_count": 6,
   "metadata": {},
   "outputs": [],
   "source": [
    "pet_list = []\n",
    "\n",
    "def create_pet(name, type, sound):\n",
    "    p = Pet(name, type, sound)\n",
    "    pet_list.append(p)"
   ]
  },
  {
   "cell_type": "code",
   "execution_count": 20,
   "metadata": {},
   "outputs": [],
   "source": [
    "create_pet(\"Doggy\", \"dog\", \"wow wow\")"
   ]
  },
  {
   "cell_type": "code",
   "execution_count": 8,
   "metadata": {},
   "outputs": [
    {
     "name": "stdout",
     "output_type": "stream",
     "text": [
      "[<__main__.Pet object at 0x000001AB787AA400>]\n"
     ]
    }
   ],
   "source": [
    "print(pet_list)"
   ]
  },
  {
   "cell_type": "code",
   "execution_count": 9,
   "metadata": {},
   "outputs": [],
   "source": [
    "create_pet(\"jacky\", \"Dog\", \"weew\")"
   ]
  },
  {
   "cell_type": "code",
   "execution_count": 10,
   "metadata": {},
   "outputs": [
    {
     "name": "stdout",
     "output_type": "stream",
     "text": [
      "[<__main__.Pet object at 0x000001AB787AA400>, <__main__.Pet object at 0x000001AB787AAA30>]\n"
     ]
    }
   ],
   "source": [
    "print(pet_list)"
   ]
  },
  {
   "cell_type": "code",
   "execution_count": 12,
   "metadata": {},
   "outputs": [],
   "source": [
    "def find_pet_by_name(name):\n",
    "    for pet in pet_list:\n",
    "        if pet.name == name:\n",
    "            print(pet.name, pet.type, pet.sound)"
   ]
  },
  {
   "cell_type": "code",
   "execution_count": 13,
   "metadata": {},
   "outputs": [
    {
     "name": "stdout",
     "output_type": "stream",
     "text": [
      "jacky Dog weew\n"
     ]
    }
   ],
   "source": [
    "find_pet_by_name(\"jacky\")"
   ]
  },
  {
   "cell_type": "code",
   "execution_count": 14,
   "metadata": {},
   "outputs": [],
   "source": [
    "def del_pet_by_name(name):\n",
    "    for pet in pet_list:\n",
    "        if pet.name == name:\n",
    "            pet_list.remove(pet)"
   ]
  },
  {
   "cell_type": "code",
   "execution_count": 15,
   "metadata": {},
   "outputs": [],
   "source": [
    "del_pet_by_name(\"Doggy\")"
   ]
  },
  {
   "cell_type": "code",
   "execution_count": 16,
   "metadata": {},
   "outputs": [],
   "source": [
    "find_pet_by_name(\"Doggy\")"
   ]
  },
  {
   "cell_type": "code",
   "execution_count": 17,
   "metadata": {},
   "outputs": [
    {
     "name": "stdout",
     "output_type": "stream",
     "text": [
      "jacky Dog weew\n"
     ]
    }
   ],
   "source": [
    "find_pet_by_name(\"jacky\")"
   ]
  },
  {
   "cell_type": "code",
   "execution_count": 18,
   "metadata": {},
   "outputs": [],
   "source": [
    "def show_all_pet():\n",
    "    for pet in pet_list:\n",
    "        print(pet.name, pet.type, pet.sound)"
   ]
  },
  {
   "cell_type": "code",
   "execution_count": 21,
   "metadata": {},
   "outputs": [
    {
     "name": "stdout",
     "output_type": "stream",
     "text": [
      "jacky Dog weew\n",
      "Doggy dog wow wow\n"
     ]
    }
   ],
   "source": [
    "show_all_pet()"
   ]
  },
  {
   "cell_type": "code",
   "execution_count": 22,
   "metadata": {},
   "outputs": [],
   "source": [
    "del_pet_by_name(\"jacky\")"
   ]
  },
  {
   "cell_type": "code",
   "execution_count": 23,
   "metadata": {},
   "outputs": [
    {
     "name": "stdout",
     "output_type": "stream",
     "text": [
      "Doggy dog wow wow\n"
     ]
    }
   ],
   "source": [
    "show_all_pet()"
   ]
  },
  {
   "cell_type": "markdown",
   "metadata": {},
   "source": []
  }
 ],
 "metadata": {
  "kernelspec": {
   "display_name": "Python 3.8.13 ('rit_python')",
   "language": "python",
   "name": "python3"
  },
  "language_info": {
   "codemirror_mode": {
    "name": "ipython",
    "version": 3
   },
   "file_extension": ".py",
   "mimetype": "text/x-python",
   "name": "python",
   "nbconvert_exporter": "python",
   "pygments_lexer": "ipython3",
   "version": "3.8.13"
  },
  "orig_nbformat": 4,
  "vscode": {
   "interpreter": {
    "hash": "ac333bc5dc93f4a921f2c56470e56a67ccf5f79955049e67f9cfa4d7dee79d8a"
   }
  }
 },
 "nbformat": 4,
 "nbformat_minor": 2
}
