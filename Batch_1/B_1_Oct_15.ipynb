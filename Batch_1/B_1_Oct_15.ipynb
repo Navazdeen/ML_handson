{
 "cells": [
  {
   "cell_type": "markdown",
   "metadata": {},
   "source": [
    "- **Password Generator**\n",
    "- **Morse code translator**"
   ]
  },
  {
   "cell_type": "markdown",
   "metadata": {},
   "source": [
    "#### *OOPS in Python*\n",
    "\n",
    "- *What is object and classes in python?* \n",
    "  \n",
    "        An object is simply a collection of data, whereas class is the blueprint of the object\n",
    "\n",
    "*Syntax:* ```class <name>: \n",
    "                attributesA\n",
    "                attributesB\n",
    "                attributesC```"
   ]
  },
  {
   "cell_type": "code",
   "execution_count": 9,
   "metadata": {},
   "outputs": [],
   "source": [
    "class Box:\n",
    "    height=12\n",
    "    width=15\n",
    "    shape=\"square\"\n",
    "    weight=\"5kg\"\n",
    "    number_of_corners=4\n"
   ]
  },
  {
   "cell_type": "code",
   "execution_count": 2,
   "metadata": {},
   "outputs": [
    {
     "name": "stdout",
     "output_type": "stream",
     "text": [
      "<class '__main__.Box'>\n"
     ]
    }
   ],
   "source": [
    "print(Box)"
   ]
  },
  {
   "cell_type": "code",
   "execution_count": 3,
   "metadata": {},
   "outputs": [
    {
     "name": "stdout",
     "output_type": "stream",
     "text": [
      "12\n"
     ]
    }
   ],
   "source": [
    "print(Box.height)"
   ]
  },
  {
   "cell_type": "code",
   "execution_count": 4,
   "metadata": {},
   "outputs": [],
   "source": [
    "Box.shape = \"Rectange\""
   ]
  },
  {
   "cell_type": "code",
   "execution_count": 5,
   "metadata": {},
   "outputs": [
    {
     "name": "stdout",
     "output_type": "stream",
     "text": [
      "Rectange\n"
     ]
    }
   ],
   "source": [
    "print(Box.shape)"
   ]
  },
  {
   "cell_type": "code",
   "execution_count": 6,
   "metadata": {},
   "outputs": [],
   "source": [
    "box1 = Box"
   ]
  },
  {
   "cell_type": "code",
   "execution_count": 7,
   "metadata": {},
   "outputs": [
    {
     "data": {
      "text/plain": [
       "12"
      ]
     },
     "execution_count": 7,
     "metadata": {},
     "output_type": "execute_result"
    }
   ],
   "source": [
    "box1.height"
   ]
  },
  {
   "cell_type": "code",
   "execution_count": 8,
   "metadata": {},
   "outputs": [
    {
     "data": {
      "text/plain": [
       "'Rectange'"
      ]
     },
     "execution_count": 8,
     "metadata": {},
     "output_type": "execute_result"
    }
   ],
   "source": [
    "box1.shape"
   ]
  },
  {
   "cell_type": "code",
   "execution_count": 10,
   "metadata": {},
   "outputs": [
    {
     "data": {
      "text/plain": [
       "4"
      ]
     },
     "execution_count": 10,
     "metadata": {},
     "output_type": "execute_result"
    }
   ],
   "source": [
    "Box.number_of_corners"
   ]
  },
  {
   "cell_type": "code",
   "execution_count": 11,
   "metadata": {},
   "outputs": [],
   "source": [
    "box1 = Box\n",
    "box2 = Box"
   ]
  },
  {
   "cell_type": "code",
   "execution_count": 12,
   "metadata": {},
   "outputs": [
    {
     "data": {
      "text/plain": [
       "'square'"
      ]
     },
     "execution_count": 12,
     "metadata": {},
     "output_type": "execute_result"
    }
   ],
   "source": [
    "box1.shape"
   ]
  },
  {
   "cell_type": "code",
   "execution_count": 13,
   "metadata": {},
   "outputs": [
    {
     "data": {
      "text/plain": [
       "'square'"
      ]
     },
     "execution_count": 13,
     "metadata": {},
     "output_type": "execute_result"
    }
   ],
   "source": [
    "box2.shape"
   ]
  },
  {
   "cell_type": "code",
   "execution_count": 14,
   "metadata": {},
   "outputs": [],
   "source": [
    "box1.shape = \"Rectangle\""
   ]
  },
  {
   "cell_type": "code",
   "execution_count": 15,
   "metadata": {},
   "outputs": [
    {
     "data": {
      "text/plain": [
       "'Rectangle'"
      ]
     },
     "execution_count": 15,
     "metadata": {},
     "output_type": "execute_result"
    }
   ],
   "source": [
    "box1.shape"
   ]
  },
  {
   "cell_type": "code",
   "execution_count": 16,
   "metadata": {},
   "outputs": [
    {
     "data": {
      "text/plain": [
       "'Rectangle'"
      ]
     },
     "execution_count": 16,
     "metadata": {},
     "output_type": "execute_result"
    }
   ],
   "source": [
    "box2.shape"
   ]
  },
  {
   "cell_type": "code",
   "execution_count": 17,
   "metadata": {},
   "outputs": [],
   "source": [
    "# Dog.sound = \"bark\"\n",
    "# Dog.height = 12\n",
    "\n",
    "class Dog:\n",
    "    def __init__(self, sound, height):\n",
    "        self.sound=sound\n",
    "        self.height = height\n"
   ]
  },
  {
   "cell_type": "code",
   "execution_count": 19,
   "metadata": {},
   "outputs": [],
   "source": [
    "d1 = Dog(\"bark\", 12)"
   ]
  },
  {
   "cell_type": "code",
   "execution_count": 20,
   "metadata": {},
   "outputs": [],
   "source": [
    "d2 = Dog(\"growl\", 20)"
   ]
  },
  {
   "cell_type": "code",
   "execution_count": 22,
   "metadata": {},
   "outputs": [
    {
     "data": {
      "text/plain": [
       "'bark'"
      ]
     },
     "execution_count": 22,
     "metadata": {},
     "output_type": "execute_result"
    }
   ],
   "source": [
    "d1.sound"
   ]
  },
  {
   "cell_type": "code",
   "execution_count": 23,
   "metadata": {},
   "outputs": [
    {
     "data": {
      "text/plain": [
       "'growl'"
      ]
     },
     "execution_count": 23,
     "metadata": {},
     "output_type": "execute_result"
    }
   ],
   "source": [
    "d2.sound"
   ]
  },
  {
   "cell_type": "markdown",
   "metadata": {},
   "source": [
    "##### *Create a Book class which should have unique library name to all classes but different instance bookname, pages, authorname*"
   ]
  },
  {
   "cell_type": "code",
   "execution_count": 1,
   "metadata": {},
   "outputs": [],
   "source": [
    "#solution\n",
    "\n",
    "class Book:\n",
    "    library_name = \"Town Library\"\n",
    "\n",
    "    def __init__(self, bookname, pages, authorname):\n",
    "        self.bookname = bookname\n",
    "        self.pages = pages\n",
    "        self.authorname = authorname\n",
    "\n",
    "        "
   ]
  },
  {
   "cell_type": "code",
   "execution_count": 2,
   "metadata": {},
   "outputs": [],
   "source": [
    "b1 = Book(\"physics\", 45, \"Einstein\")"
   ]
  },
  {
   "cell_type": "code",
   "execution_count": 3,
   "metadata": {},
   "outputs": [],
   "source": [
    "b2 = Book(\"Social\", 32, \"vivek\")"
   ]
  },
  {
   "cell_type": "code",
   "execution_count": 4,
   "metadata": {},
   "outputs": [
    {
     "name": "stdout",
     "output_type": "stream",
     "text": [
      "Einstein vivek\n"
     ]
    }
   ],
   "source": [
    "print(b1.authorname, b2.authorname)"
   ]
  },
  {
   "cell_type": "code",
   "execution_count": 5,
   "metadata": {},
   "outputs": [
    {
     "data": {
      "text/plain": [
       "'Einstein'"
      ]
     },
     "execution_count": 5,
     "metadata": {},
     "output_type": "execute_result"
    }
   ],
   "source": [
    "b1.authorname"
   ]
  },
  {
   "cell_type": "code",
   "execution_count": 6,
   "metadata": {},
   "outputs": [
    {
     "data": {
      "text/plain": [
       "'Town Library'"
      ]
     },
     "execution_count": 6,
     "metadata": {},
     "output_type": "execute_result"
    }
   ],
   "source": [
    "b1.library_name"
   ]
  },
  {
   "cell_type": "code",
   "execution_count": 7,
   "metadata": {},
   "outputs": [
    {
     "data": {
      "text/plain": [
       "'Town Library'"
      ]
     },
     "execution_count": 7,
     "metadata": {},
     "output_type": "execute_result"
    }
   ],
   "source": [
    "b2.library_name"
   ]
  },
  {
   "cell_type": "code",
   "execution_count": 8,
   "metadata": {},
   "outputs": [],
   "source": [
    "Book.library_name = \"Library\""
   ]
  },
  {
   "cell_type": "code",
   "execution_count": 9,
   "metadata": {},
   "outputs": [
    {
     "data": {
      "text/plain": [
       "'Library'"
      ]
     },
     "execution_count": 9,
     "metadata": {},
     "output_type": "execute_result"
    }
   ],
   "source": [
    "b2.library_name"
   ]
  },
  {
   "cell_type": "code",
   "execution_count": 10,
   "metadata": {},
   "outputs": [],
   "source": [
    "b3 = Book(\"math\", 266, \"ramanujam\")"
   ]
  },
  {
   "cell_type": "code",
   "execution_count": 11,
   "metadata": {},
   "outputs": [
    {
     "name": "stdout",
     "output_type": "stream",
     "text": [
      "physics 45 Einstein\n"
     ]
    }
   ],
   "source": [
    "if b1.authorname == \"Einstein\":\n",
    "    print(b1.bookname, b1.pages, b1.authorname)\n",
    "# ponniyin selvan"
   ]
  },
  {
   "cell_type": "code",
   "execution_count": 16,
   "metadata": {},
   "outputs": [],
   "source": [
    "b4 = Book(\"English\", 120, \"vivek\")"
   ]
  },
  {
   "cell_type": "markdown",
   "metadata": {},
   "source": [
    "`Tomorrow workout:` *Create searching for finding book with authorname*"
   ]
  },
  {
   "cell_type": "code",
   "execution_count": 18,
   "metadata": {},
   "outputs": [
    {
     "name": "stdout",
     "output_type": "stream",
     "text": [
      "vivek 32 Social\n",
      "vivek 120 English\n"
     ]
    }
   ],
   "source": [
    "lst = [b1, b2, b3, b4]\n",
    "for book in lst:\n",
    "    if book.authorname == \"vivek\":\n",
    "        print(book.authorname, book.pages, book.bookname)"
   ]
  },
  {
   "cell_type": "markdown",
   "metadata": {},
   "source": [
    "##### *Create a class called Living_Organism which has unique attribute called Type(\"Animal\") which has instance attribute (name, weight, height)*"
   ]
  },
  {
   "cell_type": "code",
   "execution_count": 12,
   "metadata": {},
   "outputs": [],
   "source": [
    "# solution\n",
    "\n",
    "class LivingOrganism:\n",
    "    Type=\"Animal\"\n",
    "    def __init__(self, name, weight, height) -> None:\n",
    "        self.name = name\n",
    "        self.weight = weight\n",
    "        self.height = height"
   ]
  },
  {
   "cell_type": "code",
   "execution_count": 13,
   "metadata": {},
   "outputs": [],
   "source": [
    "lo = LivingOrganism(\"doggy\", 19, 120)"
   ]
  },
  {
   "cell_type": "code",
   "execution_count": 14,
   "metadata": {},
   "outputs": [
    {
     "name": "stdout",
     "output_type": "stream",
     "text": [
      "doggy 120 19\n"
     ]
    }
   ],
   "source": [
    "print(lo.name, lo.height, lo.weight)"
   ]
  },
  {
   "cell_type": "markdown",
   "metadata": {},
   "source": [
    "*Create class `Pet` which has `name, height, type(cat, dog,...)`*"
   ]
  },
  {
   "cell_type": "code",
   "execution_count": 19,
   "metadata": {},
   "outputs": [],
   "source": [
    "class Pet:\n",
    "    def __init__(self, name, height, type):\n",
    "        self.name = name\n",
    "        self.height = height\n",
    "        self.type = type"
   ]
  },
  {
   "cell_type": "markdown",
   "metadata": {},
   "source": [
    "*Create function called add_pet(name, height, type) to create a Pet object and add it to list*"
   ]
  },
  {
   "cell_type": "code",
   "execution_count": 21,
   "metadata": {},
   "outputs": [],
   "source": [
    "pet_list = [] \n",
    "\n",
    "def add_pet(name, height, type):\n",
    "    # your code goes here\n",
    "    p = Pet(name, height, type)\n",
    "    pet_list.append(p)"
   ]
  },
  {
   "cell_type": "code",
   "execution_count": 22,
   "metadata": {},
   "outputs": [],
   "source": [
    "add_pet(\"johnny\", 120, \"Dog\")"
   ]
  },
  {
   "cell_type": "code",
   "execution_count": 23,
   "metadata": {},
   "outputs": [
    {
     "name": "stdout",
     "output_type": "stream",
     "text": [
      "[<__main__.Pet object at 0x000001852D54D790>]\n"
     ]
    }
   ],
   "source": [
    "print(pet_list)"
   ]
  },
  {
   "cell_type": "code",
   "execution_count": 24,
   "metadata": {},
   "outputs": [],
   "source": [
    "add_pet(\"Lisa\", 50, \"Cat\")"
   ]
  },
  {
   "cell_type": "code",
   "execution_count": 25,
   "metadata": {},
   "outputs": [
    {
     "name": "stdout",
     "output_type": "stream",
     "text": [
      "[<__main__.Pet object at 0x000001852D54D790>, <__main__.Pet object at 0x000001852D20FF10>]\n"
     ]
    }
   ],
   "source": [
    "print(pet_list)"
   ]
  },
  {
   "cell_type": "code",
   "execution_count": 26,
   "metadata": {},
   "outputs": [],
   "source": [
    "def find_pet_by_name(name):\n",
    "    # find a pet by it name using for loop\n",
    "    for pet in pet_list:\n",
    "        if pet.name == name:\n",
    "            print(pet.name, pet.height, pet.type)\n"
   ]
  },
  {
   "cell_type": "code",
   "execution_count": 28,
   "metadata": {},
   "outputs": [],
   "source": [
    "find_pet_by_name(\"isa\")"
   ]
  },
  {
   "cell_type": "code",
   "execution_count": 29,
   "metadata": {},
   "outputs": [],
   "source": [
    "add_pet(\"isa\", 120, \"Dog\")"
   ]
  },
  {
   "cell_type": "code",
   "execution_count": 30,
   "metadata": {},
   "outputs": [
    {
     "name": "stdout",
     "output_type": "stream",
     "text": [
      "isa 120 Dog\n"
     ]
    }
   ],
   "source": [
    "find_pet_by_name(\"isa\")"
   ]
  },
  {
   "cell_type": "markdown",
   "metadata": {},
   "source": [
    "*Create class `Contacts` which should have `name, phonenumber` properties and write a function to `add, del, find` phone number*"
   ]
  },
  {
   "cell_type": "code",
   "execution_count": 1,
   "metadata": {},
   "outputs": [],
   "source": [
    "# solution\n",
    "class Contacts:\n",
    "    def __init__(self, name, phonenumber):\n",
    "        self.name = name\n",
    "        self.phonenumber = phonenumber"
   ]
  },
  {
   "cell_type": "code",
   "execution_count": 2,
   "metadata": {},
   "outputs": [],
   "source": [
    "contact_list = []\n",
    "def add_contacts(name, phonenumber):\n",
    "    c = Contacts(name, phonenumber)\n",
    "    contact_list.append(c)"
   ]
  },
  {
   "cell_type": "code",
   "execution_count": 13,
   "metadata": {},
   "outputs": [],
   "source": [
    "add_contacts(\"Raj\", 12345678)\n",
    "add_contacts(\"Mano\", 4565434567)"
   ]
  },
  {
   "cell_type": "code",
   "execution_count": 4,
   "metadata": {},
   "outputs": [
    {
     "name": "stdout",
     "output_type": "stream",
     "text": [
      "[<__main__.Contacts object at 0x000001E91E6FD280>, <__main__.Contacts object at 0x000001E91E6FD640>]\n"
     ]
    }
   ],
   "source": [
    "print(contact_list)"
   ]
  },
  {
   "cell_type": "code",
   "execution_count": 5,
   "metadata": {},
   "outputs": [],
   "source": [
    "def find_contact_by_name(name):\n",
    "    for contact in contact_list:\n",
    "        if contact.name == name:\n",
    "            print(contact.name, contact.phonenumber)"
   ]
  },
  {
   "cell_type": "code",
   "execution_count": 6,
   "metadata": {},
   "outputs": [
    {
     "name": "stdout",
     "output_type": "stream",
     "text": [
      "Raj 12345678\n"
     ]
    }
   ],
   "source": [
    "find_contact_by_name(\"Raj\")"
   ]
  },
  {
   "cell_type": "code",
   "execution_count": 7,
   "metadata": {},
   "outputs": [],
   "source": [
    "def del_contact_by_name(name):\n",
    "    for contact in contact_list:\n",
    "        if contact.name == name:\n",
    "            contact_list.remove(contact)"
   ]
  },
  {
   "cell_type": "code",
   "execution_count": 8,
   "metadata": {},
   "outputs": [],
   "source": [
    "del_contact_by_name(\"Mano\")"
   ]
  },
  {
   "cell_type": "code",
   "execution_count": 9,
   "metadata": {},
   "outputs": [
    {
     "data": {
      "text/plain": [
       "[<__main__.Contacts at 0x1e91e6fd280>]"
      ]
     },
     "execution_count": 9,
     "metadata": {},
     "output_type": "execute_result"
    }
   ],
   "source": [
    "contact_list"
   ]
  },
  {
   "cell_type": "code",
   "execution_count": 10,
   "metadata": {},
   "outputs": [
    {
     "name": "stdout",
     "output_type": "stream",
     "text": [
      "Raj 12345678\n"
     ]
    }
   ],
   "source": [
    "find_contact_by_name(\"Raj\")"
   ]
  },
  {
   "cell_type": "markdown",
   "metadata": {},
   "source": [
    "`Nextweek workout: `*Print all the contact detail in the contact list*"
   ]
  },
  {
   "cell_type": "code",
   "execution_count": 11,
   "metadata": {},
   "outputs": [],
   "source": [
    "def show_contact():\n",
    "    # write your code show all the contacts\n",
    "    for contact in contact_list:\n",
    "        print(\"Name\",contact.name, \"\\nPhoneNumber\", contact.phonenumber)"
   ]
  },
  {
   "cell_type": "code",
   "execution_count": 14,
   "metadata": {},
   "outputs": [
    {
     "name": "stdout",
     "output_type": "stream",
     "text": [
      "Name Raj \n",
      "PhoneNumber 12345678\n",
      "Name Raj \n",
      "PhoneNumber 12345678\n",
      "Name Mano \n",
      "PhoneNumber 4565434567\n"
     ]
    }
   ],
   "source": [
    "show_contact()"
   ]
  },
  {
   "cell_type": "markdown",
   "metadata": {},
   "source": [
    "### **Test 1**"
   ]
  },
  {
   "cell_type": "markdown",
   "metadata": {},
   "source": [
    "*Create a class called `Student` which has name, section, total marks in all subject for 500*"
   ]
  },
  {
   "cell_type": "code",
   "execution_count": null,
   "metadata": {},
   "outputs": [],
   "source": []
  },
  {
   "cell_type": "markdown",
   "metadata": {},
   "source": [
    "*Write a function called `add_student` object to `student_list`?*"
   ]
  },
  {
   "cell_type": "code",
   "execution_count": null,
   "metadata": {},
   "outputs": [],
   "source": []
  },
  {
   "cell_type": "markdown",
   "metadata": {},
   "source": [
    "**After writing the above function run the below code to add all the studen object**\n",
    "```\n",
    "add_student(\"raj\", \"B\", 368)\n",
    "add_student(\"Mark\", \"A\", 444)\n",
    "add_student(\"Sania\", \"B\", 439)\n",
    "add_student(\"Bharathi\", \"A\", 490)\n",
    "add_student(\"Apoorva\", \"A\", 456)\n",
    "add_student(\"John\", \"B\", 321)\n",
    "add_student(\"Raja\", \"B\", 250)\n",
    "add_student(\"Max\", \"A\", 480)\n",
    "add_student(\"Paartha\", \"A\", 239)\n",
    "add_student(\"Arul\", \"B\", 386)\n",
    "add_student(\"Karna\", \"A\", 454)\n",
    "add_student(\"Kiran\", \"B\", 467)\n",
    "```"
   ]
  },
  {
   "cell_type": "markdown",
   "metadata": {},
   "source": [
    "*Write a function to print all the students who scored greater than 450 for 500?*"
   ]
  },
  {
   "cell_type": "code",
   "execution_count": 16,
   "metadata": {},
   "outputs": [],
   "source": []
  },
  {
   "cell_type": "markdown",
   "metadata": {},
   "source": [
    "*Write a function to find the average marks of all the students?*"
   ]
  },
  {
   "cell_type": "code",
   "execution_count": null,
   "metadata": {},
   "outputs": [],
   "source": []
  },
  {
   "cell_type": "markdown",
   "metadata": {},
   "source": [
    "*Write a function to find the highest mark student?*"
   ]
  },
  {
   "cell_type": "code",
   "execution_count": null,
   "metadata": {},
   "outputs": [],
   "source": []
  },
  {
   "cell_type": "markdown",
   "metadata": {},
   "source": [
    "*Write a function to find the minimum marks of the student?*"
   ]
  },
  {
   "cell_type": "markdown",
   "metadata": {},
   "source": [
    "#### Test 2"
   ]
  },
  {
   "cell_type": "markdown",
   "metadata": {},
   "source": [
    "- *Write a function to find the whether number is a perfect square ?*"
   ]
  },
  {
   "cell_type": "markdown",
   "metadata": {},
   "source": [
    "- *Write a function find the square root of a number ?*"
   ]
  },
  {
   "cell_type": "markdown",
   "metadata": {},
   "source": [
    "- *Write a function to add GST(18%) to the total cost ?*  *`Hint` you've to find 18% of the total cost and add it to total cost*"
   ]
  },
  {
   "cell_type": "markdown",
   "metadata": {},
   "source": [
    "- *Write a function to calculate the SI(Simple Interest) ?  `Hint` SI = (pnr)/100 where p = principal amount, n = number of years, r = rate of interest*"
   ]
  },
  {
   "cell_type": "markdown",
   "metadata": {},
   "source": [
    "- *Find a factorial of a number ?*"
   ]
  },
  {
   "cell_type": "markdown",
   "metadata": {},
   "source": [
    "- *find the value of x where $$ x= {-b \\pm \\sqrt{b^2-4ac} \\over 2a} $$*\n",
    "\n",
    "                                    where: b = 20, a = 12, c = 5"
   ]
  },
  {
   "cell_type": "markdown",
   "metadata": {},
   "source": [
    "### Bonus Problem\n",
    "\n",
    "*Create a timer app in python using os module and time module:*"
   ]
  },
  {
   "cell_type": "markdown",
   "metadata": {},
   "source": [
    "#### *tic tac toe board game*"
   ]
  },
  {
   "cell_type": "code",
   "execution_count": 66,
   "metadata": {},
   "outputs": [
    {
     "data": {
      "text/plain": [
       "[' ', ' ', ' ', ' ', ' ', ' ', ' ', ' ', ' ']"
      ]
     },
     "execution_count": 66,
     "metadata": {},
     "output_type": "execute_result"
    }
   ],
   "source": [
    "board = [\" \" for _ in range(9)]\n",
    "board"
   ]
  },
  {
   "cell_type": "markdown",
   "metadata": {},
   "source": [
    "```\n",
    "      |  |\n",
    "   ---+--+---\n",
    "      |  |   \n",
    "   ---+--+---\n",
    "      |  |\n",
    "   ```"
   ]
  },
  {
   "cell_type": "code",
   "execution_count": 59,
   "metadata": {},
   "outputs": [
    {
     "name": "stdout",
     "output_type": "stream",
     "text": [
      " X | X | X \n",
      "---+---+---\n",
      " X | X | X \n",
      "---+---+---\n",
      " X | X | X \n"
     ]
    }
   ],
   "source": [
    "def print_board(board):\n",
    "    print(f\" {board[0]} | {board[1]} | {board[2]} \\n---+---+---\\n {board[3]} | {board[4]} | {board[5]} \\n---+---+---\\n {board[6]} | {board[7]} | {board[8]} \")\n",
    "\n",
    "print_board(board)"
   ]
  },
  {
   "cell_type": "code",
   "execution_count": 34,
   "metadata": {},
   "outputs": [],
   "source": [
    "def get_user_input(turn):\n",
    "    position = int(input(f\"Enter the position for {turn}\")) - 1\n",
    "    board[position] = turn"
   ]
  },
  {
   "cell_type": "code",
   "execution_count": 46,
   "metadata": {},
   "outputs": [],
   "source": [
    "value = get_user_input(\"O\")"
   ]
  },
  {
   "cell_type": "code",
   "execution_count": 47,
   "metadata": {},
   "outputs": [
    {
     "name": "stdout",
     "output_type": "stream",
     "text": [
      " Y |   |   \n",
      "---+---+---\n",
      "   | Y |   \n",
      "---+---+---\n",
      "   |   |   \n"
     ]
    }
   ],
   "source": [
    "print_board(board)"
   ]
  },
  {
   "cell_type": "code",
   "execution_count": 55,
   "metadata": {},
   "outputs": [],
   "source": [
    "# check winner\n",
    "def check_winner(board, turn):\n",
    "    # horizontal\n",
    "    if (board[0] == turn and board[1] == turn and board[2] == turn) or \\\n",
    "       (board[3] == turn and board[4] == turn and board[5] == turn) or \\\n",
    "       (board[6] == turn and board[7] == turn and board[8] == turn):\n",
    "        return True\n",
    "    #vertical\n",
    "    elif (board[0] == turn and board[3] == turn and board[6] == turn) or \\\n",
    "         (board[1] == turn and board[4] == turn and board[7] == turn) or \\\n",
    "         (board[2] == turn and board[5] == turn and board[8] == turn):\n",
    "        return True\n",
    "    # diagonal\n",
    "    elif (board[0] == turn and board[4] == turn and board[8] == turn) or \\\n",
    "         (board[2] == turn and board[4] == turn and board[6] == turn):\n",
    "         return True\n",
    "    else:\n",
    "        return False\n"
   ]
  },
  {
   "cell_type": "code",
   "execution_count": 51,
   "metadata": {},
   "outputs": [],
   "source": [
    "get_user_input(\"Y\")\n"
   ]
  },
  {
   "cell_type": "code",
   "execution_count": 52,
   "metadata": {},
   "outputs": [
    {
     "name": "stdout",
     "output_type": "stream",
     "text": [
      " Y |   |   \n",
      "---+---+---\n",
      "   | Y |   \n",
      "---+---+---\n",
      "   |   | Y \n"
     ]
    }
   ],
   "source": [
    "print_board(board)"
   ]
  },
  {
   "cell_type": "code",
   "execution_count": 56,
   "metadata": {},
   "outputs": [
    {
     "data": {
      "text/plain": [
       "False"
      ]
     },
     "execution_count": 56,
     "metadata": {},
     "output_type": "execute_result"
    }
   ],
   "source": [
    "check_winner(board, \"X\")"
   ]
  },
  {
   "cell_type": "code",
   "execution_count": 57,
   "metadata": {},
   "outputs": [
    {
     "data": {
      "text/plain": [
       "True"
      ]
     },
     "execution_count": 57,
     "metadata": {},
     "output_type": "execute_result"
    }
   ],
   "source": [
    "check_winner(board, \"Y\")"
   ]
  },
  {
   "cell_type": "code",
   "execution_count": 61,
   "metadata": {},
   "outputs": [],
   "source": [
    "def check_draw(board):\n",
    "    # check the draw condition\n",
    "    if \" \" in board:\n",
    "        return False\n",
    "    else:\n",
    "        return True"
   ]
  },
  {
   "cell_type": "code",
   "execution_count": 67,
   "metadata": {},
   "outputs": [
    {
     "data": {
      "text/plain": [
       "False"
      ]
     },
     "execution_count": 67,
     "metadata": {},
     "output_type": "execute_result"
    }
   ],
   "source": [
    "check_draw(board)"
   ]
  },
  {
   "cell_type": "code",
   "execution_count": 68,
   "metadata": {},
   "outputs": [
    {
     "name": "stdout",
     "output_type": "stream",
     "text": [
      "   |   |   \n",
      "---+---+---\n",
      "   |   |   \n",
      "---+---+---\n",
      "   |   |   \n"
     ]
    }
   ],
   "source": [
    "print_board(board)"
   ]
  },
  {
   "cell_type": "code",
   "execution_count": 69,
   "metadata": {},
   "outputs": [
    {
     "name": "stdout",
     "output_type": "stream",
     "text": [
      "   |   |   \n",
      "---+---+---\n",
      "   |   |   \n",
      "---+---+---\n",
      "   |   |   \n",
      " X |   |   \n",
      "---+---+---\n",
      "   |   |   \n",
      "---+---+---\n",
      "   |   |   \n",
      " X |   | O \n",
      "---+---+---\n",
      "   |   |   \n",
      "---+---+---\n",
      "   |   |   \n",
      " X |   | O \n",
      "---+---+---\n",
      "   |   |   \n",
      "---+---+---\n",
      "   |   |   \n",
      " X |   | O \n",
      "---+---+---\n",
      "   |   |   \n",
      "---+---+---\n",
      "   |   |   \n"
     ]
    },
    {
     "ename": "ValueError",
     "evalue": "invalid literal for int() with base 10: ''",
     "output_type": "error",
     "traceback": [
      "\u001b[1;31m---------------------------------------------------------------------------\u001b[0m",
      "\u001b[1;31mValueError\u001b[0m                                Traceback (most recent call last)",
      "Cell \u001b[1;32mIn [69], line 6\u001b[0m\n\u001b[0;32m      4\u001b[0m get_user_input(\u001b[38;5;124m\"\u001b[39m\u001b[38;5;124mX\u001b[39m\u001b[38;5;124m\"\u001b[39m)\n\u001b[0;32m      5\u001b[0m print_board(board)\n\u001b[1;32m----> 6\u001b[0m get_user_input(\u001b[38;5;124m\"\u001b[39m\u001b[38;5;124mO\u001b[39m\u001b[38;5;124m\"\u001b[39m)\n\u001b[0;32m      7\u001b[0m print_board(board)\n\u001b[0;32m      8\u001b[0m \u001b[38;5;28;01mif\u001b[39;00m check_winner(board, \u001b[38;5;124m\"\u001b[39m\u001b[38;5;124mX\u001b[39m\u001b[38;5;124m\"\u001b[39m):\n",
      "Cell \u001b[1;32mIn [34], line 2\u001b[0m, in \u001b[0;36mget_user_input\u001b[1;34m(turn)\u001b[0m\n\u001b[0;32m      1\u001b[0m \u001b[38;5;28;01mdef\u001b[39;00m \u001b[38;5;21mget_user_input\u001b[39m(turn):\n\u001b[1;32m----> 2\u001b[0m     position \u001b[38;5;241m=\u001b[39m \u001b[38;5;28;43mint\u001b[39;49m\u001b[43m(\u001b[49m\u001b[38;5;28;43minput\u001b[39;49m\u001b[43m(\u001b[49m\u001b[38;5;124;43mf\u001b[39;49m\u001b[38;5;124;43m\"\u001b[39;49m\u001b[38;5;124;43mEnter the position for \u001b[39;49m\u001b[38;5;132;43;01m{\u001b[39;49;00m\u001b[43mturn\u001b[49m\u001b[38;5;132;43;01m}\u001b[39;49;00m\u001b[38;5;124;43m\"\u001b[39;49m\u001b[43m)\u001b[49m\u001b[43m)\u001b[49m \u001b[38;5;241m-\u001b[39m \u001b[38;5;241m1\u001b[39m\n\u001b[0;32m      3\u001b[0m     board[position] \u001b[38;5;241m=\u001b[39m turn\n",
      "\u001b[1;31mValueError\u001b[0m: invalid literal for int() with base 10: ''"
     ]
    }
   ],
   "source": [
    "board = [\" \" for _ in range(9)]\n",
    "while True:\n",
    "    print_board(board)\n",
    "    get_user_input(\"X\")\n",
    "    print_board(board)\n",
    "    get_user_input(\"O\")\n",
    "    print_board(board)\n",
    "    if check_winner(board, \"X\"):\n",
    "        print(\"X is the winner\")\n",
    "        break\n",
    "    elif check_winner(board, \"O\"):\n",
    "        print(\"O is the winner\")\n",
    "        break\n",
    "    elif check_draw(board):\n",
    "        print(\"Game is draw\")\n",
    "        break\n"
   ]
  },
  {
   "cell_type": "code",
   "execution_count": null,
   "metadata": {},
   "outputs": [],
   "source": []
  }
 ],
 "metadata": {
  "kernelspec": {
   "display_name": "Python 3.8.13 ('rit_python')",
   "language": "python",
   "name": "python3"
  },
  "language_info": {
   "codemirror_mode": {
    "name": "ipython",
    "version": 3
   },
   "file_extension": ".py",
   "mimetype": "text/x-python",
   "name": "python",
   "nbconvert_exporter": "python",
   "pygments_lexer": "ipython3",
   "version": "3.8.13"
  },
  "orig_nbformat": 4,
  "vscode": {
   "interpreter": {
    "hash": "ac333bc5dc93f4a921f2c56470e56a67ccf5f79955049e67f9cfa4d7dee79d8a"
   }
  }
 },
 "nbformat": 4,
 "nbformat_minor": 2
}
