{
 "cells": [
  {
   "cell_type": "markdown",
   "metadata": {},
   "source": [
    "#### `pip install ipykernel`\n",
    "#### file name should end with \"ipynb\"\n",
    "#### Copy and paste this in the terminal to make the notebook work, This will be the one time setup no need to do it for everytime"
   ]
  },
  {
   "cell_type": "markdown",
   "metadata": {},
   "source": [
    "### LOGICAL OPERATORS\n",
    "\n",
    "#### AND Table\n",
    "\n",
    "* True and True -> True\n",
    "* True and False -> False\n",
    "* False and True -> False\n",
    "* False and False -> False\n",
    "\n",
    "#### OR Table \n",
    "\n",
    "* True or True -> True\n",
    "* True or False -> True\n",
    "* False or True -> True\n",
    "* False or False -> False"
   ]
  },
  {
   "cell_type": "markdown",
   "metadata": {},
   "source": [
    "##### For loop syntax\n",
    "` for var_name in range():\n",
    "    code comes here\n",
    "`"
   ]
  },
  {
   "cell_type": "markdown",
   "metadata": {},
   "source": [
    "* **Any number divided by 10 will always give you the same number with one decimal from end**\n",
    "\n",
    "* **Any number Mod by 10 will give you the last digit as the reminder of the same number**"
   ]
  },
  {
   "cell_type": "code",
   "execution_count": 48,
   "metadata": {},
   "outputs": [
    {
     "name": "stdout",
     "output_type": "stream",
     "text": [
      "division: 12.5 \n",
      "Modulus: 5\n"
     ]
    }
   ],
   "source": [
    "print(\"division:\",125/10,\"\\nModulus:\", 125%10)"
   ]
  },
  {
   "cell_type": "code",
   "execution_count": null,
   "metadata": {},
   "outputs": [],
   "source": [
    "for num in range(1, 10):\n",
    "    print(num)"
   ]
  },
  {
   "cell_type": "code",
   "execution_count": 15,
   "metadata": {},
   "outputs": [
    {
     "name": "stdout",
     "output_type": "stream",
     "text": [
      "hi 1\n",
      "hi 2\n",
      "hi 4\n",
      "hi 6\n",
      "hi 8\n"
     ]
    }
   ],
   "source": [
    "for num in [1, 2, 4, 6, 8]:\n",
    "    print('hi', num)"
   ]
  },
  {
   "cell_type": "markdown",
   "metadata": {},
   "source": [
    "**Printing the digit from the number in the reverse order**"
   ]
  },
  {
   "cell_type": "code",
   "execution_count": 16,
   "metadata": {},
   "outputs": [
    {
     "name": "stdout",
     "output_type": "stream",
     "text": [
      "1\n",
      "7\n",
      "5\n",
      "4\n"
     ]
    }
   ],
   "source": [
    "number = 4571 # 457 # 45 # 4\n",
    "# 1\n",
    "# 7\n",
    "# 5\n",
    "# 4\n",
    "\n",
    "for X in range(0, 4):\n",
    "    print(number % 10)\n",
    "    number = int(number/10)"
   ]
  },
  {
   "cell_type": "markdown",
   "metadata": {},
   "source": [
    "#### While loop in python\n",
    "\n",
    "##### syntax\n",
    "\n",
    "`while condtion:\n",
    "    code\n",
    "`\n",
    "\n",
    "**while loop continues to execute untill the given condition become false**"
   ]
  },
  {
   "cell_type": "code",
   "execution_count": null,
   "metadata": {},
   "outputs": [],
   "source": [
    "# While loop example\n",
    "\n",
    "i = 0\n",
    "while i <= 10:\n",
    "    print(i)\n",
    "    i=i+1 # i(0) + 1 --> increment i value by 1 and store it to i\n"
   ]
  },
  {
   "cell_type": "markdown",
   "metadata": {},
   "source": [
    "**Dictionaries in python**\n",
    "\n",
    "*Dictionaries in python are stored key:value pairs*\n",
    "\n",
    "**Syntax**\n",
    "`{key:value, key:value}` **{'name':'Raju', 'age': 12}**"
   ]
  },
  {
   "cell_type": "code",
   "execution_count": 46,
   "metadata": {},
   "outputs": [
    {
     "name": "stdout",
     "output_type": "stream",
     "text": [
      "Raju\n"
     ]
    }
   ],
   "source": [
    "student1 = {\n",
    "    'fullname':'Raju',\n",
    "    'age': 12,\n",
    "    'height':167,\n",
    "    'weight':98\n",
    "}\n",
    "\n",
    "print(student1['fullname'])"
   ]
  },
  {
   "cell_type": "markdown",
   "metadata": {},
   "source": [
    "**Create a class(cls) dictionary which has following prperties ('section', 'strength', 'present', 'absent')**"
   ]
  },
  {
   "cell_type": "code",
   "execution_count": 2,
   "metadata": {},
   "outputs": [
    {
     "name": "stdout",
     "output_type": "stream",
     "text": [
      "{'section': 'B', 'strength': 50, 'present': 45, 'absent': 5}\n"
     ]
    }
   ],
   "source": [
    "cls = {\n",
    "    'section':'B',\n",
    "    'strength':50,\n",
    "    'present':45,\n",
    "    'absent':5\n",
    "}\n",
    "print(cls)"
   ]
  },
  {
   "cell_type": "markdown",
   "metadata": {},
   "source": [
    "**Methods in dictionaries**\n",
    "* `keys()` -> return all the keys in the dictionaries\n",
    "* `values()` -> return all the values in the dictionaries\n",
    "* `items()` -> return all the key,values in the dictionaries as list\n",
    "* `update()` -> add new key,values pair to the dictionaries\n",
    "* `pop()` -> remove key,values pair from the dictionaries\n",
    "* `clear()` -> clear all key,values pair from the dictionaries\n",
    "\n"
   ]
  },
  {
   "cell_type": "code",
   "execution_count": 3,
   "metadata": {},
   "outputs": [
    {
     "name": "stdout",
     "output_type": "stream",
     "text": [
      "dict_keys(['section', 'strength', 'present', 'absent'])\n"
     ]
    }
   ],
   "source": [
    "print(cls.keys())"
   ]
  },
  {
   "cell_type": "code",
   "execution_count": 4,
   "metadata": {},
   "outputs": [
    {
     "name": "stdout",
     "output_type": "stream",
     "text": [
      "dict_values(['B', 50, 45, 5])\n"
     ]
    }
   ],
   "source": [
    "print(cls.values())"
   ]
  },
  {
   "cell_type": "code",
   "execution_count": 5,
   "metadata": {},
   "outputs": [
    {
     "name": "stdout",
     "output_type": "stream",
     "text": [
      "dict_items([('section', 'B'), ('strength', 50), ('present', 45), ('absent', 5)])\n"
     ]
    }
   ],
   "source": [
    "print(cls.items())"
   ]
  },
  {
   "cell_type": "code",
   "execution_count": 6,
   "metadata": {},
   "outputs": [
    {
     "name": "stdout",
     "output_type": "stream",
     "text": [
      "{'section': 'B', 'strength': 50, 'present': 45, 'absent': 5, 'newlyadded': 'newone'}\n"
     ]
    }
   ],
   "source": [
    "cls.update({'newlyadded':'newone'})\n",
    "print(cls)"
   ]
  },
  {
   "cell_type": "code",
   "execution_count": 7,
   "metadata": {},
   "outputs": [
    {
     "name": "stdout",
     "output_type": "stream",
     "text": [
      "{'section': 'B', 'strength': 50, 'present': 45, 'absent': 5}\n"
     ]
    }
   ],
   "source": [
    "cls.pop('newlyadded')\n",
    "print(cls)"
   ]
  },
  {
   "cell_type": "code",
   "execution_count": 45,
   "metadata": {},
   "outputs": [
    {
     "name": "stdout",
     "output_type": "stream",
     "text": [
      "{}\n"
     ]
    }
   ],
   "source": [
    "cls.clear()\n",
    "print(cls)"
   ]
  },
  {
   "cell_type": "markdown",
   "metadata": {},
   "source": [
    "**Function in python**\n",
    "\n",
    "*function in python is used to avoid repeatation of code for specific kinds of task*\n",
    "\n",
    "**Syntax: `def function_name(args): \n",
    "                code`**\n"
   ]
  },
  {
   "cell_type": "code",
   "execution_count": 18,
   "metadata": {},
   "outputs": [
    {
     "name": "stdout",
     "output_type": "stream",
     "text": [
      "hello to john your age is 12\n",
      "hello to george your age is 33\n"
     ]
    }
   ],
   "source": [
    "# Example code for function\n",
    "\n",
    "def say_hello(name, age):\n",
    "    print(\"hello to\", name, \"your age is\", age)\n",
    "\n",
    "say_hello('john', 12)\n",
    "say_hello('george',33)\n"
   ]
  },
  {
   "cell_type": "markdown",
   "metadata": {},
   "source": [
    "**Create a function which takes two argument a and b, prints all addition, subtraction, multiplication and division of that number**"
   ]
  },
  {
   "cell_type": "code",
   "execution_count": 24,
   "metadata": {},
   "outputs": [
    {
     "name": "stdout",
     "output_type": "stream",
     "text": [
      "a + b = 10\n",
      "a - b = -6\n",
      "a * b = 16\n",
      "a / b = 0.25\n"
     ]
    }
   ],
   "source": [
    "# solution #OUTPUT : 8 + 3 = 11 8-3 = 5 8 * 3 = 24 8 / 3 = 2.666\n",
    "\n",
    "def calculator(a, b):\n",
    "    print('a + b =', a+b)\n",
    "    print('a - b =', a-b)\n",
    "    print('a * b =', a*b)\n",
    "    print('a / b =', a/b)\n",
    "\n",
    "calculator(2,8)\n",
    "# calculator(5, 4)"
   ]
  },
  {
   "cell_type": "markdown",
   "metadata": {},
   "source": [
    "**Create a function which takes one string argument and print upper, lower, capitalize of that**"
   ]
  },
  {
   "cell_type": "code",
   "execution_count": 26,
   "metadata": {},
   "outputs": [
    {
     "name": "stdout",
     "output_type": "stream",
     "text": [
      "malayalam\n",
      "MALAYALAM\n",
      "Malayalam\n"
     ]
    }
   ],
   "source": [
    "# solution #INPUT malayalam OUTPUT: MALAYALAM malayalam Malayalam\n",
    "\n",
    "def convert(name):\n",
    "    print(name.lower())\n",
    "    print(name.upper())\n",
    "    print(name.capitalize())\n",
    "\n",
    "\n",
    "convert('maLaYalam')\n",
    "\n"
   ]
  },
  {
   "cell_type": "markdown",
   "metadata": {},
   "source": [
    "**check whether the give string is Palindrome or not**"
   ]
  },
  {
   "cell_type": "code",
   "execution_count": 36,
   "metadata": {},
   "outputs": [
    {
     "name": "stdout",
     "output_type": "stream",
     "text": [
      "camera\n",
      "not a palindrome\n"
     ]
    }
   ],
   "source": [
    "# solution # INPUT: Malayalam OUTPUT: True # INPUT: camera OUTPUT: False\n",
    "\n",
    "# str = 's t a r t e r' # len = 7; range(1, len+1) -> [1, 2, 3, 4, 5, 6, 7]\n",
    "#        0 1 2 3 4 5 6\n",
    "#       -7-6-5-4-3-2-1\n",
    "\n",
    "# str[-1] = r\n",
    "# str[-2] = e\n",
    "# str[-3] = t\n",
    "# str[-4] = r\n",
    "# str[-5] = a\n",
    "# str[-6] = t\n",
    "# str[-7] = s\n",
    "\n",
    "def palindrome(string):\n",
    "    print(string)\n",
    "    rev_str = ''\n",
    "    for i in range(1, len(string)+1):\n",
    "        rev_str = rev_str + string[-i]\n",
    "    \n",
    "    if string == rev_str:\n",
    "        print(\"palindrome\")\n",
    "    else:\n",
    "        print(\"not a palindrome\")\n",
    "\n",
    "\n",
    "palindrome(\"camera\")"
   ]
  },
  {
   "cell_type": "markdown",
   "metadata": {},
   "source": [
    "**Create a fibonacci seqence in python for 20 terms**\n",
    "\n",
    "![fibonacci.jpg](https://www.scaler.com/topics/media/Fibonacci-Series-in-Java-768x622.webp)"
   ]
  },
  {
   "cell_type": "code",
   "execution_count": 5,
   "metadata": {},
   "outputs": [
    {
     "name": "stdout",
     "output_type": "stream",
     "text": [
      "0\n",
      "1\n",
      "1\n",
      "2\n",
      "3\n",
      "5\n",
      "8\n",
      "13\n",
      "21\n",
      "34\n",
      "55\n",
      "89\n",
      "144\n",
      "233\n",
      "377\n",
      "610\n",
      "987\n",
      "1597\n",
      "2584\n",
      "4181\n",
      "6765\n",
      "10946\n"
     ]
    }
   ],
   "source": [
    "# solution your code for fibonacci series\n",
    "\n",
    "def fibonacci(n):\n",
    "    prev_digit_1 = 0\n",
    "    prev_digit_2 = 1\n",
    "    print(prev_digit_1)\n",
    "    print(prev_digit_2)\n",
    "    for _ in range(n):\n",
    "        next_digit = prev_digit_1 + prev_digit_2\n",
    "        prev_digit_1 = prev_digit_2\n",
    "        prev_digit_2 = next_digit\n",
    "        print(next_digit)   \n",
    "\n",
    "fibonacci(20)"
   ]
  },
  {
   "cell_type": "markdown",
   "metadata": {},
   "source": [
    "**Lambda function**\n",
    "\n",
    "*Lambda function or anonymous function or single line function is a function written in only single line*\n",
    "\n",
    "**Syntax** `lambda arg_name: code`\n"
   ]
  },
  {
   "cell_type": "code",
   "execution_count": 39,
   "metadata": {},
   "outputs": [
    {
     "name": "stdout",
     "output_type": "stream",
     "text": [
      "hello to john\n"
     ]
    }
   ],
   "source": [
    "# Example for creating a lambda function\n",
    "\n",
    "x = lambda name: print(\"hello to\", name)\n",
    "\n",
    "x('john')\n"
   ]
  },
  {
   "cell_type": "markdown",
   "metadata": {},
   "source": [
    "**Create a anonymous function in python which takes name as argument and prints counta of 'a' on the string**"
   ]
  },
  {
   "cell_type": "code",
   "execution_count": 43,
   "metadata": {},
   "outputs": [
    {
     "name": "stdout",
     "output_type": "stream",
     "text": [
      "godfather 1\n",
      "magical moments 2\n"
     ]
    }
   ],
   "source": [
    "#solution # INPUT 'godfather' OUTPUT 1 # INPUT 'magical movement' OUTPUT 2\n",
    "\n",
    "\n",
    "char_counter = lambda string : print(string, string.count('a'))\n",
    "\n",
    "char_counter('godfather')\n",
    "char_counter('magical moments')\n"
   ]
  }
 ],
 "metadata": {
  "kernelspec": {
   "display_name": "Python 3.8.13 ('rit_python')",
   "language": "python",
   "name": "python3"
  },
  "language_info": {
   "codemirror_mode": {
    "name": "ipython",
    "version": 3
   },
   "file_extension": ".py",
   "mimetype": "text/x-python",
   "name": "python",
   "nbconvert_exporter": "python",
   "pygments_lexer": "ipython3",
   "version": "3.8.13"
  },
  "orig_nbformat": 4,
  "vscode": {
   "interpreter": {
    "hash": "ac333bc5dc93f4a921f2c56470e56a67ccf5f79955049e67f9cfa4d7dee79d8a"
   }
  }
 },
 "nbformat": 4,
 "nbformat_minor": 2
}
