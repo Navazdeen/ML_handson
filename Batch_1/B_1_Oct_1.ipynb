{
 "cells": [
  {
   "cell_type": "markdown",
   "metadata": {},
   "source": [
    "#### `pip install ipykernel`\n",
    "#### file name should end with \"ipynb\"\n",
    "#### Copy and paste this in the terminal to make the notebook work, This will be the one time setup no need to do it for everytime"
   ]
  },
  {
   "cell_type": "markdown",
   "metadata": {},
   "source": [
    "### LOGICAL OPERATORS\n",
    "\n",
    "#### AND Table\n",
    "\n",
    "* True and True -> True\n",
    "* True and False -> False\n",
    "* False and True -> False\n",
    "* False and False -> False\n",
    "\n",
    "#### OR Table \n",
    "\n",
    "* True or True -> True\n",
    "* True or False -> True\n",
    "* False or True -> True\n",
    "* False or False -> False"
   ]
  },
  {
   "cell_type": "markdown",
   "metadata": {},
   "source": [
    "##### For loop syntax\n",
    "` for var_name in range():\n",
    "    code comes here\n",
    "`"
   ]
  },
  {
   "cell_type": "markdown",
   "metadata": {},
   "source": [
    "* **Any number divided by 10 will always give you the same number with one decimal from end**\n",
    "\n",
    "* **Any number Mod by 10 will give you the last digit as the reminder of the same number**"
   ]
  },
  {
   "cell_type": "code",
   "execution_count": 48,
   "metadata": {},
   "outputs": [
    {
     "name": "stdout",
     "output_type": "stream",
     "text": [
      "division: 12.5 \n",
      "Modulus: 5\n"
     ]
    }
   ],
   "source": [
    "print(\"division:\",125/10,\"\\nModulus:\", 125%10)"
   ]
  },
  {
   "cell_type": "code",
   "execution_count": null,
   "metadata": {},
   "outputs": [],
   "source": [
    "for num in range(1, 10):\n",
    "    print(num)"
   ]
  },
  {
   "cell_type": "code",
   "execution_count": 15,
   "metadata": {},
   "outputs": [
    {
     "name": "stdout",
     "output_type": "stream",
     "text": [
      "hi 1\n",
      "hi 2\n",
      "hi 4\n",
      "hi 6\n",
      "hi 8\n"
     ]
    }
   ],
   "source": [
    "for num in [1, 2, 4, 6, 8]:\n",
    "    print('hi', num)"
   ]
  },
  {
   "cell_type": "markdown",
   "metadata": {},
   "source": [
    "**Printing the digit from the number in the reverse order**"
   ]
  },
  {
   "cell_type": "code",
   "execution_count": 16,
   "metadata": {},
   "outputs": [
    {
     "name": "stdout",
     "output_type": "stream",
     "text": [
      "1\n",
      "7\n",
      "5\n",
      "4\n"
     ]
    }
   ],
   "source": [
    "number = 4571 # 457 # 45 # 4\n",
    "# 1\n",
    "# 7\n",
    "# 5\n",
    "# 4\n",
    "\n",
    "for X in range(0, 4):\n",
    "    print(number % 10)\n",
    "    number = int(number/10)"
   ]
  },
  {
   "cell_type": "markdown",
   "metadata": {},
   "source": [
    "#### While loop in python\n",
    "\n",
    "##### syntax\n",
    "\n",
    "`while condtion:\n",
    "    code\n",
    "`\n",
    "\n",
    "**while loop continues to execute untill the given condition become false**"
   ]
  },
  {
   "cell_type": "code",
   "execution_count": null,
   "metadata": {},
   "outputs": [],
   "source": [
    "# While loop example\n",
    "\n",
    "i = 0\n",
    "while i <= 10:\n",
    "    print(i)\n",
    "    i=i+1 # i(0) + 1 --> increment i value by 1 and store it to i\n"
   ]
  },
  {
   "cell_type": "markdown",
   "metadata": {},
   "source": [
    "**Dictionaries in python**\n",
    "\n",
    "*Dictionaries in python are stored key:value pairs*\n",
    "\n",
    "**Syntax**\n",
    "`{key:value, key:value}` **{'name':'Raju', 'age': 12}**"
   ]
  },
  {
   "cell_type": "code",
   "execution_count": 46,
   "metadata": {},
   "outputs": [
    {
     "name": "stdout",
     "output_type": "stream",
     "text": [
      "Raju\n"
     ]
    }
   ],
   "source": [
    "student1 = {\n",
    "    'fullname':'Raju',\n",
    "    'age': 12,\n",
    "    'height':167,\n",
    "    'weight':98\n",
    "}\n",
    "\n",
    "print(student1['fullname'])"
   ]
  },
  {
   "cell_type": "markdown",
   "metadata": {},
   "source": [
    "**Create a class(cls) dictionary which has following prperties ('section', 'strength', 'present', 'absent')**"
   ]
  },
  {
   "cell_type": "code",
   "execution_count": 29,
   "metadata": {},
   "outputs": [
    {
     "name": "stdout",
     "output_type": "stream",
     "text": [
      "{'section': 'B', 'strength': 50, 'present': 45, 'absent': 5}\n"
     ]
    }
   ],
   "source": [
    "cls = {\n",
    "    'section':'B',\n",
    "    'strength':50,\n",
    "    'present':45,\n",
    "    'absent':5\n",
    "}\n",
    "print(cls)"
   ]
  },
  {
   "cell_type": "markdown",
   "metadata": {},
   "source": [
    "**Methods in dictionaries**\n",
    "* `keys()` -> return all the keys in the dictionaries\n",
    "* `values()` -> return all the values in the dictionaries\n",
    "* `items()` -> return all the key,values in the dictionaries as list\n",
    "* `update()` -> add new key,values pair to the dictionaries\n",
    "* `pop()` -> remove key,values pair from the dictionaries\n",
    "* `clear()` -> clear all key,values pair from the dictionaries\n",
    "\n"
   ]
  },
  {
   "cell_type": "code",
   "execution_count": 31,
   "metadata": {},
   "outputs": [
    {
     "name": "stdout",
     "output_type": "stream",
     "text": [
      "dict_keys(['section', 'strength', 'present', 'absent'])\n"
     ]
    }
   ],
   "source": [
    "print(cls.keys())"
   ]
  },
  {
   "cell_type": "code",
   "execution_count": 32,
   "metadata": {},
   "outputs": [
    {
     "name": "stdout",
     "output_type": "stream",
     "text": [
      "dict_values(['B', 50, 45, 5])\n"
     ]
    }
   ],
   "source": [
    "print(cls.values())"
   ]
  },
  {
   "cell_type": "code",
   "execution_count": 35,
   "metadata": {},
   "outputs": [
    {
     "name": "stdout",
     "output_type": "stream",
     "text": [
      "dict_items([('section', 'B'), ('strength', 50), ('present', 45), ('absent', 5)])\n"
     ]
    }
   ],
   "source": [
    "print(cls.items())"
   ]
  },
  {
   "cell_type": "code",
   "execution_count": 43,
   "metadata": {},
   "outputs": [
    {
     "name": "stdout",
     "output_type": "stream",
     "text": [
      "{'section': 'B', 'strength': 50, 'present': 45, 'absent': 5, 'newlyadded': 'newone'}\n"
     ]
    }
   ],
   "source": [
    "cls.update({'newlyadded':'newone'})\n",
    "print(cls)"
   ]
  },
  {
   "cell_type": "code",
   "execution_count": 44,
   "metadata": {},
   "outputs": [
    {
     "name": "stdout",
     "output_type": "stream",
     "text": [
      "{'section': 'B', 'strength': 50, 'present': 45, 'absent': 5}\n"
     ]
    }
   ],
   "source": [
    "cls.pop('newlyadded')\n",
    "print(cls)"
   ]
  },
  {
   "cell_type": "code",
   "execution_count": 45,
   "metadata": {},
   "outputs": [
    {
     "name": "stdout",
     "output_type": "stream",
     "text": [
      "{}\n"
     ]
    }
   ],
   "source": [
    "cls.clear()\n",
    "print(cls)"
   ]
  },
  {
   "cell_type": "code",
   "execution_count": null,
   "metadata": {},
   "outputs": [],
   "source": []
  }
 ],
 "metadata": {
  "kernelspec": {
   "display_name": "Python 3.8.13 ('rit_python')",
   "language": "python",
   "name": "python3"
  },
  "language_info": {
   "codemirror_mode": {
    "name": "ipython",
    "version": 3
   },
   "file_extension": ".py",
   "mimetype": "text/x-python",
   "name": "python",
   "nbconvert_exporter": "python",
   "pygments_lexer": "ipython3",
   "version": "3.8.13"
  },
  "orig_nbformat": 4,
  "vscode": {
   "interpreter": {
    "hash": "ac333bc5dc93f4a921f2c56470e56a67ccf5f79955049e67f9cfa4d7dee79d8a"
   }
  }
 },
 "nbformat": 4,
 "nbformat_minor": 2
}
